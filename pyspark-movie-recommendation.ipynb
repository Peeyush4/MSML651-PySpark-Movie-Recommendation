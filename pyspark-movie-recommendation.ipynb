{
 "cells": [
  {
   "cell_type": "code",
   "execution_count": 1,
   "metadata": {},
   "outputs": [],
   "source": [
    "from pyspark.sql import SparkSession\n",
    "from pyspark.sql import functions as F\n",
    "from pyspark.ml import Pipeline, PipelineModel\n",
    "from pyspark.ml.evaluation import RegressionEvaluator, ClusteringEvaluator\n",
    "from pyspark.ml.feature import StringIndexer, OneHotEncoder, VectorAssembler\n",
    "from pyspark.ml.clustering import KMeans\n",
    "from pyspark.ml.recommendation import ALS, ALSModel\n",
    "from pyspark.ml.tuning import CrossValidator, ParamGridBuilder, CrossValidatorModel\n",
    "from pyspark.mllib.linalg import SparseMatrix\n",
    "from pyspark.ml.linalg import SparseVector\n",
    "from pyspark.ml.evaluation import RankingEvaluator\n",
    "from pyspark.sql import Row\n",
    "import datetime\n",
    "import numpy as np  \n",
    "import matplotlib.pyplot as plt\n",
    "import copy\n",
    "import sys\n",
    "import os\n",
    "from pyspark.sql.functions import array_intersect"
   ]
  },
  {
   "cell_type": "code",
   "execution_count": 2,
   "metadata": {},
   "outputs": [],
   "source": [
    "os.environ[\"PYSPARK_PYTHON\"] = sys.executable\n",
    "project_path = os.path.abspath(os.path.dirname(\".\"))\n",
    "data_path = os.path.join(project_path, \"ml-32m\")\n",
    "java_path = \"C:\\\\Program Files\\\\Java\\\\jdk1.8.0_202\"\n",
    "hadoop_path = \"C:\\\\Program Files\\\\Hadoop\\\\hadoop-3.3.6\\\\bin\"\n",
    "os.environ[\"HADOOP_HOME\"] = os.path.dirname(hadoop_path)\n",
    "os.environ[\"PATH\"] += os.pathsep + hadoop_path"
   ]
  },
  {
   "cell_type": "code",
   "execution_count": 3,
   "metadata": {},
   "outputs": [],
   "source": [
    "spark = SparkSession.builder \\\n",
    "    .appName(\"ExampleApp\") \\\n",
    "    .config(\"spark.ui.showConsoleProgress\", \"true\") \\\n",
    "    .config(\"spark.executorEnv.JAVA_HOME\", java_path) \\\n",
    "    .config(\"spark.driverEnv.JAVA_HOME\", java_path) \\\n",
    "    .config(\"spark.driver.memory\", \"16g\") \\\n",
    "    .config(\"spark.executor.memory\", \"16g\") \\\n",
    "    .config(\"spark.executor.resource.gpu.amount\", 6) \\\n",
    "    .config(\"spark.hadoop.fs.file.impl\", \"org.apache.hadoop.fs.LocalFileSystem\") \\\n",
    "    .config(\"spark.hadoop.fs.file.impl.disable.cache\", \"true\") \\\n",
    "    .config(\"spark.hadoop.home.dir\", hadoop_path) \\\n",
    "    .getOrCreate()"
   ]
  },
  {
   "cell_type": "code",
   "execution_count": 4,
   "metadata": {},
   "outputs": [
    {
     "name": "stdout",
     "output_type": "stream",
     "text": [
      "+-------+----------------+--------------------+\n",
      "|movieId|           title|              genres|\n",
      "+-------+----------------+--------------------+\n",
      "|      1|Toy Story (1995)|Adventure|Animati...|\n",
      "+-------+----------------+--------------------+\n",
      "only showing top 1 row\n",
      "\n",
      "+-------+-------+------+\n",
      "|movieId| imdbId|tmdbId|\n",
      "+-------+-------+------+\n",
      "|      1|0114709|   862|\n",
      "+-------+-------+------+\n",
      "only showing top 1 row\n",
      "\n",
      "+------+-------+------+---------+\n",
      "|userId|movieId|rating|timestamp|\n",
      "+------+-------+------+---------+\n",
      "|     1|     17|   4.0|944249077|\n",
      "+------+-------+------+---------+\n",
      "only showing top 1 row\n",
      "\n",
      "+------+-------+-----------+----------+\n",
      "|userId|movieId|        tag| timestamp|\n",
      "+------+-------+-----------+----------+\n",
      "|    22|  26479|Kevin Kline|1583038886|\n",
      "+------+-------+-----------+----------+\n",
      "only showing top 1 row\n",
      "\n"
     ]
    },
    {
     "data": {
      "text/plain": [
       "(None, None, None, None)"
      ]
     },
     "execution_count": 4,
     "metadata": {},
     "output_type": "execute_result"
    }
   ],
   "source": [
    "ratings = (spark.read.option(\"header\", True)\n",
    "                .csv(os.path.join(data_path, \"ratings.csv\")))\n",
    "links = (spark.read.option(\"header\", True)\n",
    "              .csv(os.path.join(data_path, \"links.csv\")))\n",
    "movies = (spark.read.option(\"header\", True)\n",
    "               .csv(os.path.join(data_path, \"movies.csv\")))\n",
    "movies = movies.withColumn(\n",
    "    \"genres\",\n",
    "    F.when(F.col(\"movieId\") == 284105, \"Comedy\") \\\n",
    "     .otherwise(F.col(\"genres\"))\n",
    ")\n",
    "tags = (spark.read.option(\"header\", True)\n",
    "             .csv(os.path.join(data_path, \"tags.csv\")))\n",
    "movies.show(1), links.show(1), ratings.show(1), tags.show(1)"
   ]
  },
  {
   "cell_type": "markdown",
   "metadata": {},
   "source": [
    "Identification keys\n",
    "\n",
    "id | type | present in | description\n",
    "---|------|---------|------------\n",
    "userId | int | ratings, tags | unique identifier for the user\n",
    "movieId | int | links, movies, ratings, tags  | unique identifier for the movie\n",
    "rating | float | ratings | rating given by the user to the movie\n",
    "timestamp | int | ratings | timestamp of the rating\n",
    "tag | str | tags | tag given by the user to the movie\n",
    "title | str | movies | title of the movie\n",
    "genres | str | movies | genres of the movie\n",
    "imdbId | int | links | unique identifier for the movie in IMDb\n",
    "tmdbId | int | links | TMDb identifier for the movie\n"
   ]
  },
  {
   "cell_type": "code",
   "execution_count": 5,
   "metadata": {},
   "outputs": [],
   "source": [
    "ratings = (ratings.withColumn(\"rating\", ratings[\"rating\"].cast(\"float\"))\n",
    "                  .withColumn(\"userId\", ratings[\"userId\"].cast(\"int\"))\n",
    "                  .withColumn(\"movieId\", ratings[\"movieId\"].cast(\"int\"))\n",
    "        )\n",
    "movies = movies.withColumn(\"movieId\", movies[\"movieId\"].cast(\"int\"))"
   ]
  },
  {
   "cell_type": "markdown",
   "metadata": {},
   "source": [
    "```python\n",
    "movie_data = movies.join(links, \"movieId\", \"outer\") \n",
    "movie_data.show(5)\n",
    "```\n"
   ]
  },
  {
   "cell_type": "markdown",
   "metadata": {},
   "source": [
    "## Statistics"
   ]
  },
  {
   "cell_type": "code",
   "execution_count": null,
   "metadata": {},
   "outputs": [
    {
     "name": "stdout",
     "output_type": "stream",
     "text": [
      "Number of ratings:  32000204\n",
      "Number of users:  200948\n",
      "Number of movies:  84432\n",
      "Matrix sparsity:  0.18860881306254365\n",
      "\n",
      "Average number of ratings per user:  159.24619304496684\n",
      "Average number of ratings per movie:  379.0056376729202\n",
      "Mean rating: 3.5403956487277393\n",
      "Mean rating per user: 3.7043683389640747\n",
      "Mean rating per movie: 3.005082384974346\n"
     ]
    }
   ],
   "source": [
    "number_of_users = ratings.select(\"userId\").distinct().count()\n",
    "number_of_movies = ratings.select(\"movieId\").distinct().count()\n",
    "number_of_ratings = ratings.count()\n",
    "print(\"Number of ratings: \", number_of_ratings)\n",
    "print(\"Number of users: \", number_of_users)\n",
    "print(\"Number of movies: \", number_of_movies)\n",
    "\n",
    "matrix_sparsity = (ratings.count() / (number_of_users * number_of_movies)) * 100\n",
    "print(\"Matrix sparsity: \", matrix_sparsity)\n",
    "\n",
    "print()\n",
    "users_grouped = ratings.groupBy(\"userId\")\n",
    "movies_grouped = ratings.groupBy(\"movieId\")\n",
    "users_rated = users_grouped.count()\n",
    "movies_rated = movies_grouped.count()\n",
    "print(\"Average number of ratings per user: \", users_rated.agg(F.mean(\"count\")).collect()[0][0])\n",
    "print(\"Average number of ratings per movie: \", movies_rated.agg(F.mean(\"count\")).collect()[0][0])\n",
    "print(\"Mean rating:\", ratings.agg(F.mean(\"rating\")).collect()[0][0])\n",
    "print(\"Mean rating per user:\", users_grouped.agg(F.mean(\"rating\")).agg(F.mean(\"avg(rating)\")).collect()[0][0])\n",
    "print(\"Mean rating per movie:\", movies_grouped.agg(F.mean(\"rating\")).agg(F.mean(\"avg(rating)\")).collect()[0][0])    "
   ]
  },
  {
   "cell_type": "markdown",
   "metadata": {},
   "source": [
    "## Data Split\n",
    "\n",
    "We need to observe whether the data is dependent of the time. If it is dependent, we need to split the data into training and test sets based on time. If it is not dependent, we can randomly split the data into training and test sets using `TrainValidationSplit` from the `pyspark.ml.tuning` module. We will implement this in the next steps to ensure our model is trained effectively based on the data characteristics."
   ]
  },
  {
   "cell_type": "code",
   "execution_count": 10,
   "metadata": {},
   "outputs": [
    {
     "name": "stdout",
     "output_type": "stream",
     "text": [
      "+----+------------------+-----------+\n",
      "|year|        avg_rating|num_ratings|\n",
      "+----+------------------+-----------+\n",
      "|1995|              3.75|          4|\n",
      "|1996| 3.546167818775827|    1571755|\n",
      "|1997| 3.588877064986213|     685053|\n",
      "|1998|3.5139587387572564|     301639|\n",
      "|1999|3.6165843810879057|    1174973|\n",
      "|2000|3.5765982885160987|    1912843|\n",
      "|2001| 3.533412327380055|    1160425|\n",
      "|2002|3.4843305279265495|     849550|\n",
      "|2003|3.4744290444191424|    1010893|\n",
      "|2004|3.4303692033580697|    1139345|\n",
      "|2005|3.4341227737238778|    1752085|\n",
      "|2006|3.4658399484224525|    1141582|\n",
      "|2007|3.4704753998290805|    1023875|\n",
      "|2008| 3.540532513412135|    1117831|\n",
      "|2009| 3.507221597932352|     889900|\n",
      "|2010| 3.534047079568612|     859736|\n",
      "|2011|3.5623316781542402|     729629|\n",
      "|2012|3.6088359437179807|     696066|\n",
      "|2013|3.6453152802441684|     562563|\n",
      "|2014|3.6117663393525197|     518564|\n",
      "+----+------------------+-----------+\n",
      "only showing top 20 rows\n",
      "\n"
     ]
    }
   ],
   "source": [
    "ratings = ratings.withColumn(\"year\", F.year(F.from_unixtime(F.col(\"timestamp\"))))\n",
    "yearly_trends = (ratings.groupBy(\"year\")\n",
    "                        .agg(\n",
    "                            F.avg(\"rating\").alias(\"avg_rating\"), \n",
    "                            F.count(\"*\").alias(\"num_ratings\")\n",
    "                        )\n",
    "                        .orderBy(\"year\")\n",
    "                )\n",
    "yearly_trends.show()"
   ]
  },
  {
   "cell_type": "code",
   "execution_count": 11,
   "metadata": {},
   "outputs": [
    {
     "name": "stdout",
     "output_type": "stream",
     "text": [
      "+------------------+-----------------+-------------------+----------+------------------+\n",
      "|       mean_rating|    median_rating|         std_rating|max_rating|        min_rating|\n",
      "+------------------+-----------------+-------------------+----------+------------------+\n",
      "|3.5496523638495314|3.548434711534148|0.06706141615685407|      3.75|3.4303692033580697|\n",
      "+------------------+-----------------+-------------------+----------+------------------+\n",
      "\n"
     ]
    }
   ],
   "source": [
    "yearly_trends.agg(F.mean('avg_rating').alias(\"mean_rating\"), \n",
    "                  F.median('avg_rating').alias(\"median_rating\"), \n",
    "                  F.stddev('avg_rating').alias(\"std_rating\"), \n",
    "                  F.max('avg_rating').alias(\"max_rating\"), \n",
    "                  F.min('avg_rating').alias(\"min_rating\")).show()"
   ]
  },
  {
   "cell_type": "code",
   "execution_count": 12,
   "metadata": {},
   "outputs": [
    {
     "data": {
      "image/png": "[encoded data removed]",
      "text/plain": [
       "<Figure size 640x480 with 1 Axes>"
      ]
     },
     "metadata": {},
     "output_type": "display_data"
    }
   ],
   "source": [
    "mean_rating = ratings.agg(F.mean(\"rating\")).collect()[0][0]\n",
    "yearly_trends.toPandas().plot(x=\"year\", y=\"avg_rating\", kind=\"bar\", title=\"Average Rating per Year\")\n",
    "plt.axhline(mean_rating, color='r', linestyle='--', label='Mean Rating')\n",
    "plt.xlabel(\"Year\")\n",
    "plt.legend()\n",
    "plt.title(\"Average Rating per Year with Mean Rating Line\")\n",
    "plt.show()"
   ]
  },
  {
   "cell_type": "markdown",
   "metadata": {},
   "source": [
    "We can observe that the data is independent of the time. Therefore, we can randomly split the data into training and test sets using `TrainValidationSplit` from the `pyspark.ml.tuning` module."
   ]
  },
  {
   "cell_type": "code",
   "execution_count": 6,
   "metadata": {},
   "outputs": [],
   "source": [
    "train_ratings, test_ratings = ratings.randomSplit([0.8, 0.2], seed=42)"
   ]
  },
  {
   "cell_type": "markdown",
   "metadata": {},
   "source": [
    "## Data exploration"
   ]
  },
  {
   "cell_type": "code",
   "execution_count": 10,
   "metadata": {},
   "outputs": [
    {
     "name": "stdout",
     "output_type": "stream",
     "text": [
      "Number of ratings:  25600446\n",
      "Number of users:  200948\n",
      "Number of movies:  80185\n",
      "Matrix sparsity:  0.1588805409555812\n",
      "\n",
      "Average number of ratings per user:  127.39836176523279\n",
      "Average number of ratings per movie:  319.26726943942134\n",
      "Mean rating: 3.5403927142519316\n",
      "Mean rating per user: 3.7044770806023575\n",
      "Mean rating per movie: 3.015131601139284\n"
     ]
    }
   ],
   "source": [
    "number_of_users = train_ratings.select(\"userId\").distinct().count()\n",
    "number_of_movies = train_ratings.select(\"movieId\").distinct().count()\n",
    "number_of_ratings = train_ratings.count()\n",
    "print(\"Number of ratings: \", number_of_ratings)\n",
    "print(\"Number of users: \", number_of_users)\n",
    "print(\"Number of movies: \", number_of_movies)\n",
    "\n",
    "matrix_sparsity = (train_ratings.count() / (number_of_users * number_of_movies)) * 100\n",
    "print(\"Matrix sparsity: \", matrix_sparsity)\n",
    "\n",
    "print()\n",
    "users_grouped = train_ratings.groupBy(\"userId\")\n",
    "movies_grouped = train_ratings.groupBy(\"movieId\")\n",
    "users_rated = users_grouped.count()\n",
    "movies_rated = movies_grouped.count()\n",
    "print(\"Average number of ratings per user: \", users_rated.agg(F.mean(\"count\")).collect()[0][0])\n",
    "print(\"Average number of ratings per movie: \", movies_rated.agg(F.mean(\"count\")).collect()[0][0])\n",
    "print(\"Mean rating:\", train_ratings.agg(F.mean(\"rating\")).collect()[0][0])\n",
    "print(\"Mean rating per user:\", users_grouped.agg(F.mean(\"rating\")).agg(F.mean(\"avg(rating)\")).collect()[0][0])\n",
    "print(\"Mean rating per movie:\", movies_grouped.agg(F.mean(\"rating\")).agg(F.mean(\"avg(rating)\")).collect()[0][0])    "
   ]
  },
  {
   "cell_type": "markdown",
   "metadata": {},
   "source": [
    "Matrix is sparse enough for collaborative filtering."
   ]
  },
  {
   "cell_type": "code",
   "execution_count": 11,
   "metadata": {},
   "outputs": [
    {
     "data": {
      "text/plain": [
       "<Axes: xlabel='rating'>"
      ]
     },
     "execution_count": 11,
     "metadata": {},
     "output_type": "execute_result"
    },
    {
     "data": {
      "image/png": "[encoded data removed]",
      "text/plain": [
       "<Figure size 640x480 with 1 Axes>"
      ]
     },
     "metadata": {},
     "output_type": "display_data"
    }
   ],
   "source": [
    "ratings_distribution = train_ratings.groupBy(\"rating\").count().toPandas().sort_values(\"rating\")\n",
    "ratings_distribution.plot(x=\"rating\", y=\"count\", kind=\"bar\")"
   ]
  },
  {
   "cell_type": "markdown",
   "metadata": {},
   "source": [
    "Here, we can observe that the ratings have a skewed distribution, with most ratings being 3 or 4 stars. In this case, we can use the `median` as a measure of central tendency.\n",
    "\n"
   ]
  },
  {
   "cell_type": "code",
   "execution_count": 12,
   "metadata": {},
   "outputs": [],
   "source": [
    "user_count = users_grouped.count()\n",
    "user_count_df = user_count.toPandas()"
   ]
  },
  {
   "cell_type": "code",
   "execution_count": 13,
   "metadata": {},
   "outputs": [
    {
     "data": {
      "image/png": "[encoded data removed]",
      "text/plain": [
       "<Figure size 1800x600 with 3 Axes>"
      ]
     },
     "metadata": {},
     "output_type": "display_data"
    }
   ],
   "source": [
    "plt.figure(figsize=(18, 6))\n",
    "plt.subplot(1, 3, 1)\n",
    "user_count_df[\"count\"].hist(bins=250, edgecolor=\"black\")\n",
    "plt.title(\"Distribution of Ratings per User\")\n",
    "plt.xlabel(\"Number of Ratings\")\n",
    "plt.ylabel(\"Number of Users\")\n",
    "\n",
    "\n",
    "plt.subplot(1, 3, 2)\n",
    "# Determine the bin edges\n",
    "bin_edges = user_count_df[\"count\"].quantile([i / 250 for i in range(200)])  # First 10 bins\n",
    "\n",
    "# Filter out data within the first 10 bins\n",
    "bin_size = (user_count_df['count'].max() - user_count_df['count'].min()) / 250 \n",
    "filtered_user_count_df = user_count_df[user_count_df[\"count\"] > bin_size * 10]\n",
    "\n",
    "# Plot the histogram\n",
    "filtered_user_count_df[\"count\"].hist(bins=240)  # Adjust bins accordingly\n",
    "plt.title(\"Distribution of Ratings per User (Excluding First 10 Bins)\")\n",
    "plt.xlabel(\"Number of Ratings\")\n",
    "plt.ylabel(\"Number of Users\")\n",
    "\n",
    "plt.subplot(1, 3, 3)\n",
    "# Filter out data within the first 40 bins\n",
    "bin_size = (user_count_df['count'].max() - user_count_df['count'].min()) / 250 \n",
    "filtered_user_count_df = user_count_df[user_count_df[\"count\"] > bin_size * 30]\n",
    "\n",
    "# Plot the histogram\n",
    "filtered_user_count_df[\"count\"].hist(bins=220)  # Adjust bins accordingly\n",
    "plt.title(\"Distribution of Ratings per User (Excluding First 40 Bins)\")\n",
    "plt.xlabel(\"Number of Ratings\")\n",
    "plt.ylabel(\"Number of Users\")\n",
    "plt.show()"
   ]
  },
  {
   "cell_type": "markdown",
   "metadata": {},
   "source": [
    "Many users have rated only a few movies, and many movies have been rated by only a few users."
   ]
  },
  {
   "cell_type": "code",
   "execution_count": 12,
   "metadata": {},
   "outputs": [
    {
     "ename": "ImportError",
     "evalue": "Pandas >= 1.0.5 must be installed; however, it was not found.",
     "output_type": "error",
     "traceback": [
      "\u001b[31m---------------------------------------------------------------------------\u001b[39m",
      "\u001b[31mModuleNotFoundError\u001b[39m                       Traceback (most recent call last)",
      "\u001b[36mFile \u001b[39m\u001b[32mc:\\MY FILES\\UMD\\Sem 4\\MSML651 Big Data Analytics\\.venv\\Lib\\site-packages\\pyspark\\sql\\pandas\\utils.py:27\u001b[39m, in \u001b[36mrequire_minimum_pandas_version\u001b[39m\u001b[34m()\u001b[39m\n\u001b[32m     26\u001b[39m \u001b[38;5;28;01mtry\u001b[39;00m:\n\u001b[32m---> \u001b[39m\u001b[32m27\u001b[39m     \u001b[38;5;28;01mimport\u001b[39;00m\u001b[38;5;250m \u001b[39m\u001b[34;01mpandas\u001b[39;00m\n\u001b[32m     29\u001b[39m     have_pandas = \u001b[38;5;28;01mTrue\u001b[39;00m\n",
      "\u001b[31mModuleNotFoundError\u001b[39m: No module named 'pandas'",
      "\nThe above exception was the direct cause of the following exception:\n",
      "\u001b[31mImportError\u001b[39m                               Traceback (most recent call last)",
      "\u001b[36mCell\u001b[39m\u001b[36m \u001b[39m\u001b[32mIn[12]\u001b[39m\u001b[32m, line 2\u001b[39m\n\u001b[32m      1\u001b[39m movies_count = movies_grouped.count()\n\u001b[32m----> \u001b[39m\u001b[32m2\u001b[39m movies_count_df = \u001b[43mmovies_count\u001b[49m\u001b[43m.\u001b[49m\u001b[43mtoPandas\u001b[49m\u001b[43m(\u001b[49m\u001b[43m)\u001b[49m\n",
      "\u001b[36mFile \u001b[39m\u001b[32mc:\\MY FILES\\UMD\\Sem 4\\MSML651 Big Data Analytics\\.venv\\Lib\\site-packages\\pyspark\\sql\\pandas\\conversion.py:86\u001b[39m, in \u001b[36mPandasConversionMixin.toPandas\u001b[39m\u001b[34m(self)\u001b[39m\n\u001b[32m     83\u001b[39m \u001b[38;5;28;01mfrom\u001b[39;00m\u001b[38;5;250m \u001b[39m\u001b[34;01mpyspark\u001b[39;00m\u001b[34;01m.\u001b[39;00m\u001b[34;01msql\u001b[39;00m\u001b[34;01m.\u001b[39;00m\u001b[34;01mpandas\u001b[39;00m\u001b[34;01m.\u001b[39;00m\u001b[34;01mtypes\u001b[39;00m\u001b[38;5;250m \u001b[39m\u001b[38;5;28;01mimport\u001b[39;00m _create_converter_to_pandas\n\u001b[32m     84\u001b[39m \u001b[38;5;28;01mfrom\u001b[39;00m\u001b[38;5;250m \u001b[39m\u001b[34;01mpyspark\u001b[39;00m\u001b[34;01m.\u001b[39;00m\u001b[34;01msql\u001b[39;00m\u001b[34;01m.\u001b[39;00m\u001b[34;01mpandas\u001b[39;00m\u001b[34;01m.\u001b[39;00m\u001b[34;01mutils\u001b[39;00m\u001b[38;5;250m \u001b[39m\u001b[38;5;28;01mimport\u001b[39;00m require_minimum_pandas_version\n\u001b[32m---> \u001b[39m\u001b[32m86\u001b[39m \u001b[43mrequire_minimum_pandas_version\u001b[49m\u001b[43m(\u001b[49m\u001b[43m)\u001b[49m\n\u001b[32m     88\u001b[39m \u001b[38;5;28;01mimport\u001b[39;00m\u001b[38;5;250m \u001b[39m\u001b[34;01mpandas\u001b[39;00m\u001b[38;5;250m \u001b[39m\u001b[38;5;28;01mas\u001b[39;00m\u001b[38;5;250m \u001b[39m\u001b[34;01mpd\u001b[39;00m\n\u001b[32m     90\u001b[39m jconf = \u001b[38;5;28mself\u001b[39m.sparkSession._jconf\n",
      "\u001b[36mFile \u001b[39m\u001b[32mc:\\MY FILES\\UMD\\Sem 4\\MSML651 Big Data Analytics\\.venv\\Lib\\site-packages\\pyspark\\sql\\pandas\\utils.py:34\u001b[39m, in \u001b[36mrequire_minimum_pandas_version\u001b[39m\u001b[34m()\u001b[39m\n\u001b[32m     32\u001b[39m     raised_error = error\n\u001b[32m     33\u001b[39m \u001b[38;5;28;01mif\u001b[39;00m \u001b[38;5;129;01mnot\u001b[39;00m have_pandas:\n\u001b[32m---> \u001b[39m\u001b[32m34\u001b[39m     \u001b[38;5;28;01mraise\u001b[39;00m \u001b[38;5;167;01mImportError\u001b[39;00m(\n\u001b[32m     35\u001b[39m         \u001b[33m\"\u001b[39m\u001b[33mPandas >= \u001b[39m\u001b[38;5;132;01m%s\u001b[39;00m\u001b[33m must be installed; however, \u001b[39m\u001b[33m\"\u001b[39m \u001b[33m\"\u001b[39m\u001b[33mit was not found.\u001b[39m\u001b[33m\"\u001b[39m % minimum_pandas_version\n\u001b[32m     36\u001b[39m     ) \u001b[38;5;28;01mfrom\u001b[39;00m\u001b[38;5;250m \u001b[39m\u001b[34;01mraised_error\u001b[39;00m\n\u001b[32m     37\u001b[39m \u001b[38;5;28;01mif\u001b[39;00m LooseVersion(pandas.__version__) < LooseVersion(minimum_pandas_version):\n\u001b[32m     38\u001b[39m     \u001b[38;5;28;01mraise\u001b[39;00m \u001b[38;5;167;01mImportError\u001b[39;00m(\n\u001b[32m     39\u001b[39m         \u001b[33m\"\u001b[39m\u001b[33mPandas >= \u001b[39m\u001b[38;5;132;01m%s\u001b[39;00m\u001b[33m must be installed; however, \u001b[39m\u001b[33m\"\u001b[39m\n\u001b[32m     40\u001b[39m         \u001b[33m\"\u001b[39m\u001b[33myour version was \u001b[39m\u001b[38;5;132;01m%s\u001b[39;00m\u001b[33m.\u001b[39m\u001b[33m\"\u001b[39m % (minimum_pandas_version, pandas.__version__)\n\u001b[32m     41\u001b[39m     )\n",
      "\u001b[31mImportError\u001b[39m: Pandas >= 1.0.5 must be installed; however, it was not found."
     ]
    }
   ],
   "source": [
    "movies_count = movies_grouped.count()\n",
    "movies_count_df = movies_count.toPandas()"
   ]
  },
  {
   "cell_type": "code",
   "execution_count": 15,
   "metadata": {},
   "outputs": [
    {
     "data": {
      "image/png": "[encoded data removed]",
      "text/plain": [
       "<Figure size 1800x600 with 3 Axes>"
      ]
     },
     "metadata": {},
     "output_type": "display_data"
    }
   ],
   "source": [
    "plt.figure(figsize=(18, 6))\n",
    "plt.subplot(1, 3, 1)\n",
    "movies_count_df[\"count\"].hist(bins=250, edgecolor=\"black\")\n",
    "plt.title(\"Distribution of Ratings per User\")\n",
    "plt.xlabel(\"Number of Ratings\")\n",
    "plt.ylabel(\"Number of Users\")\n",
    "\n",
    "\n",
    "plt.subplot(1, 3, 2)\n",
    "# Determine the bin edges\n",
    "bin_edges = movies_count_df[\"count\"].quantile([i / 250 for i in range(200)])  # First 10 bins\n",
    "\n",
    "# Filter out data within the first 10 bins\n",
    "bin_size = (movies_count_df['count'].max() - movies_count_df['count'].min()) / 250 \n",
    "filtered_movies_count_df = movies_count_df[movies_count_df[\"count\"] > bin_size * 10]\n",
    "\n",
    "# Plot the histogram\n",
    "filtered_movies_count_df[\"count\"].hist(bins=240)  # Adjust bins accordingly\n",
    "plt.title(\"Distribution of Ratings per User (Excluding First 10 Bins)\")\n",
    "plt.xlabel(\"Number of Ratings\")\n",
    "plt.ylabel(\"Number of Users\")\n",
    "\n",
    "plt.subplot(1, 3, 3)\n",
    "# Filter out data within the first 40 bins\n",
    "bin_size = (movies_count_df['count'].max() - movies_count_df['count'].min()) / 250 \n",
    "filtered_movies_count_df = movies_count_df[movies_count_df[\"count\"] > bin_size * 30]\n",
    "\n",
    "# Plot the histogram\n",
    "filtered_movies_count_df[\"count\"].hist(bins=220)  # Adjust bins accordingly\n",
    "plt.title(\"Distribution of Ratings per User (Excluding First 40 Bins)\")\n",
    "plt.xlabel(\"Number of Ratings\")\n",
    "plt.ylabel(\"Number of Users\")\n",
    "plt.show()"
   ]
  },
  {
   "cell_type": "markdown",
   "metadata": {},
   "source": [
    "Long tail: We can observe that movies which are frequently rated by users are few in number. This is a good sign for neighbourhood-based collaborative filtering.\n",
    "\n",
    "In many cases, ratings of these high frequency movies are not representative of the ratings of low-frequency movies. because of the inherent differences in raing patterns of the 2 classes of items. As a result, prediction process may yield misleading results."
   ]
  },
  {
   "cell_type": "markdown",
   "metadata": {},
   "source": [
    "If we provide commonly rated movies as input to the model, it may not be able to learn the rating patterns of low-frequency movies. This is because the model will be biased towards the rating patterns of high-frequency movies and the user may not be able to get the desired recommendations.\n",
    "\n",
    "Therefore, we can utilize the notion of `Inverse User Frequency` to address this issue. This will help us to balance the rating patterns of high-frequency and low-frequency movies. \n",
    "\n",
    "For each movie $j$ with ratings $m_j$ and total number of ratings $m$, we can calculate the inverse user frequency as follows: \n",
    "$$w_j = \\log \\bigg(\\frac{m}{m_j}\\bigg)$$"
   ]
  },
  {
   "cell_type": "code",
   "execution_count": 13,
   "metadata": {},
   "outputs": [
    {
     "name": "stdout",
     "output_type": "stream",
     "text": [
      "+-------+-----+------------------+--------------------+------------------+\n",
      "|movieId|count|            weight|               title|            genres|\n",
      "+-------+-----+------------------+--------------------+------------------+\n",
      "| 183467|    1|17.058120331173033|Treasure Hounds (...|  Children|Fantasy|\n",
      "| 215975|    1|17.058120331173033| Schmeerguntz (1965)|            Comedy|\n",
      "| 263885|    1|17.058120331173033|The Cinderella Ad...|       Crime|Drama|\n",
      "| 235629|    1|17.058120331173033|  At Sundance (1995)|       Documentary|\n",
      "| 267474|    1|17.058120331173033|   The Lodger (1967)|            Comedy|\n",
      "| 138354|    1|17.058120331173033|Scattered Cloud (...|(no genres listed)|\n",
      "| 146118|    1|17.058120331173033|       Benaam (1974)|(no genres listed)|\n",
      "| 139155|    1|17.058120331173033|Un fidanzato per ...|            Comedy|\n",
      "| 225699|    1|17.058120331173033|         Aura (2018)|            Horror|\n",
      "| 272891|    1|17.058120331173033|The Other Woman (...|             Drama|\n",
      "+-------+-----+------------------+--------------------+------------------+\n",
      "only showing top 10 rows\n",
      "\n"
     ]
    }
   ],
   "source": [
    "movie_weights = movies_count.withColumn(\n",
    "    \"weight\", F.log(number_of_ratings / F.col(\"count\")))\n",
    "(movie_weights.join(movies, \"movieId\")\n",
    "              .orderBy(\"weight\", ascending=False)\n",
    "              .show(10))"
   ]
  },
  {
   "cell_type": "code",
   "execution_count": null,
   "metadata": {},
   "outputs": [
    {
     "ename": "NameError",
     "evalue": "name 'movie_weights' is not defined",
     "output_type": "error",
     "traceback": [
      "\u001b[31m---------------------------------------------------------------------------\u001b[39m",
      "\u001b[31mNameError\u001b[39m                                 Traceback (most recent call last)",
      "\u001b[36mCell\u001b[39m\u001b[36m \u001b[39m\u001b[32mIn[8]\u001b[39m\u001b[32m, line 1\u001b[39m\n\u001b[32m----> \u001b[39m\u001b[32m1\u001b[39m sum_of_weights = \u001b[43mmovie_weights\u001b[49m.agg(F.sum(\u001b[33m\"\u001b[39m\u001b[33mweight\u001b[39m\u001b[33m\"\u001b[39m)).collect()[\u001b[32m0\u001b[39m][\u001b[32m0\u001b[39m]\n\u001b[32m      2\u001b[39m movie_weights_normalized = movie_weights.withColumn(\n\u001b[32m      3\u001b[39m     \u001b[33m\"\u001b[39m\u001b[33mweight\u001b[39m\u001b[33m\"\u001b[39m, F.col(\u001b[33m\"\u001b[39m\u001b[33mweight\u001b[39m\u001b[33m\"\u001b[39m) / sum_of_weights\n\u001b[32m      4\u001b[39m )\n",
      "\u001b[31mNameError\u001b[39m: name 'movie_weights' is not defined"
     ]
    }
   ],
   "source": [
    "# sum_of_weights = movie_weights.agg(F.sum(\"weight\")).collect()[0][0]\n",
    "# movie_weights_normalized = movie_weights.withColumn(\n",
    "#     \"weight\", F.col(\"weight\") / sum_of_weights\n",
    "# )"
   ]
  },
  {
   "cell_type": "markdown",
   "metadata": {},
   "source": [
    "## Metrics\n",
    "\n",
    "We will use the following metrics to evaluate the model:\n",
    "- RMSE: Root Mean Squared Error - Robustness of prediction across the range of ratings. Problem with it is it is sensitive to outliers, which can skew the results and lead to misleading conclusions. RMSE is not a true reflection of the average error.\n",
    "- MAE: Mean Absolute Error - Better reflection of the accuracy when the importance of outliers is not high\n",
    "\n",
    "Prediction of accuracies on sparse items is different from prediction of accuracies on dense items. So, to handle this, compute RMSE or MAE separately for all hidden ratings associated with each item and average over the different items in a weighted fashion. This is called weighted RMSE or weighted MAE."
   ]
  },
  {
   "cell_type": "markdown",
   "metadata": {},
   "source": [
    "## Baseline models\n",
    "We will use a simple baseline model to predict the ratings. The model will be based on the average rating of each movie. This is a simple model that can be used as a baseline for more complex models. We will use the average rating of each movie as the predicted rating for that movie. This model is simple and easy to implement, but it can be improved by using more complex models such as collaborative filtering or content-based filtering."
   ]
  },
  {
   "cell_type": "code",
   "execution_count": null,
   "metadata": {},
   "outputs": [],
   "source": [
    "top_movies = (train_ratings\n",
    "              .groupBy(\"movieId\")\n",
    "              .agg(F.avg(\"rating\").alias(\"avg_rating\"))\n",
    "              .orderBy(F.desc(\"avg_rating\"))\n",
    "              .limit(10))"
   ]
  },
  {
   "cell_type": "markdown",
   "metadata": {},
   "source": [
    "```\n",
    "+-------+----------+\n",
    "|movieId|avg_rating|\n",
    "+-------+----------+\n",
    "| 136998|       5.0|\n",
    "| 137038|       5.0|\n",
    "| 136988|       5.0|\n",
    "| 200312|       5.0|\n",
    "| 209821|       5.0|\n",
    "| 137050|       5.0|\n",
    "| 185241|       5.0|\n",
    "| 135350|       5.0|\n",
    "| 124893|       5.0|\n",
    "| 206721|       5.0|\n",
    "+-------+----------+\n",
    "only showing top 10 rows\n",
    "```"
   ]
  },
  {
   "cell_type": "markdown",
   "metadata": {},
   "source": [
    "Explicit feedback implies that the user has rated the movie. \n",
    "\n",
    "\n",
    "Implicit feedback implies that the user has watched the movie but they did not rate. Since we do not have information about the user watching the movie, we will not be able to use implicit feedback. We will only use explicit feedback for the model. \n"
   ]
  },
  {
   "cell_type": "code",
   "execution_count": null,
   "metadata": {},
   "outputs": [
    {
     "name": "stdout",
     "output_type": "stream",
     "text": [
      "Explicit RMSE:  2.0089087300607473\n"
     ]
    }
   ],
   "source": [
    "explicit_baseline = train_ratings.join(\n",
    "    top_movies, train_ratings.movieId == top_movies.movieId,\n",
    ")\n",
    "evaluator = RegressionEvaluator(\n",
    "    labelCol=\"rating\", predictionCol=\"avg_rating\", metricName=\"rmse\"\n",
    ")\n",
    "explicit_rmse = evaluator.evaluate(explicit_baseline)\n",
    "print(\"Explicit RMSE: \", explicit_rmse)"
   ]
  },
  {
   "cell_type": "markdown",
   "metadata": {},
   "source": [
    "```python\n",
    "test_users = test_movie_ratings.select(\"userId\").distinct().select(\"userId\")\n",
    "users_top_movies = test_users.join(top_movies)\n",
    "implicit_baseline = users_top_movies.join(\n",
    "    test_movie_ratings, [\"userId\", \"movieId\"], \"left\"\n",
    ").select(\n",
    "    users_top_movies.userId, \n",
    "    users_top_movies.movieId,\n",
    "    F.when(F.col(\"rating\").isNull(), 0).otherwise(F.col(\"rating\")).alias(\"rating\"),   \n",
    "    users_top_movies.avg_rating\n",
    ")\n",
    "implicit_rmse = evaluator.evaluate(implicit_baseline)\n",
    "print(\"Implicit RMSE: \", implicit_rmse)\n",
    "```"
   ]
  },
  {
   "cell_type": "markdown",
   "metadata": {},
   "source": [
    "### Average rating\n"
   ]
  },
  {
   "cell_type": "code",
   "execution_count": 17,
   "metadata": {},
   "outputs": [
    {
     "name": "stdout",
     "output_type": "stream",
     "text": [
      "RMSE: 0.963402602485829\n",
      "MAE: 0.7422687164034186\n"
     ]
    }
   ],
   "source": [
    "average_movie_rating = (train_ratings\n",
    "              .groupBy(\"movieId\")\n",
    "              .agg(F.avg(\"rating\").alias(\"avg_rating\"))\n",
    "              .orderBy(F.desc(\"avg_rating\"))\n",
    "              ).select(\"movieId\", \"avg_rating\")\n",
    "\n",
    "average_baseline = test_ratings.join(\n",
    "    average_movie_rating, \"movieId\", \"left\"\n",
    ").select(\n",
    "    test_ratings.userId, \n",
    "    test_ratings.movieId,\n",
    "    test_ratings.rating,\n",
    "    F.when(F.col(\"avg_rating\").isNull(), 0).otherwise(F.col(\"avg_rating\")).alias(\"avg_rating\")\n",
    ")\n",
    "rmse_evaluator = RegressionEvaluator(\n",
    "    labelCol=\"rating\", predictionCol=\"avg_rating\", metricName=\"rmse\"\n",
    ")\n",
    "average_rmse = rmse_evaluator.evaluate(average_baseline)\n",
    "mae_evaluator = RegressionEvaluator(\n",
    "    labelCol=\"rating\", predictionCol=\"avg_rating\", metricName=\"mae\"\n",
    ")\n",
    "average_mae = mae_evaluator.evaluate(average_baseline)\n",
    "print(\"RMSE:\", average_rmse)\n",
    "print(\"MAE:\", average_mae)"
   ]
  },
  {
   "cell_type": "code",
   "execution_count": 28,
   "metadata": {},
   "outputs": [
    {
     "name": "stdout",
     "output_type": "stream",
     "text": [
      "Weighted RMSE: 0.9667046754972082\n",
      "Weighted MAE: 0.7460749507679142\n"
     ]
    }
   ],
   "source": [
    "# Step 1: Join weights\n",
    "average_baseline_with_weights = average_baseline.join(\n",
    "    movie_weights, \"movieId\", \"left\"\n",
    ").select(\n",
    "    average_baseline.userId, \n",
    "    average_baseline.movieId,\n",
    "    average_baseline.rating,\n",
    "    average_baseline.avg_rating,\n",
    "    F.when(F.col(\"weight\").isNull(), 0).otherwise(F.col(\"weight\")).alias(\"weight\")\n",
    ")\n",
    "\n",
    "# Step 2: Calculate absolute error\n",
    "mae_predictions = average_baseline_with_weights.withColumn(\n",
    "    \"absolute_error\", F.abs(F.col(\"rating\") - F.col(\"avg_rating\"))\n",
    ")\n",
    "rmse_predictions = average_baseline_with_weights.withColumn(\n",
    "    \"squared_error\", F.pow(F.col(\"rating\") - F.col(\"avg_rating\"), 2)\n",
    ")\n",
    "\n",
    "# Step 3: Multiply absolute error by weight\n",
    "mae_predictions = mae_predictions.withColumn(\n",
    "    \"weighted_error\", F.col(\"absolute_error\") * F.col(\"weight\")\n",
    ")\n",
    "rmse_predictions = rmse_predictions.withColumn(\n",
    "    \"weighted_squared_error\", F.col(\"squared_error\") * F.col(\"weight\")\n",
    ")\n",
    "\n",
    "# Step 4: Calculate Weighted MAE\n",
    "weighted_rmse = rmse_predictions.agg(\n",
    "    F.sqrt((F.sum(\"weighted_squared_error\") / F.sum(\"weight\"))).alias(\"weighted_rmse\")\n",
    ").collect()[0][\"weighted_rmse\"]\n",
    "weighted_mae = mae_predictions.agg(\n",
    "    (F.sum(\"weighted_error\") / F.sum(\"weight\")).alias(\"weighted_mae\")\n",
    ").collect()[0][\"weighted_mae\"]\n",
    "\n",
    "print(\"Weighted RMSE:\", weighted_rmse)\n",
    "print(\"Weighted MAE:\", weighted_mae)"
   ]
  },
  {
   "cell_type": "markdown",
   "metadata": {},
   "source": [
    "### Median rating\n",
    "\n",
    "Since ratings are skewed, I expect the median rating to provide a more accurate reflection of user preferences. We will use median rating as the baseline for the model. This is a simple model that can be used as a baseline for more complex models. We will use the median rating of each movie as the predicted rating for that movie. This model is simple and easy to implement, but it can be improved by using more complex models such as collaborative filtering or content-based filtering.\n"
   ]
  },
  {
   "cell_type": "code",
   "execution_count": 7,
   "metadata": {},
   "outputs": [
    {
     "name": "stdout",
     "output_type": "stream",
     "text": [
      "RMSE: 0.9845125250844892\n",
      "MAE: 0.7224906004258286\n"
     ]
    }
   ],
   "source": [
    "median_movie_rating = (train_ratings\n",
    "              .groupBy(\"movieId\")\n",
    "              .agg(F.median(\"rating\").alias(\"median_rating\"))\n",
    "              .orderBy(F.desc(\"median_rating\"))\n",
    "              ).select(\"movieId\", \"median_rating\")\n",
    "\n",
    "median_baseline = test_ratings.join(\n",
    "    median_movie_rating, \"movieId\", \"left\"\n",
    ").select(\n",
    "    test_ratings.userId, \n",
    "    test_ratings.movieId,\n",
    "    test_ratings.rating,\n",
    "    F.when(F.col(\"median_rating\").isNull(), 0).otherwise(F.col(\"median_rating\")).alias(\"median_rating\")\n",
    ")\n",
    "rmse_evaluator = RegressionEvaluator(\n",
    "    labelCol=\"rating\", predictionCol=\"median_rating\", metricName=\"rmse\"\n",
    ")\n",
    "median_rmse = rmse_evaluator.evaluate(median_baseline)\n",
    "mae_evaluator = RegressionEvaluator(\n",
    "    labelCol=\"rating\", predictionCol=\"median_rating\", metricName=\"mae\"\n",
    ")\n",
    "median_mae = mae_evaluator.evaluate(median_baseline)\n",
    "print(\"RMSE:\", median_rmse)\n",
    "print(\"MAE:\", median_mae)"
   ]
  },
  {
   "cell_type": "code",
   "execution_count": 16,
   "metadata": {},
   "outputs": [
    {
     "name": "stdout",
     "output_type": "stream",
     "text": [
      "Weighted RMSE: 0.9879927932541871\n",
      "Weighted MAE: 0.7264651013046145\n"
     ]
    }
   ],
   "source": [
    "# Step 1: Join weights\n",
    "median_baseline_with_weights = median_baseline.join(\n",
    "    movie_weights, \"movieId\", \"left\"\n",
    ").select(\n",
    "    median_baseline.userId, \n",
    "    median_baseline.movieId,\n",
    "    median_baseline.rating,\n",
    "    median_baseline.median_rating,\n",
    "    F.when(F.col(\"weight\").isNull(), 0).otherwise(F.col(\"weight\")).alias(\"weight\")\n",
    ")\n",
    "\n",
    "# Step 2: Calculate absolute error\n",
    "mae_predictions = median_baseline_with_weights.withColumn(\n",
    "    \"absolute_error\", F.abs(F.col(\"rating\") - F.col(\"median_rating\"))\n",
    ")\n",
    "rmse_predictions = median_baseline_with_weights.withColumn(\n",
    "    \"squared_error\", F.pow(F.col(\"rating\") - F.col(\"median_rating\"), 2)\n",
    ")\n",
    "\n",
    "# Step 3: Multiply absolute error by weight\n",
    "mae_predictions = mae_predictions.withColumn(\n",
    "    \"weighted_error\", F.col(\"absolute_error\") * F.col(\"weight\")\n",
    ")\n",
    "rmse_predictions = rmse_predictions.withColumn(\n",
    "    \"weighted_squared_error\", F.col(\"squared_error\") * F.col(\"weight\")\n",
    ")\n",
    "\n",
    "# Step 4: Calculate Weighted MAE\n",
    "weighted_rmse = rmse_predictions.agg(\n",
    "    F.sqrt((F.sum(\"weighted_squared_error\") / F.sum(\"weight\"))).alias(\"weighted_rmse\")\n",
    ").collect()[0][\"weighted_rmse\"]\n",
    "weighted_mae = mae_predictions.agg(\n",
    "    (F.sum(\"weighted_error\") / F.sum(\"weight\")).alias(\"weighted_mae\")\n",
    ").collect()[0][\"weighted_mae\"]\n",
    "\n",
    "print(\"Weighted RMSE:\", weighted_rmse)\n",
    "print(\"Weighted MAE:\", weighted_mae)"
   ]
  },
  {
   "cell_type": "markdown",
   "metadata": {},
   "source": [
    "### KNN\n",
    "\n",
    "We can use User-based collaborative filtering to predict the ratings for the movies. We will use the following measures to compute the similarity between users:\n",
    "- Pearson coefficient (Mean-centered rating): Subtracting the mean from the ratings of each user and then computing the correlation between the ratings of the two users. This is a good measure of similarity between users.\n",
    "- Z score (Normalized rating): Subtracting the mean from the ratings of each user and then dividing by the standard deviation of the ratings of that user. This is a good measure of similarity between users when the ratings are not normally distributed.\n",
    "- Cosine similarity: Computing the cosine of the angle between the ratings of the two users. This is a good measure of similarity between users when the ratings are not normally distributed. I believe this is not the best measure because some users provide very high ratings and some users provide very low ratings. This can skew the results and lead to misleading conclusions.\n",
    "- Weighted Pearson coefficient: Impact of long tail is huge. So, we will use weighted Pearson coefficient to compute the similarity between users. This is a good measure of similarity between users when the ratings are not normally distributed. We will use this measure to compute the similarity between users and then use the similarity to predict the ratings for the movies.\n",
    "\n",
    "We can use Movie-based collaborative filtering to predict the ratings for the movies. We will use the following measures to compute the similarity between movies:\n",
    "- Adjusted cosine similarity: Subtracting the mean from the ratings of each movie and then computing the correlation between the ratings of the two movies. This is a good measure of similarity between movies.\n",
    "- Pearson coefficient (Mean-centered rating): Subtracting the mean from the ratings of each movie and then computing the correlation between the ratings of the two movies. This is a good measure of similarity between movies. But adjusted cosine similarity is better than this measure.\n",
    "\n",
    "Movie-based collaborative filtering is better than user-based collaborative filtering because there are many users who have rated only a few movies and many movies which have been rated by only a few users and a new movie can be suggested if the movie is similar to the movies that the user has already rated. This is not possible with user-based collaborative filtering because there are many users who have rated only a few movies and many movies which have been rated by only a few users. So, we will use movie-based collaborative filtering to predict the ratings for the movies."
   ]
  },
  {
   "cell_type": "code",
   "execution_count": 46,
   "metadata": {},
   "outputs": [
    {
     "name": "stdout",
     "output_type": "stream",
     "text": [
      "+-------+------------------+------+---------+---------+--------+------+-----+-----------+-----+-------+---------+------+----+-------+-------+-------+------+--------+---+-------+\n",
      "|movieId|(no genres listed)|action|adventure|animation|children|comedy|crime|documentary|drama|fantasy|film-noir|horror|imax|musical|mystery|romance|sci-fi|thriller|war|western|\n",
      "+-------+------------------+------+---------+---------+--------+------+-----+-----------+-----+-------+---------+------+----+-------+-------+-------+------+--------+---+-------+\n",
      "| 147414|                 0|     1|        0|        0|       0|     0|    0|          0|    1|      0|        0|     0|   0|      0|      0|      1|     0|       1|  0|      0|\n",
      "| 151859|                 0|     0|        1|        0|       0|     0|    1|          0|    0|      0|        0|     0|   0|      0|      1|      0|     0|       0|  0|      0|\n",
      "| 198607|                 0|     0|        0|        1|       0|     1|    0|          0|    0|      0|        0|     0|   0|      0|      0|      0|     0|       0|  0|      0|\n",
      "+-------+------------------+------+---------+---------+--------+------+-----+-----------+-----+-------+---------+------+----+-------+-------+-------+------+--------+---+-------+\n",
      "only showing top 3 rows\n",
      "\n"
     ]
    }
   ],
   "source": [
    "movies_onehot = movies.withColumn(\"genres\", F.lower(F.col(\"genres\")))\n",
    "movies_onehot = movies_onehot.withColumn(\"genres\", F.explode(F.split(F.col(\"genres\"), \"\\\\|\")))\n",
    "movies_onehot = movies_onehot.groupBy(\"movieId\").pivot(\"genres\").count().fillna(0)\n",
    "movies_onehot.show(3)"
   ]
  },
  {
   "cell_type": "code",
   "execution_count": 7,
   "metadata": {},
   "outputs": [],
   "source": [
    "movies_onehot = movies.withColumn(\"genres\", F.lower(F.col(\"genres\")))\n",
    "movies_onehot = movies_onehot.withColumn(\"genres\", F.explode(F.split(F.col(\"genres\"), \"\\\\|\")))\n",
    "movies_onehot = movies_onehot.groupBy(\"movieId\").pivot(\"genres\").count()"
   ]
  },
  {
   "cell_type": "code",
   "execution_count": 12,
   "metadata": {},
   "outputs": [],
   "source": [
    "# Get length and width of the matrix\n",
    "num_rows = movies_onehot.count()\n",
    "num_cols = len(movies_onehot.columns) - 1  # Exclude the 'movieId' column"
   ]
  },
  {
   "cell_type": "code",
   "execution_count": 17,
   "metadata": {},
   "outputs": [],
   "source": [
    "movies_single = movies.withColumn(\"genres\", F.lower(F.col(\"genres\")))\n",
    "movies_single = movies_single.withColumn(\"genres\", F.explode(F.split(F.col(\"genres\"), \"\\\\|\")))\n"
   ]
  },
  {
   "cell_type": "code",
   "execution_count": 20,
   "metadata": {},
   "outputs": [
    {
     "data": {
      "text/plain": [
       "['adventure',\n",
       " 'animation',\n",
       " 'children',\n",
       " 'comedy',\n",
       " 'fantasy',\n",
       " 'adventure',\n",
       " 'children',\n",
       " 'fantasy',\n",
       " 'comedy',\n",
       " 'romance',\n",
       " 'comedy',\n",
       " 'drama',\n",
       " 'romance',\n",
       " 'comedy',\n",
       " 'action',\n",
       " 'crime',\n",
       " 'thriller',\n",
       " 'comedy',\n",
       " 'romance',\n",
       " 'adventure',\n",
       " 'children',\n",
       " 'action',\n",
       " 'action',\n",
       " 'adventure',\n",
       " 'thriller',\n",
       " 'comedy',\n",
       " 'drama',\n",
       " 'romance',\n",
       " 'comedy',\n",
       " 'horror',\n",
       " 'adventure',\n",
       " 'animation',\n",
       " 'children',\n",
       " 'drama',\n",
       " 'action',\n",
       " 'adventure',\n",
       " 'romance',\n",
       " 'crime',\n",
       " 'drama',\n",
       " 'drama',\n",
       " 'romance',\n",
       " 'comedy',\n",
       " 'comedy',\n",
       " 'action',\n",
       " 'comedy',\n",
       " 'crime',\n",
       " 'drama',\n",
       " 'thriller',\n",
       " 'comedy',\n",
       " 'crime',\n",
       " 'thriller',\n",
       " 'crime',\n",
       " 'drama',\n",
       " 'horror',\n",
       " 'mystery',\n",
       " 'thriller',\n",
       " 'action',\n",
       " 'crime',\n",
       " 'thriller',\n",
       " 'drama',\n",
       " 'sci-fi',\n",
       " 'drama',\n",
       " 'romance',\n",
       " 'drama',\n",
       " 'children',\n",
       " 'drama',\n",
       " 'drama',\n",
       " 'romance',\n",
       " 'adventure',\n",
       " 'drama',\n",
       " 'fantasy',\n",
       " 'mystery',\n",
       " 'sci-fi',\n",
       " 'crime',\n",
       " 'drama',\n",
       " 'drama',\n",
       " 'mystery',\n",
       " 'sci-fi',\n",
       " 'thriller',\n",
       " 'adventure',\n",
       " 'romance',\n",
       " 'imax',\n",
       " 'children',\n",
       " 'drama',\n",
       " 'drama',\n",
       " 'romance',\n",
       " 'crime',\n",
       " 'drama',\n",
       " 'documentary',\n",
       " 'imax',\n",
       " 'children',\n",
       " 'comedy',\n",
       " 'comedy',\n",
       " 'romance',\n",
       " 'drama',\n",
       " 'drama',\n",
       " 'war',\n",
       " 'action',\n",
       " 'crime',\n",
       " 'drama',\n",
       " 'drama',\n",
       " 'action',\n",
       " 'adventure',\n",
       " 'fantasy',\n",
       " 'comedy',\n",
       " 'drama',\n",
       " 'thriller',\n",
       " 'drama',\n",
       " 'romance',\n",
       " 'mystery',\n",
       " 'thriller',\n",
       " 'animation',\n",
       " 'children',\n",
       " 'drama',\n",
       " 'musical',\n",
       " 'romance',\n",
       " 'drama',\n",
       " 'romance',\n",
       " 'crime',\n",
       " 'mystery',\n",
       " 'thriller',\n",
       " 'action',\n",
       " 'drama',\n",
       " 'thriller',\n",
       " 'comedy',\n",
       " 'drama',\n",
       " 'romance',\n",
       " 'adventure',\n",
       " 'drama',\n",
       " 'children',\n",
       " 'comedy',\n",
       " 'drama',\n",
       " 'adventure',\n",
       " 'children',\n",
       " 'comedy',\n",
       " 'fantasy',\n",
       " 'drama',\n",
       " 'comedy',\n",
       " 'drama',\n",
       " 'romance',\n",
       " 'drama',\n",
       " 'mystery',\n",
       " 'adventure',\n",
       " 'children',\n",
       " 'fantasy',\n",
       " 'drama',\n",
       " 'thriller',\n",
       " 'drama',\n",
       " 'comedy',\n",
       " 'crime',\n",
       " 'comedy',\n",
       " 'romance',\n",
       " 'comedy',\n",
       " 'action',\n",
       " 'sci-fi',\n",
       " 'thriller',\n",
       " 'drama',\n",
       " 'comedy',\n",
       " 'romance',\n",
       " 'comedy',\n",
       " 'action',\n",
       " 'comedy',\n",
       " 'horror',\n",
       " 'thriller',\n",
       " 'action',\n",
       " 'comedy',\n",
       " 'drama',\n",
       " 'drama',\n",
       " 'war',\n",
       " 'drama',\n",
       " 'romance',\n",
       " 'comedy',\n",
       " 'drama',\n",
       " 'action',\n",
       " 'sci-fi',\n",
       " 'thriller',\n",
       " 'documentary',\n",
       " 'action',\n",
       " 'crime',\n",
       " 'drama',\n",
       " 'thriller',\n",
       " 'drama',\n",
       " 'thriller',\n",
       " 'children',\n",
       " 'drama',\n",
       " 'crime',\n",
       " 'drama',\n",
       " 'romance',\n",
       " 'comedy',\n",
       " 'drama',\n",
       " 'drama',\n",
       " 'romance',\n",
       " 'comedy',\n",
       " 'drama',\n",
       " 'drama',\n",
       " 'romance',\n",
       " 'action',\n",
       " 'adventure',\n",
       " 'drama',\n",
       " 'children',\n",
       " 'comedy',\n",
       " 'comedy',\n",
       " 'action',\n",
       " 'thriller',\n",
       " 'drama',\n",
       " 'drama',\n",
       " 'horror',\n",
       " 'thriller',\n",
       " 'comedy',\n",
       " 'horror',\n",
       " 'romance',\n",
       " 'comedy',\n",
       " 'drama',\n",
       " 'romance',\n",
       " 'action',\n",
       " 'adventure',\n",
       " 'thriller',\n",
       " 'comedy',\n",
       " 'drama',\n",
       " 'crime',\n",
       " 'drama',\n",
       " 'action',\n",
       " 'thriller',\n",
       " 'documentary',\n",
       " 'drama',\n",
       " 'thriller',\n",
       " 'adventure',\n",
       " 'comedy',\n",
       " 'crime',\n",
       " 'romance',\n",
       " 'comedy',\n",
       " 'mystery',\n",
       " 'sci-fi',\n",
       " 'thriller',\n",
       " 'comedy',\n",
       " 'drama',\n",
       " 'romance',\n",
       " 'comedy',\n",
       " 'drama',\n",
       " 'adventure',\n",
       " 'children',\n",
       " 'comedy',\n",
       " 'musical',\n",
       " 'documentary',\n",
       " 'comedy',\n",
       " 'drama',\n",
       " 'thriller',\n",
       " 'action',\n",
       " 'drama',\n",
       " 'war',\n",
       " 'crime',\n",
       " 'drama',\n",
       " 'thriller',\n",
       " 'action',\n",
       " 'adventure',\n",
       " 'comedy',\n",
       " 'crime',\n",
       " 'drama',\n",
       " 'mystery',\n",
       " 'drama',\n",
       " 'comedy',\n",
       " 'documentary',\n",
       " 'crime',\n",
       " 'drama',\n",
       " 'comedy',\n",
       " 'romance',\n",
       " 'comedy',\n",
       " 'adventure',\n",
       " 'comedy',\n",
       " 'drama',\n",
       " 'drama',\n",
       " 'comedy',\n",
       " 'romance',\n",
       " 'drama',\n",
       " 'mystery',\n",
       " 'romance',\n",
       " 'drama',\n",
       " 'comedy',\n",
       " 'adventure',\n",
       " 'children',\n",
       " 'fantasy',\n",
       " 'drama',\n",
       " 'documentary',\n",
       " 'comedy',\n",
       " 'romance',\n",
       " 'drama',\n",
       " 'drama',\n",
       " 'romance',\n",
       " 'thriller',\n",
       " 'comedy',\n",
       " 'drama',\n",
       " 'documentary',\n",
       " 'comedy',\n",
       " 'documentary',\n",
       " 'documentary',\n",
       " 'drama',\n",
       " 'action',\n",
       " 'drama',\n",
       " 'drama',\n",
       " 'romance',\n",
       " 'comedy',\n",
       " 'drama',\n",
       " 'drama',\n",
       " 'comedy',\n",
       " 'action',\n",
       " 'comedy',\n",
       " 'crime',\n",
       " 'drama',\n",
       " 'thriller',\n",
       " 'adventure',\n",
       " 'children',\n",
       " 'drama',\n",
       " 'drama',\n",
       " 'crime',\n",
       " 'drama',\n",
       " 'thriller',\n",
       " 'adventure',\n",
       " 'drama',\n",
       " 'imax',\n",
       " 'action',\n",
       " 'drama',\n",
       " 'romance',\n",
       " 'war',\n",
       " 'drama',\n",
       " 'horror',\n",
       " 'action',\n",
       " 'adventure',\n",
       " 'comedy',\n",
       " 'crime',\n",
       " 'drama',\n",
       " 'adventure',\n",
       " 'drama',\n",
       " 'war',\n",
       " 'comedy',\n",
       " 'drama',\n",
       " 'comedy',\n",
       " 'war',\n",
       " 'adventure',\n",
       " 'children',\n",
       " 'crime',\n",
       " 'drama',\n",
       " 'mystery',\n",
       " 'action',\n",
       " 'adventure',\n",
       " 'mystery',\n",
       " 'sci-fi',\n",
       " 'drama',\n",
       " 'thriller',\n",
       " 'war',\n",
       " 'documentary',\n",
       " 'action',\n",
       " 'romance',\n",
       " 'western',\n",
       " 'crime',\n",
       " 'film-noir',\n",
       " 'mystery',\n",
       " 'thriller',\n",
       " 'action',\n",
       " 'crime',\n",
       " 'thriller',\n",
       " 'comedy',\n",
       " 'crime',\n",
       " 'drama',\n",
       " 'drama',\n",
       " 'action',\n",
       " 'drama',\n",
       " 'romance',\n",
       " 'adventure',\n",
       " 'children',\n",
       " 'drama',\n",
       " 'action',\n",
       " 'adventure',\n",
       " 'crime',\n",
       " 'thriller',\n",
       " 'comedy',\n",
       " 'drama',\n",
       " 'action',\n",
       " 'sci-fi',\n",
       " 'thriller',\n",
       " 'action',\n",
       " 'crime',\n",
       " 'sci-fi',\n",
       " 'comedy',\n",
       " 'drama',\n",
       " 'comedy',\n",
       " 'horror',\n",
       " 'comedy',\n",
       " 'drama',\n",
       " 'drama',\n",
       " 'romance',\n",
       " 'comedy',\n",
       " 'romance',\n",
       " 'action',\n",
       " 'children',\n",
       " 'drama',\n",
       " 'romance',\n",
       " 'comedy',\n",
       " 'horror',\n",
       " 'thriller',\n",
       " 'drama',\n",
       " 'action',\n",
       " 'crime',\n",
       " 'thriller',\n",
       " 'comedy',\n",
       " 'romance',\n",
       " 'comedy',\n",
       " 'fantasy',\n",
       " 'horror',\n",
       " 'mystery',\n",
       " 'comedy',\n",
       " 'fantasy',\n",
       " 'thriller',\n",
       " 'drama',\n",
       " 'romance',\n",
       " 'documentary',\n",
       " 'drama',\n",
       " 'comedy',\n",
       " 'drama',\n",
       " 'comedy',\n",
       " 'drama',\n",
       " 'romance',\n",
       " 'horror',\n",
       " 'sci-fi',\n",
       " 'drama',\n",
       " 'action',\n",
       " 'crime',\n",
       " 'drama',\n",
       " 'mystery',\n",
       " 'sci-fi',\n",
       " 'thriller',\n",
       " 'drama',\n",
       " 'musical',\n",
       " 'romance',\n",
       " 'thriller',\n",
       " 'drama',\n",
       " 'fantasy',\n",
       " 'drama',\n",
       " 'romance',\n",
       " 'comedy',\n",
       " 'action',\n",
       " 'comedy',\n",
       " 'drama',\n",
       " 'documentary',\n",
       " 'drama',\n",
       " 'romance',\n",
       " 'action',\n",
       " 'adventure',\n",
       " 'sci-fi',\n",
       " 'drama',\n",
       " 'western',\n",
       " 'drama',\n",
       " 'adventure',\n",
       " 'comedy',\n",
       " 'crime',\n",
       " 'mystery',\n",
       " 'drama',\n",
       " 'drama',\n",
       " 'war',\n",
       " 'drama',\n",
       " 'romance',\n",
       " 'comedy',\n",
       " 'drama',\n",
       " 'thriller',\n",
       " 'comedy',\n",
       " 'drama',\n",
       " 'drama',\n",
       " 'horror',\n",
       " 'drama',\n",
       " 'romance',\n",
       " 'comedy',\n",
       " 'comedy',\n",
       " 'drama',\n",
       " 'romance',\n",
       " 'drama',\n",
       " 'thriller',\n",
       " 'thriller',\n",
       " 'action',\n",
       " 'thriller',\n",
       " 'comedy',\n",
       " 'drama',\n",
       " 'thriller',\n",
       " 'drama',\n",
       " 'thriller',\n",
       " 'adventure',\n",
       " 'comedy',\n",
       " 'comedy',\n",
       " 'drama',\n",
       " 'romance',\n",
       " 'drama',\n",
       " 'comedy',\n",
       " 'comedy',\n",
       " 'drama',\n",
       " 'action',\n",
       " 'comedy',\n",
       " 'romance',\n",
       " 'comedy',\n",
       " 'romance',\n",
       " 'adventure',\n",
       " 'children',\n",
       " 'animation',\n",
       " 'children',\n",
       " 'comedy',\n",
       " 'romance',\n",
       " 'thriller',\n",
       " 'children',\n",
       " 'drama',\n",
       " 'drama',\n",
       " 'musical',\n",
       " 'children',\n",
       " 'comedy',\n",
       " 'fantasy',\n",
       " 'animation',\n",
       " 'children',\n",
       " 'crime',\n",
       " 'drama',\n",
       " 'documentary',\n",
       " 'crime',\n",
       " 'drama',\n",
       " 'comedy',\n",
       " 'drama',\n",
       " 'romance',\n",
       " 'children',\n",
       " 'comedy',\n",
       " 'action',\n",
       " 'comedy',\n",
       " 'romance',\n",
       " 'drama',\n",
       " 'horror',\n",
       " 'drama',\n",
       " 'comedy',\n",
       " 'comedy',\n",
       " 'sci-fi',\n",
       " 'mystery',\n",
       " 'thriller',\n",
       " 'adventure',\n",
       " 'children',\n",
       " 'comedy',\n",
       " 'fantasy',\n",
       " 'romance',\n",
       " 'crime',\n",
       " 'drama',\n",
       " 'thriller',\n",
       " 'action',\n",
       " 'adventure',\n",
       " 'sci-fi',\n",
       " 'drama',\n",
       " 'children',\n",
       " 'drama',\n",
       " 'drama',\n",
       " 'drama',\n",
       " 'drama',\n",
       " 'fantasy',\n",
       " 'romance',\n",
       " 'drama',\n",
       " 'romance',\n",
       " 'war',\n",
       " 'western',\n",
       " 'comedy',\n",
       " 'crime',\n",
       " 'drama',\n",
       " 'drama',\n",
       " 'drama',\n",
       " 'romance',\n",
       " 'drama',\n",
       " 'comedy',\n",
       " 'drama',\n",
       " 'drama',\n",
       " 'horror',\n",
       " 'sci-fi',\n",
       " 'comedy',\n",
       " 'comedy',\n",
       " 'comedy',\n",
       " 'romance',\n",
       " 'drama',\n",
       " 'comedy',\n",
       " 'drama',\n",
       " 'drama',\n",
       " 'thriller',\n",
       " 'comedy',\n",
       " 'drama',\n",
       " 'romance',\n",
       " 'drama',\n",
       " 'crime',\n",
       " 'drama',\n",
       " 'action',\n",
       " 'crime',\n",
       " 'drama',\n",
       " 'horror',\n",
       " 'action',\n",
       " 'sci-fi',\n",
       " 'thriller',\n",
       " 'comedy',\n",
       " 'romance',\n",
       " 'action',\n",
       " 'crime',\n",
       " 'thriller',\n",
       " 'comedy',\n",
       " 'romance',\n",
       " 'crime',\n",
       " 'drama',\n",
       " 'action',\n",
       " 'drama',\n",
       " 'sci-fi',\n",
       " 'thriller',\n",
       " 'action',\n",
       " 'crime',\n",
       " 'drama',\n",
       " 'thriller',\n",
       " 'comedy',\n",
       " 'romance',\n",
       " 'comedy',\n",
       " 'romance',\n",
       " 'comedy',\n",
       " 'crime',\n",
       " 'drama',\n",
       " 'thriller',\n",
       " 'drama',\n",
       " 'drama',\n",
       " 'drama',\n",
       " 'drama',\n",
       " 'drama',\n",
       " 'romance',\n",
       " 'drama',\n",
       " 'romance',\n",
       " 'action',\n",
       " 'thriller',\n",
       " 'western',\n",
       " 'comedy',\n",
       " 'drama',\n",
       " 'comedy',\n",
       " 'drama',\n",
       " 'drama',\n",
       " 'comedy',\n",
       " 'drama',\n",
       " 'drama',\n",
       " 'comedy',\n",
       " 'horror',\n",
       " 'thriller',\n",
       " 'comedy',\n",
       " 'animation',\n",
       " 'children',\n",
       " 'children',\n",
       " 'drama',\n",
       " 'fantasy',\n",
       " 'mystery',\n",
       " 'action',\n",
       " 'drama',\n",
       " 'thriller',\n",
       " 'action',\n",
       " 'adventure',\n",
       " 'sci-fi',\n",
       " 'comedy',\n",
       " 'drama',\n",
       " 'fantasy',\n",
       " 'crime',\n",
       " 'drama',\n",
       " 'comedy',\n",
       " 'drama',\n",
       " 'thriller',\n",
       " 'film-noir',\n",
       " 'thriller',\n",
       " 'drama',\n",
       " 'comedy',\n",
       " 'drama',\n",
       " 'comedy',\n",
       " 'drama',\n",
       " 'comedy',\n",
       " 'drama',\n",
       " 'action',\n",
       " 'comedy',\n",
       " 'sci-fi',\n",
       " 'horror',\n",
       " 'thriller',\n",
       " 'adventure',\n",
       " 'drama',\n",
       " 'sci-fi',\n",
       " 'action',\n",
       " 'crime',\n",
       " 'horror',\n",
       " 'drama',\n",
       " 'horror',\n",
       " 'sci-fi',\n",
       " 'comedy',\n",
       " 'drama',\n",
       " 'mystery',\n",
       " 'thriller',\n",
       " 'drama',\n",
       " 'war',\n",
       " 'drama',\n",
       " 'action',\n",
       " 'sci-fi',\n",
       " 'thriller',\n",
       " 'comedy',\n",
       " 'romance',\n",
       " 'adventure',\n",
       " 'drama',\n",
       " 'war',\n",
       " 'drama',\n",
       " 'comedy',\n",
       " 'children',\n",
       " 'comedy',\n",
       " 'comedy',\n",
       " 'drama',\n",
       " 'drama',\n",
       " 'musical',\n",
       " 'drama',\n",
       " 'film-noir',\n",
       " 'romance',\n",
       " 'comedy',\n",
       " 'action',\n",
       " 'crime',\n",
       " 'drama',\n",
       " 'thriller',\n",
       " 'drama',\n",
       " 'mystery',\n",
       " 'thriller',\n",
       " 'comedy',\n",
       " 'drama',\n",
       " 'romance',\n",
       " 'comedy',\n",
       " 'drama',\n",
       " 'action',\n",
       " 'crime',\n",
       " 'fantasy',\n",
       " 'thriller',\n",
       " 'drama',\n",
       " 'children',\n",
       " 'comedy',\n",
       " 'fantasy',\n",
       " 'comedy',\n",
       " 'drama',\n",
       " 'romance',\n",
       " 'war',\n",
       " 'comedy',\n",
       " 'romance',\n",
       " 'drama',\n",
       " 'comedy',\n",
       " 'drama',\n",
       " 'romance',\n",
       " 'action',\n",
       " 'comedy',\n",
       " 'comedy',\n",
       " 'drama',\n",
       " 'romance',\n",
       " 'adventure',\n",
       " 'children',\n",
       " 'romance',\n",
       " 'documentary',\n",
       " 'adventure',\n",
       " 'animation',\n",
       " 'children',\n",
       " 'drama',\n",
       " 'musical',\n",
       " 'imax',\n",
       " 'drama',\n",
       " 'drama',\n",
       " 'horror',\n",
       " 'mystery',\n",
       " 'thriller',\n",
       " 'action',\n",
       " 'comedy',\n",
       " 'crime',\n",
       " 'fantasy',\n",
       " 'adventure',\n",
       " 'comedy',\n",
       " 'western',\n",
       " 'drama',\n",
       " 'action',\n",
       " 'comedy',\n",
       " 'comedy',\n",
       " 'drama',\n",
       " 'comedy',\n",
       " 'drama',\n",
       " 'romance',\n",
       " 'thriller',\n",
       " 'children',\n",
       " 'comedy',\n",
       " 'drama',\n",
       " 'action',\n",
       " 'thriller',\n",
       " 'action',\n",
       " 'romance',\n",
       " 'thriller',\n",
       " 'comedy',\n",
       " 'romance',\n",
       " 'action',\n",
       " 'sci-fi',\n",
       " 'thriller',\n",
       " 'action',\n",
       " 'adventure',\n",
       " 'comedy',\n",
       " 'romance',\n",
       " 'thriller',\n",
       " 'drama',\n",
       " 'romance',\n",
       " 'drama',\n",
       " 'horror',\n",
       " 'romance',\n",
       " 'thriller',\n",
       " 'western',\n",
       " 'action',\n",
       " 'crime',\n",
       " 'drama',\n",
       " 'drama',\n",
       " 'drama',\n",
       " 'action',\n",
       " 'comedy',\n",
       " 'drama',\n",
       " 'drama',\n",
       " 'romance',\n",
       " 'war',\n",
       " 'action',\n",
       " 'crime',\n",
       " 'drama',\n",
       " 'crime',\n",
       " 'drama',\n",
       " 'adventure',\n",
       " 'animation',\n",
       " 'action',\n",
       " 'adventure',\n",
       " 'fantasy',\n",
       " 'comedy',\n",
       " 'drama',\n",
       " 'fantasy',\n",
       " 'romance',\n",
       " 'drama',\n",
       " 'horror',\n",
       " 'documentary',\n",
       " 'drama',\n",
       " 'drama',\n",
       " 'action',\n",
       " 'thriller',\n",
       " 'comedy',\n",
       " 'comedy',\n",
       " 'crime',\n",
       " 'drama',\n",
       " 'documentary',\n",
       " 'action',\n",
       " 'fantasy',\n",
       " 'drama',\n",
       " 'horror',\n",
       " 'thriller',\n",
       " 'drama',\n",
       " 'crime',\n",
       " 'drama',\n",
       " 'children',\n",
       " 'comedy',\n",
       " 'fantasy',\n",
       " 'comedy',\n",
       " 'documentary',\n",
       " 'drama',\n",
       " 'comedy',\n",
       " 'comedy',\n",
       " 'comedy',\n",
       " 'thriller',\n",
       " 'western',\n",
       " 'comedy',\n",
       " 'romance',\n",
       " 'drama',\n",
       " 'comedy',\n",
       " 'action',\n",
       " 'comedy',\n",
       " 'crime',\n",
       " 'thriller',\n",
       " 'adventure',\n",
       " 'children',\n",
       " 'drama',\n",
       " 'thriller',\n",
       " 'action',\n",
       " 'thriller',\n",
       " 'drama',\n",
       " 'drama',\n",
       " 'romance',\n",
       " 'horror',\n",
       " 'sci-fi',\n",
       " 'thriller',\n",
       " 'drama',\n",
       " 'mystery',\n",
       " 'romance',\n",
       " 'thriller',\n",
       " 'drama',\n",
       " 'comedy',\n",
       " 'comedy',\n",
       " 'drama',\n",
       " 'crime',\n",
       " 'drama',\n",
       " 'adventure',\n",
       " 'comedy',\n",
       " 'western',\n",
       " 'comedy',\n",
       " 'action',\n",
       " 'adventure',\n",
       " 'thriller',\n",
       " 'comedy',\n",
       " 'sci-fi',\n",
       " 'drama',\n",
       " 'thriller',\n",
       " 'comedy',\n",
       " 'action',\n",
       " 'comedy',\n",
       " 'drama',\n",
       " 'drama',\n",
       " 'comedy',\n",
       " 'romance',\n",
       " 'comedy',\n",
       " 'action',\n",
       " 'adventure',\n",
       " 'sci-fi',\n",
       " 'adventure',\n",
       " 'documentary',\n",
       " 'comedy',\n",
       " 'romance',\n",
       " 'comedy',\n",
       " 'drama',\n",
       " 'romance',\n",
       " 'comedy',\n",
       " 'romance',\n",
       " 'drama',\n",
       " 'comedy',\n",
       " 'comedy',\n",
       " 'drama',\n",
       " 'drama',\n",
       " 'mystery',\n",
       " 'romance',\n",
       " 'drama',\n",
       " 'comedy',\n",
       " 'romance',\n",
       " 'drama',\n",
       " 'thriller',\n",
       " 'adventure',\n",
       " 'children',\n",
       " 'drama',\n",
       " 'crime',\n",
       " 'drama',\n",
       " 'thriller',\n",
       " 'thriller',\n",
       " 'drama',\n",
       " 'western',\n",
       " 'action',\n",
       " 'adventure',\n",
       " 'crime',\n",
       " 'drama',\n",
       " 'romance',\n",
       " 'thriller',\n",
       " 'comedy',\n",
       " 'drama',\n",
       " 'romance',\n",
       " 'action',\n",
       " 'adventure',\n",
       " 'crime',\n",
       " 'drama',\n",
       " 'thriller',\n",
       " 'action',\n",
       " 'adventure',\n",
       " 'crime',\n",
       " 'thriller',\n",
       " 'action',\n",
       " 'drama',\n",
       " 'war',\n",
       " 'action',\n",
       " 'comedy',\n",
       " 'war',\n",
       " 'comedy',\n",
       " 'comedy',\n",
       " 'romance',\n",
       " 'drama',\n",
       " 'romance',\n",
       " 'comedy',\n",
       " 'comedy',\n",
       " 'comedy',\n",
       " 'drama',\n",
       " 'comedy',\n",
       " 'war',\n",
       " 'action',\n",
       " 'thriller',\n",
       " 'drama',\n",
       " 'comedy',\n",
       " 'drama',\n",
       " 'drama',\n",
       " 'musical',\n",
       " 'comedy',\n",
       " 'crime',\n",
       " 'drama',\n",
       " 'action',\n",
       " 'crime',\n",
       " 'thriller',\n",
       " 'action',\n",
       " 'adventure',\n",
       " 'sci-fi',\n",
       " 'thriller',\n",
       " 'drama',\n",
       " 'thriller',\n",
       " 'crime',\n",
       " 'drama',\n",
       " 'thriller',\n",
       " 'drama',\n",
       " 'adventure',\n",
       " 'children',\n",
       " 'action',\n",
       " 'adventure',\n",
       " ...]"
      ]
     },
     "execution_count": 20,
     "metadata": {},
     "output_type": "execute_result"
    }
   ],
   "source": [
    "movies_single.select(\"genres\").rdd.flatMap(lambda x: x).collect()"
   ]
  },
  {
   "cell_type": "code",
   "execution_count": 10,
   "metadata": {},
   "outputs": [
    {
     "ename": "Py4JJavaError",
     "evalue": "An error occurred while calling o158.numRows.\n: org.apache.spark.SparkException: Job aborted due to stage failure: Task 17 in stage 17.0 failed 1 times, most recent failure: Lost task 17.0 in stage 17.0 (TID 57) (10.173.0.254 executor driver): org.apache.spark.api.python.PythonException: Traceback (most recent call last):\n  File \"C:\\Program Files\\spark\\spark-3.5.5-bin-hadoop3\\python\\lib\\pyspark.zip\\pyspark\\worker.py\", line 1227, in main\n  File \"C:\\Program Files\\spark\\spark-3.5.5-bin-hadoop3\\python\\lib\\pyspark.zip\\pyspark\\worker.py\", line 90, in read_command\n  File \"C:\\Program Files\\spark\\spark-3.5.5-bin-hadoop3\\python\\lib\\pyspark.zip\\pyspark\\serializers.py\", line 174, in _read_with_length\n    return self.loads(obj)\n           ^^^^^^^^^^^^^^^\n  File \"C:\\Program Files\\spark\\spark-3.5.5-bin-hadoop3\\python\\lib\\pyspark.zip\\pyspark\\serializers.py\", line 472, in loads\n    return cloudpickle.loads(obj, encoding=encoding)\n           ^^^^^^^^^^^^^^^^^^^^^^^^^^^^^^^^^^^^^^^^^\n  File \"C:\\Program Files\\spark\\spark-3.5.5-bin-hadoop3\\python\\lib\\pyspark.zip\\pyspark\\mllib\\__init__.py\", line 26, in <module>\n    import numpy\nModuleNotFoundError: No module named 'numpy'\n\r\n\tat org.apache.spark.api.python.BasePythonRunner$ReaderIterator.handlePythonException(PythonRunner.scala:572)\r\n\tat org.apache.spark.api.python.PythonRunner$$anon$3.read(PythonRunner.scala:784)\r\n\tat org.apache.spark.api.python.PythonRunner$$anon$3.read(PythonRunner.scala:766)\r\n\tat org.apache.spark.api.python.BasePythonRunner$ReaderIterator.hasNext(PythonRunner.scala:525)\r\n\tat org.apache.spark.InterruptibleIterator.hasNext(InterruptibleIterator.scala:37)\r\n\tat scala.collection.Iterator$$anon$11.hasNext(Iterator.scala:491)\r\n\tat org.apache.spark.util.Iterators$.size(Iterators.scala:29)\r\n\tat org.apache.spark.util.Utils$.getIteratorSize(Utils.scala:1787)\r\n\tat org.apache.spark.rdd.RDD.$anonfun$count$1(RDD.scala:1296)\r\n\tat org.apache.spark.rdd.RDD.$anonfun$count$1$adapted(RDD.scala:1296)\r\n\tat org.apache.spark.SparkContext.$anonfun$runJob$5(SparkContext.scala:2433)\r\n\tat org.apache.spark.scheduler.ResultTask.runTask(ResultTask.scala:93)\r\n\tat org.apache.spark.TaskContext.runTaskWithListeners(TaskContext.scala:166)\r\n\tat org.apache.spark.scheduler.Task.run(Task.scala:141)\r\n\tat org.apache.spark.executor.Executor$TaskRunner.$anonfun$run$4(Executor.scala:620)\r\n\tat org.apache.spark.util.SparkErrorUtils.tryWithSafeFinally(SparkErrorUtils.scala:64)\r\n\tat org.apache.spark.util.SparkErrorUtils.tryWithSafeFinally$(SparkErrorUtils.scala:61)\r\n\tat org.apache.spark.util.Utils$.tryWithSafeFinally(Utils.scala:94)\r\n\tat org.apache.spark.executor.Executor$TaskRunner.run(Executor.scala:623)\r\n\tat java.util.concurrent.ThreadPoolExecutor.runWorker(ThreadPoolExecutor.java:1149)\r\n\tat java.util.concurrent.ThreadPoolExecutor$Worker.run(ThreadPoolExecutor.java:624)\r\n\tat java.lang.Thread.run(Thread.java:750)\r\n\nDriver stacktrace:\r\n\tat org.apache.spark.scheduler.DAGScheduler.failJobAndIndependentStages(DAGScheduler.scala:2856)\r\n\tat org.apache.spark.scheduler.DAGScheduler.$anonfun$abortStage$2(DAGScheduler.scala:2792)\r\n\tat org.apache.spark.scheduler.DAGScheduler.$anonfun$abortStage$2$adapted(DAGScheduler.scala:2791)\r\n\tat scala.collection.mutable.ResizableArray.foreach(ResizableArray.scala:62)\r\n\tat scala.collection.mutable.ResizableArray.foreach$(ResizableArray.scala:55)\r\n\tat scala.collection.mutable.ArrayBuffer.foreach(ArrayBuffer.scala:49)\r\n\tat org.apache.spark.scheduler.DAGScheduler.abortStage(DAGScheduler.scala:2791)\r\n\tat org.apache.spark.scheduler.DAGScheduler.$anonfun$handleTaskSetFailed$1(DAGScheduler.scala:1247)\r\n\tat org.apache.spark.scheduler.DAGScheduler.$anonfun$handleTaskSetFailed$1$adapted(DAGScheduler.scala:1247)\r\n\tat scala.Option.foreach(Option.scala:407)\r\n\tat org.apache.spark.scheduler.DAGScheduler.handleTaskSetFailed(DAGScheduler.scala:1247)\r\n\tat org.apache.spark.scheduler.DAGSchedulerEventProcessLoop.doOnReceive(DAGScheduler.scala:3060)\r\n\tat org.apache.spark.scheduler.DAGSchedulerEventProcessLoop.onReceive(DAGScheduler.scala:2994)\r\n\tat org.apache.spark.scheduler.DAGSchedulerEventProcessLoop.onReceive(DAGScheduler.scala:2983)\r\n\tat org.apache.spark.util.EventLoop$$anon$1.run(EventLoop.scala:49)\r\n\tat org.apache.spark.scheduler.DAGScheduler.runJob(DAGScheduler.scala:989)\r\n\tat org.apache.spark.SparkContext.runJob(SparkContext.scala:2393)\r\n\tat org.apache.spark.SparkContext.runJob(SparkContext.scala:2414)\r\n\tat org.apache.spark.SparkContext.runJob(SparkContext.scala:2433)\r\n\tat org.apache.spark.SparkContext.runJob(SparkContext.scala:2458)\r\n\tat org.apache.spark.rdd.RDD.count(RDD.scala:1296)\r\n\tat org.apache.spark.mllib.linalg.distributed.RowMatrix.numRows(RowMatrix.scala:76)\r\n\tat sun.reflect.NativeMethodAccessorImpl.invoke0(Native Method)\r\n\tat sun.reflect.NativeMethodAccessorImpl.invoke(NativeMethodAccessorImpl.java:62)\r\n\tat sun.reflect.DelegatingMethodAccessorImpl.invoke(DelegatingMethodAccessorImpl.java:43)\r\n\tat java.lang.reflect.Method.invoke(Method.java:498)\r\n\tat py4j.reflection.MethodInvoker.invoke(MethodInvoker.java:244)\r\n\tat py4j.reflection.ReflectionEngine.invoke(ReflectionEngine.java:374)\r\n\tat py4j.Gateway.invoke(Gateway.java:282)\r\n\tat py4j.commands.AbstractCommand.invokeMethod(AbstractCommand.java:132)\r\n\tat py4j.commands.CallCommand.execute(CallCommand.java:79)\r\n\tat py4j.ClientServerConnection.waitForCommands(ClientServerConnection.java:182)\r\n\tat py4j.ClientServerConnection.run(ClientServerConnection.java:106)\r\n\tat java.lang.Thread.run(Thread.java:750)\r\nCaused by: org.apache.spark.api.python.PythonException: Traceback (most recent call last):\n  File \"C:\\Program Files\\spark\\spark-3.5.5-bin-hadoop3\\python\\lib\\pyspark.zip\\pyspark\\worker.py\", line 1227, in main\n  File \"C:\\Program Files\\spark\\spark-3.5.5-bin-hadoop3\\python\\lib\\pyspark.zip\\pyspark\\worker.py\", line 90, in read_command\n  File \"C:\\Program Files\\spark\\spark-3.5.5-bin-hadoop3\\python\\lib\\pyspark.zip\\pyspark\\serializers.py\", line 174, in _read_with_length\n    return self.loads(obj)\n           ^^^^^^^^^^^^^^^\n  File \"C:\\Program Files\\spark\\spark-3.5.5-bin-hadoop3\\python\\lib\\pyspark.zip\\pyspark\\serializers.py\", line 472, in loads\n    return cloudpickle.loads(obj, encoding=encoding)\n           ^^^^^^^^^^^^^^^^^^^^^^^^^^^^^^^^^^^^^^^^^\n  File \"C:\\Program Files\\spark\\spark-3.5.5-bin-hadoop3\\python\\lib\\pyspark.zip\\pyspark\\mllib\\__init__.py\", line 26, in <module>\n    import numpy\nModuleNotFoundError: No module named 'numpy'\n\r\n\tat org.apache.spark.api.python.BasePythonRunner$ReaderIterator.handlePythonException(PythonRunner.scala:572)\r\n\tat org.apache.spark.api.python.PythonRunner$$anon$3.read(PythonRunner.scala:784)\r\n\tat org.apache.spark.api.python.PythonRunner$$anon$3.read(PythonRunner.scala:766)\r\n\tat org.apache.spark.api.python.BasePythonRunner$ReaderIterator.hasNext(PythonRunner.scala:525)\r\n\tat org.apache.spark.InterruptibleIterator.hasNext(InterruptibleIterator.scala:37)\r\n\tat scala.collection.Iterator$$anon$11.hasNext(Iterator.scala:491)\r\n\tat org.apache.spark.util.Iterators$.size(Iterators.scala:29)\r\n\tat org.apache.spark.util.Utils$.getIteratorSize(Utils.scala:1787)\r\n\tat org.apache.spark.rdd.RDD.$anonfun$count$1(RDD.scala:1296)\r\n\tat org.apache.spark.rdd.RDD.$anonfun$count$1$adapted(RDD.scala:1296)\r\n\tat org.apache.spark.SparkContext.$anonfun$runJob$5(SparkContext.scala:2433)\r\n\tat org.apache.spark.scheduler.ResultTask.runTask(ResultTask.scala:93)\r\n\tat org.apache.spark.TaskContext.runTaskWithListeners(TaskContext.scala:166)\r\n\tat org.apache.spark.scheduler.Task.run(Task.scala:141)\r\n\tat org.apache.spark.executor.Executor$TaskRunner.$anonfun$run$4(Executor.scala:620)\r\n\tat org.apache.spark.util.SparkErrorUtils.tryWithSafeFinally(SparkErrorUtils.scala:64)\r\n\tat org.apache.spark.util.SparkErrorUtils.tryWithSafeFinally$(SparkErrorUtils.scala:61)\r\n\tat org.apache.spark.util.Utils$.tryWithSafeFinally(Utils.scala:94)\r\n\tat org.apache.spark.executor.Executor$TaskRunner.run(Executor.scala:623)\r\n\tat java.util.concurrent.ThreadPoolExecutor.runWorker(ThreadPoolExecutor.java:1149)\r\n\tat java.util.concurrent.ThreadPoolExecutor$Worker.run(ThreadPoolExecutor.java:624)\r\n\t... 1 more\r\n",
     "output_type": "error",
     "traceback": [
      "\u001b[31m---------------------------------------------------------------------------\u001b[39m",
      "\u001b[31mPy4JJavaError\u001b[39m                             Traceback (most recent call last)",
      "\u001b[36mCell\u001b[39m\u001b[36m \u001b[39m\u001b[32mIn[10]\u001b[39m\u001b[32m, line 17\u001b[39m\n\u001b[32m     14\u001b[39m row_matrix = RowMatrix(rdd)\n\u001b[32m     16\u001b[39m \u001b[38;5;66;03m# Print the number of rows and columns\u001b[39;00m\n\u001b[32m---> \u001b[39m\u001b[32m17\u001b[39m \u001b[38;5;28mprint\u001b[39m(\u001b[33m\"\u001b[39m\u001b[33mNumber of rows:\u001b[39m\u001b[33m\"\u001b[39m, \u001b[43mrow_matrix\u001b[49m\u001b[43m.\u001b[49m\u001b[43mnumRows\u001b[49m\u001b[43m(\u001b[49m\u001b[43m)\u001b[49m)\n\u001b[32m     18\u001b[39m \u001b[38;5;28mprint\u001b[39m(\u001b[33m\"\u001b[39m\u001b[33mNumber of columns:\u001b[39m\u001b[33m\"\u001b[39m, row_matrix.numCols())\n",
      "\u001b[36mFile \u001b[39m\u001b[32mc:\\UMD\\Sem 4\\MSML651 Big Data Analytics\\Homeworks\\.venv\\Lib\\site-packages\\pyspark\\mllib\\linalg\\distributed.py:165\u001b[39m, in \u001b[36mRowMatrix.numRows\u001b[39m\u001b[34m(self)\u001b[39m\n\u001b[32m    148\u001b[39m \u001b[38;5;28;01mdef\u001b[39;00m\u001b[38;5;250m \u001b[39m\u001b[34mnumRows\u001b[39m(\u001b[38;5;28mself\u001b[39m) -> \u001b[38;5;28mint\u001b[39m:\n\u001b[32m    149\u001b[39m \u001b[38;5;250m    \u001b[39m\u001b[33;03m\"\"\"\u001b[39;00m\n\u001b[32m    150\u001b[39m \u001b[33;03m    Get or compute the number of rows.\u001b[39;00m\n\u001b[32m    151\u001b[39m \n\u001b[32m   (...)\u001b[39m\u001b[32m    163\u001b[39m \u001b[33;03m    7\u001b[39;00m\n\u001b[32m    164\u001b[39m \u001b[33;03m    \"\"\"\u001b[39;00m\n\u001b[32m--> \u001b[39m\u001b[32m165\u001b[39m     \u001b[38;5;28;01mreturn\u001b[39;00m \u001b[38;5;28;43mself\u001b[39;49m\u001b[43m.\u001b[49m\u001b[43m_java_matrix_wrapper\u001b[49m\u001b[43m.\u001b[49m\u001b[43mcall\u001b[49m\u001b[43m(\u001b[49m\u001b[33;43m\"\u001b[39;49m\u001b[33;43mnumRows\u001b[39;49m\u001b[33;43m\"\u001b[39;49m\u001b[43m)\u001b[49m\n",
      "\u001b[36mFile \u001b[39m\u001b[32mc:\\UMD\\Sem 4\\MSML651 Big Data Analytics\\Homeworks\\.venv\\Lib\\site-packages\\pyspark\\mllib\\common.py:157\u001b[39m, in \u001b[36mJavaModelWrapper.call\u001b[39m\u001b[34m(self, name, *a)\u001b[39m\n\u001b[32m    155\u001b[39m \u001b[38;5;28;01mdef\u001b[39;00m\u001b[38;5;250m \u001b[39m\u001b[34mcall\u001b[39m(\u001b[38;5;28mself\u001b[39m, name: \u001b[38;5;28mstr\u001b[39m, *a: Any) -> Any:\n\u001b[32m    156\u001b[39m \u001b[38;5;250m    \u001b[39m\u001b[33;03m\"\"\"Call method of java_model\"\"\"\u001b[39;00m\n\u001b[32m--> \u001b[39m\u001b[32m157\u001b[39m     \u001b[38;5;28;01mreturn\u001b[39;00m \u001b[43mcallJavaFunc\u001b[49m\u001b[43m(\u001b[49m\u001b[38;5;28;43mself\u001b[39;49m\u001b[43m.\u001b[49m\u001b[43m_sc\u001b[49m\u001b[43m,\u001b[49m\u001b[43m \u001b[49m\u001b[38;5;28;43mgetattr\u001b[39;49m\u001b[43m(\u001b[49m\u001b[38;5;28;43mself\u001b[39;49m\u001b[43m.\u001b[49m\u001b[43m_java_model\u001b[49m\u001b[43m,\u001b[49m\u001b[43m \u001b[49m\u001b[43mname\u001b[49m\u001b[43m)\u001b[49m\u001b[43m,\u001b[49m\u001b[43m \u001b[49m\u001b[43m*\u001b[49m\u001b[43ma\u001b[49m\u001b[43m)\u001b[49m\n",
      "\u001b[36mFile \u001b[39m\u001b[32mc:\\UMD\\Sem 4\\MSML651 Big Data Analytics\\Homeworks\\.venv\\Lib\\site-packages\\pyspark\\mllib\\common.py:131\u001b[39m, in \u001b[36mcallJavaFunc\u001b[39m\u001b[34m(sc, func, *args)\u001b[39m\n\u001b[32m    129\u001b[39m \u001b[38;5;250m\u001b[39m\u001b[33;03m\"\"\"Call Java Function\"\"\"\u001b[39;00m\n\u001b[32m    130\u001b[39m java_args = [_py2java(sc, a) \u001b[38;5;28;01mfor\u001b[39;00m a \u001b[38;5;129;01min\u001b[39;00m args]\n\u001b[32m--> \u001b[39m\u001b[32m131\u001b[39m \u001b[38;5;28;01mreturn\u001b[39;00m _java2py(sc, \u001b[43mfunc\u001b[49m\u001b[43m(\u001b[49m\u001b[43m*\u001b[49m\u001b[43mjava_args\u001b[49m\u001b[43m)\u001b[49m)\n",
      "\u001b[36mFile \u001b[39m\u001b[32mc:\\UMD\\Sem 4\\MSML651 Big Data Analytics\\Homeworks\\.venv\\Lib\\site-packages\\py4j\\java_gateway.py:1322\u001b[39m, in \u001b[36mJavaMember.__call__\u001b[39m\u001b[34m(self, *args)\u001b[39m\n\u001b[32m   1316\u001b[39m command = proto.CALL_COMMAND_NAME +\\\n\u001b[32m   1317\u001b[39m     \u001b[38;5;28mself\u001b[39m.command_header +\\\n\u001b[32m   1318\u001b[39m     args_command +\\\n\u001b[32m   1319\u001b[39m     proto.END_COMMAND_PART\n\u001b[32m   1321\u001b[39m answer = \u001b[38;5;28mself\u001b[39m.gateway_client.send_command(command)\n\u001b[32m-> \u001b[39m\u001b[32m1322\u001b[39m return_value = \u001b[43mget_return_value\u001b[49m\u001b[43m(\u001b[49m\n\u001b[32m   1323\u001b[39m \u001b[43m    \u001b[49m\u001b[43manswer\u001b[49m\u001b[43m,\u001b[49m\u001b[43m \u001b[49m\u001b[38;5;28;43mself\u001b[39;49m\u001b[43m.\u001b[49m\u001b[43mgateway_client\u001b[49m\u001b[43m,\u001b[49m\u001b[43m \u001b[49m\u001b[38;5;28;43mself\u001b[39;49m\u001b[43m.\u001b[49m\u001b[43mtarget_id\u001b[49m\u001b[43m,\u001b[49m\u001b[43m \u001b[49m\u001b[38;5;28;43mself\u001b[39;49m\u001b[43m.\u001b[49m\u001b[43mname\u001b[49m\u001b[43m)\u001b[49m\n\u001b[32m   1325\u001b[39m \u001b[38;5;28;01mfor\u001b[39;00m temp_arg \u001b[38;5;129;01min\u001b[39;00m temp_args:\n\u001b[32m   1326\u001b[39m     \u001b[38;5;28;01mif\u001b[39;00m \u001b[38;5;28mhasattr\u001b[39m(temp_arg, \u001b[33m\"\u001b[39m\u001b[33m_detach\u001b[39m\u001b[33m\"\u001b[39m):\n",
      "\u001b[36mFile \u001b[39m\u001b[32mc:\\UMD\\Sem 4\\MSML651 Big Data Analytics\\Homeworks\\.venv\\Lib\\site-packages\\pyspark\\errors\\exceptions\\captured.py:179\u001b[39m, in \u001b[36mcapture_sql_exception.<locals>.deco\u001b[39m\u001b[34m(*a, **kw)\u001b[39m\n\u001b[32m    177\u001b[39m \u001b[38;5;28;01mdef\u001b[39;00m\u001b[38;5;250m \u001b[39m\u001b[34mdeco\u001b[39m(*a: Any, **kw: Any) -> Any:\n\u001b[32m    178\u001b[39m     \u001b[38;5;28;01mtry\u001b[39;00m:\n\u001b[32m--> \u001b[39m\u001b[32m179\u001b[39m         \u001b[38;5;28;01mreturn\u001b[39;00m \u001b[43mf\u001b[49m\u001b[43m(\u001b[49m\u001b[43m*\u001b[49m\u001b[43ma\u001b[49m\u001b[43m,\u001b[49m\u001b[43m \u001b[49m\u001b[43m*\u001b[49m\u001b[43m*\u001b[49m\u001b[43mkw\u001b[49m\u001b[43m)\u001b[49m\n\u001b[32m    180\u001b[39m     \u001b[38;5;28;01mexcept\u001b[39;00m Py4JJavaError \u001b[38;5;28;01mas\u001b[39;00m e:\n\u001b[32m    181\u001b[39m         converted = convert_exception(e.java_exception)\n",
      "\u001b[36mFile \u001b[39m\u001b[32mc:\\UMD\\Sem 4\\MSML651 Big Data Analytics\\Homeworks\\.venv\\Lib\\site-packages\\py4j\\protocol.py:326\u001b[39m, in \u001b[36mget_return_value\u001b[39m\u001b[34m(answer, gateway_client, target_id, name)\u001b[39m\n\u001b[32m    324\u001b[39m value = OUTPUT_CONVERTER[\u001b[38;5;28mtype\u001b[39m](answer[\u001b[32m2\u001b[39m:], gateway_client)\n\u001b[32m    325\u001b[39m \u001b[38;5;28;01mif\u001b[39;00m answer[\u001b[32m1\u001b[39m] == REFERENCE_TYPE:\n\u001b[32m--> \u001b[39m\u001b[32m326\u001b[39m     \u001b[38;5;28;01mraise\u001b[39;00m Py4JJavaError(\n\u001b[32m    327\u001b[39m         \u001b[33m\"\u001b[39m\u001b[33mAn error occurred while calling \u001b[39m\u001b[38;5;132;01m{0}\u001b[39;00m\u001b[38;5;132;01m{1}\u001b[39;00m\u001b[38;5;132;01m{2}\u001b[39;00m\u001b[33m.\u001b[39m\u001b[38;5;130;01m\\n\u001b[39;00m\u001b[33m\"\u001b[39m.\n\u001b[32m    328\u001b[39m         \u001b[38;5;28mformat\u001b[39m(target_id, \u001b[33m\"\u001b[39m\u001b[33m.\u001b[39m\u001b[33m\"\u001b[39m, name), value)\n\u001b[32m    329\u001b[39m \u001b[38;5;28;01melse\u001b[39;00m:\n\u001b[32m    330\u001b[39m     \u001b[38;5;28;01mraise\u001b[39;00m Py4JError(\n\u001b[32m    331\u001b[39m         \u001b[33m\"\u001b[39m\u001b[33mAn error occurred while calling \u001b[39m\u001b[38;5;132;01m{0}\u001b[39;00m\u001b[38;5;132;01m{1}\u001b[39;00m\u001b[38;5;132;01m{2}\u001b[39;00m\u001b[33m. Trace:\u001b[39m\u001b[38;5;130;01m\\n\u001b[39;00m\u001b[38;5;132;01m{3}\u001b[39;00m\u001b[38;5;130;01m\\n\u001b[39;00m\u001b[33m\"\u001b[39m.\n\u001b[32m    332\u001b[39m         \u001b[38;5;28mformat\u001b[39m(target_id, \u001b[33m\"\u001b[39m\u001b[33m.\u001b[39m\u001b[33m\"\u001b[39m, name, value))\n",
      "\u001b[31mPy4JJavaError\u001b[39m: An error occurred while calling o158.numRows.\n: org.apache.spark.SparkException: Job aborted due to stage failure: Task 17 in stage 17.0 failed 1 times, most recent failure: Lost task 17.0 in stage 17.0 (TID 57) (10.173.0.254 executor driver): org.apache.spark.api.python.PythonException: Traceback (most recent call last):\n  File \"C:\\Program Files\\spark\\spark-3.5.5-bin-hadoop3\\python\\lib\\pyspark.zip\\pyspark\\worker.py\", line 1227, in main\n  File \"C:\\Program Files\\spark\\spark-3.5.5-bin-hadoop3\\python\\lib\\pyspark.zip\\pyspark\\worker.py\", line 90, in read_command\n  File \"C:\\Program Files\\spark\\spark-3.5.5-bin-hadoop3\\python\\lib\\pyspark.zip\\pyspark\\serializers.py\", line 174, in _read_with_length\n    return self.loads(obj)\n           ^^^^^^^^^^^^^^^\n  File \"C:\\Program Files\\spark\\spark-3.5.5-bin-hadoop3\\python\\lib\\pyspark.zip\\pyspark\\serializers.py\", line 472, in loads\n    return cloudpickle.loads(obj, encoding=encoding)\n           ^^^^^^^^^^^^^^^^^^^^^^^^^^^^^^^^^^^^^^^^^\n  File \"C:\\Program Files\\spark\\spark-3.5.5-bin-hadoop3\\python\\lib\\pyspark.zip\\pyspark\\mllib\\__init__.py\", line 26, in <module>\n    import numpy\nModuleNotFoundError: No module named 'numpy'\n\r\n\tat org.apache.spark.api.python.BasePythonRunner$ReaderIterator.handlePythonException(PythonRunner.scala:572)\r\n\tat org.apache.spark.api.python.PythonRunner$$anon$3.read(PythonRunner.scala:784)\r\n\tat org.apache.spark.api.python.PythonRunner$$anon$3.read(PythonRunner.scala:766)\r\n\tat org.apache.spark.api.python.BasePythonRunner$ReaderIterator.hasNext(PythonRunner.scala:525)\r\n\tat org.apache.spark.InterruptibleIterator.hasNext(InterruptibleIterator.scala:37)\r\n\tat scala.collection.Iterator$$anon$11.hasNext(Iterator.scala:491)\r\n\tat org.apache.spark.util.Iterators$.size(Iterators.scala:29)\r\n\tat org.apache.spark.util.Utils$.getIteratorSize(Utils.scala:1787)\r\n\tat org.apache.spark.rdd.RDD.$anonfun$count$1(RDD.scala:1296)\r\n\tat org.apache.spark.rdd.RDD.$anonfun$count$1$adapted(RDD.scala:1296)\r\n\tat org.apache.spark.SparkContext.$anonfun$runJob$5(SparkContext.scala:2433)\r\n\tat org.apache.spark.scheduler.ResultTask.runTask(ResultTask.scala:93)\r\n\tat org.apache.spark.TaskContext.runTaskWithListeners(TaskContext.scala:166)\r\n\tat org.apache.spark.scheduler.Task.run(Task.scala:141)\r\n\tat org.apache.spark.executor.Executor$TaskRunner.$anonfun$run$4(Executor.scala:620)\r\n\tat org.apache.spark.util.SparkErrorUtils.tryWithSafeFinally(SparkErrorUtils.scala:64)\r\n\tat org.apache.spark.util.SparkErrorUtils.tryWithSafeFinally$(SparkErrorUtils.scala:61)\r\n\tat org.apache.spark.util.Utils$.tryWithSafeFinally(Utils.scala:94)\r\n\tat org.apache.spark.executor.Executor$TaskRunner.run(Executor.scala:623)\r\n\tat java.util.concurrent.ThreadPoolExecutor.runWorker(ThreadPoolExecutor.java:1149)\r\n\tat java.util.concurrent.ThreadPoolExecutor$Worker.run(ThreadPoolExecutor.java:624)\r\n\tat java.lang.Thread.run(Thread.java:750)\r\n\nDriver stacktrace:\r\n\tat org.apache.spark.scheduler.DAGScheduler.failJobAndIndependentStages(DAGScheduler.scala:2856)\r\n\tat org.apache.spark.scheduler.DAGScheduler.$anonfun$abortStage$2(DAGScheduler.scala:2792)\r\n\tat org.apache.spark.scheduler.DAGScheduler.$anonfun$abortStage$2$adapted(DAGScheduler.scala:2791)\r\n\tat scala.collection.mutable.ResizableArray.foreach(ResizableArray.scala:62)\r\n\tat scala.collection.mutable.ResizableArray.foreach$(ResizableArray.scala:55)\r\n\tat scala.collection.mutable.ArrayBuffer.foreach(ArrayBuffer.scala:49)\r\n\tat org.apache.spark.scheduler.DAGScheduler.abortStage(DAGScheduler.scala:2791)\r\n\tat org.apache.spark.scheduler.DAGScheduler.$anonfun$handleTaskSetFailed$1(DAGScheduler.scala:1247)\r\n\tat org.apache.spark.scheduler.DAGScheduler.$anonfun$handleTaskSetFailed$1$adapted(DAGScheduler.scala:1247)\r\n\tat scala.Option.foreach(Option.scala:407)\r\n\tat org.apache.spark.scheduler.DAGScheduler.handleTaskSetFailed(DAGScheduler.scala:1247)\r\n\tat org.apache.spark.scheduler.DAGSchedulerEventProcessLoop.doOnReceive(DAGScheduler.scala:3060)\r\n\tat org.apache.spark.scheduler.DAGSchedulerEventProcessLoop.onReceive(DAGScheduler.scala:2994)\r\n\tat org.apache.spark.scheduler.DAGSchedulerEventProcessLoop.onReceive(DAGScheduler.scala:2983)\r\n\tat org.apache.spark.util.EventLoop$$anon$1.run(EventLoop.scala:49)\r\n\tat org.apache.spark.scheduler.DAGScheduler.runJob(DAGScheduler.scala:989)\r\n\tat org.apache.spark.SparkContext.runJob(SparkContext.scala:2393)\r\n\tat org.apache.spark.SparkContext.runJob(SparkContext.scala:2414)\r\n\tat org.apache.spark.SparkContext.runJob(SparkContext.scala:2433)\r\n\tat org.apache.spark.SparkContext.runJob(SparkContext.scala:2458)\r\n\tat org.apache.spark.rdd.RDD.count(RDD.scala:1296)\r\n\tat org.apache.spark.mllib.linalg.distributed.RowMatrix.numRows(RowMatrix.scala:76)\r\n\tat sun.reflect.NativeMethodAccessorImpl.invoke0(Native Method)\r\n\tat sun.reflect.NativeMethodAccessorImpl.invoke(NativeMethodAccessorImpl.java:62)\r\n\tat sun.reflect.DelegatingMethodAccessorImpl.invoke(DelegatingMethodAccessorImpl.java:43)\r\n\tat java.lang.reflect.Method.invoke(Method.java:498)\r\n\tat py4j.reflection.MethodInvoker.invoke(MethodInvoker.java:244)\r\n\tat py4j.reflection.ReflectionEngine.invoke(ReflectionEngine.java:374)\r\n\tat py4j.Gateway.invoke(Gateway.java:282)\r\n\tat py4j.commands.AbstractCommand.invokeMethod(AbstractCommand.java:132)\r\n\tat py4j.commands.CallCommand.execute(CallCommand.java:79)\r\n\tat py4j.ClientServerConnection.waitForCommands(ClientServerConnection.java:182)\r\n\tat py4j.ClientServerConnection.run(ClientServerConnection.java:106)\r\n\tat java.lang.Thread.run(Thread.java:750)\r\nCaused by: org.apache.spark.api.python.PythonException: Traceback (most recent call last):\n  File \"C:\\Program Files\\spark\\spark-3.5.5-bin-hadoop3\\python\\lib\\pyspark.zip\\pyspark\\worker.py\", line 1227, in main\n  File \"C:\\Program Files\\spark\\spark-3.5.5-bin-hadoop3\\python\\lib\\pyspark.zip\\pyspark\\worker.py\", line 90, in read_command\n  File \"C:\\Program Files\\spark\\spark-3.5.5-bin-hadoop3\\python\\lib\\pyspark.zip\\pyspark\\serializers.py\", line 174, in _read_with_length\n    return self.loads(obj)\n           ^^^^^^^^^^^^^^^\n  File \"C:\\Program Files\\spark\\spark-3.5.5-bin-hadoop3\\python\\lib\\pyspark.zip\\pyspark\\serializers.py\", line 472, in loads\n    return cloudpickle.loads(obj, encoding=encoding)\n           ^^^^^^^^^^^^^^^^^^^^^^^^^^^^^^^^^^^^^^^^^\n  File \"C:\\Program Files\\spark\\spark-3.5.5-bin-hadoop3\\python\\lib\\pyspark.zip\\pyspark\\mllib\\__init__.py\", line 26, in <module>\n    import numpy\nModuleNotFoundError: No module named 'numpy'\n\r\n\tat org.apache.spark.api.python.BasePythonRunner$ReaderIterator.handlePythonException(PythonRunner.scala:572)\r\n\tat org.apache.spark.api.python.PythonRunner$$anon$3.read(PythonRunner.scala:784)\r\n\tat org.apache.spark.api.python.PythonRunner$$anon$3.read(PythonRunner.scala:766)\r\n\tat org.apache.spark.api.python.BasePythonRunner$ReaderIterator.hasNext(PythonRunner.scala:525)\r\n\tat org.apache.spark.InterruptibleIterator.hasNext(InterruptibleIterator.scala:37)\r\n\tat scala.collection.Iterator$$anon$11.hasNext(Iterator.scala:491)\r\n\tat org.apache.spark.util.Iterators$.size(Iterators.scala:29)\r\n\tat org.apache.spark.util.Utils$.getIteratorSize(Utils.scala:1787)\r\n\tat org.apache.spark.rdd.RDD.$anonfun$count$1(RDD.scala:1296)\r\n\tat org.apache.spark.rdd.RDD.$anonfun$count$1$adapted(RDD.scala:1296)\r\n\tat org.apache.spark.SparkContext.$anonfun$runJob$5(SparkContext.scala:2433)\r\n\tat org.apache.spark.scheduler.ResultTask.runTask(ResultTask.scala:93)\r\n\tat org.apache.spark.TaskContext.runTaskWithListeners(TaskContext.scala:166)\r\n\tat org.apache.spark.scheduler.Task.run(Task.scala:141)\r\n\tat org.apache.spark.executor.Executor$TaskRunner.$anonfun$run$4(Executor.scala:620)\r\n\tat org.apache.spark.util.SparkErrorUtils.tryWithSafeFinally(SparkErrorUtils.scala:64)\r\n\tat org.apache.spark.util.SparkErrorUtils.tryWithSafeFinally$(SparkErrorUtils.scala:61)\r\n\tat org.apache.spark.util.Utils$.tryWithSafeFinally(Utils.scala:94)\r\n\tat org.apache.spark.executor.Executor$TaskRunner.run(Executor.scala:623)\r\n\tat java.util.concurrent.ThreadPoolExecutor.runWorker(ThreadPoolExecutor.java:1149)\r\n\tat java.util.concurrent.ThreadPoolExecutor$Worker.run(ThreadPoolExecutor.java:624)\r\n\t... 1 more\r\n"
     ]
    }
   ],
   "source": [
    "from pyspark.mllib.linalg import SparseVector\n",
    "from pyspark.mllib.linalg.distributed import RowMatrix\n",
    "import numpy\n",
    "\n",
    "# Example: Create an RDD of SparseVectors\n",
    "data = [\n",
    "    SparseVector(5, {0: 1.0, 3: 2.0}),\n",
    "    SparseVector(5, {1: 3.0}),\n",
    "    SparseVector(5, {2: 4.0, 4: 5.0})\n",
    "]\n",
    "rdd = spark.sparkContext.parallelize(data)\n",
    "\n",
    "# Create a RowMatrix\n",
    "row_matrix = RowMatrix(rdd)\n",
    "\n",
    "# Print the number of rows and columns\n",
    "print(\"Number of rows:\", row_matrix.numRows())\n",
    "print(\"Number of columns:\", row_matrix.numCols())"
   ]
  },
  {
   "cell_type": "code",
   "execution_count": null,
   "metadata": {},
   "outputs": [],
   "source": [
    "sparse_vector = SparseVector(num_cols, movies_single.select(\"genres\").rdd.flatMap(lambda x: x).collect())"
   ]
  },
  {
   "cell_type": "code",
   "execution_count": 18,
   "metadata": {},
   "outputs": [
    {
     "name": "stdout",
     "output_type": "stream",
     "text": [
      "+-------+----------------+---------+\n",
      "|movieId|           title|   genres|\n",
      "+-------+----------------+---------+\n",
      "|      1|Toy Story (1995)|adventure|\n",
      "|      1|Toy Story (1995)|animation|\n",
      "|      1|Toy Story (1995)| children|\n",
      "+-------+----------------+---------+\n",
      "only showing top 3 rows\n",
      "\n"
     ]
    }
   ],
   "source": [
    "movies_single.show(3)"
   ]
  },
  {
   "cell_type": "code",
   "execution_count": 13,
   "metadata": {},
   "outputs": [
    {
     "ename": "TypeError",
     "evalue": "SparseMatrix.__init__() missing 3 required positional arguments: 'colPtrs', 'rowIndices', and 'values'",
     "output_type": "error",
     "traceback": [
      "\u001b[31m---------------------------------------------------------------------------\u001b[39m",
      "\u001b[31mTypeError\u001b[39m                                 Traceback (most recent call last)",
      "\u001b[36mCell\u001b[39m\u001b[36m \u001b[39m\u001b[32mIn[13]\u001b[39m\u001b[32m, line 1\u001b[39m\n\u001b[32m----> \u001b[39m\u001b[32m1\u001b[39m movies_sparse = \u001b[43mSparseMatrix\u001b[49m\u001b[43m(\u001b[49m\n\u001b[32m      2\u001b[39m \u001b[43m    \u001b[49m\u001b[43mnumCols\u001b[49m\u001b[43m=\u001b[49m\u001b[43mnum_cols\u001b[49m\u001b[43m,\u001b[49m\n\u001b[32m      3\u001b[39m \u001b[43m    \u001b[49m\u001b[43mnumRows\u001b[49m\u001b[43m=\u001b[49m\u001b[43mnum_rows\u001b[49m\u001b[43m,\u001b[49m\n\u001b[32m      4\u001b[39m \u001b[43m    \u001b[49m\u001b[43m)\u001b[49m.asML(movies_onehot)\n",
      "\u001b[31mTypeError\u001b[39m: SparseMatrix.__init__() missing 3 required positional arguments: 'colPtrs', 'rowIndices', and 'values'"
     ]
    }
   ],
   "source": [
    "movies_sparse = SparseMatrix(\n",
    "    numCols=num_cols,\n",
    "    numRows=num_rows,\n",
    "    ).asML(movies_onehot)"
   ]
  },
  {
   "cell_type": "code",
   "execution_count": 52,
   "metadata": {},
   "outputs": [
    {
     "name": "stdout",
     "output_type": "stream",
     "text": [
      "+-------+--------------------+\n",
      "|movieId|            features|\n",
      "+-------+--------------------+\n",
      "| 147414|(20,[1,8,15,17],[...|\n",
      "| 151859|(20,[2,6,14],[1.0...|\n",
      "| 198607|(20,[3,5],[1.0,1.0])|\n",
      "+-------+--------------------+\n",
      "only showing top 3 rows\n",
      "\n"
     ]
    }
   ],
   "source": [
    "movie_feature_cols = movies_onehot.columns[1:]\n",
    "movies_assembler = VectorAssembler(inputCols=movie_feature_cols, outputCol=\"features\")\n",
    "movies_onehot = movies_assembler.transform(movies_onehot).select(\"movieId\", \"features\")\n",
    "movies_onehot.show(3)"
   ]
  },
  {
   "cell_type": "code",
   "execution_count": 66,
   "metadata": {},
   "outputs": [
    {
     "name": "stdout",
     "output_type": "stream",
     "text": [
      "KMeans Silhouette for k=4:  0.230810648300273\n",
      "KMeans Silhouette for k=8:  0.39686344953318026\n",
      "KMeans Silhouette for k=12:  0.4848765551460012\n",
      "KMeans Silhouette for k=16:  0.5319577537939459\n",
      "KMeans Silhouette for k=20:  0.5318168525599805\n",
      "KMeans Silhouette for k=24:  0.5415442583274652\n",
      "KMeans Silhouette for k=28:  0.5849899949393773\n",
      "KMeans Silhouette for k=32:  0.5571072623394723\n",
      "KMeans Silhouette for k=36:  0.5607506883778433\n",
      "KMeans Silhouette for k=40:  0.614128636474643\n",
      "KMeans Silhouette for k=44:  0.6331749824121705\n",
      "KMeans Silhouette for k=48:  0.6253644539181423\n",
      "KMeans Silhouette for k=52:  0.6611498467531288\n",
      "KMeans Silhouette for k=56:  0.6633362494386746\n",
      "KMeans Silhouette for k=60:  0.6703229654234004\n",
      "KMeans Silhouette for k=64:  0.6848288955160527\n",
      "KMeans Silhouette for k=68:  0.6925814677360485\n",
      "KMeans Silhouette for k=72:  0.6865237035747763\n",
      "KMeans Silhouette for k=76:  0.7078725859269042\n",
      "KMeans Silhouette for k=80:  0.7142984774761176\n",
      "KMeans Silhouette for k=84:  0.7131188101511616\n",
      "KMeans Silhouette for k=88:  0.7109025300198307\n",
      "KMeans Silhouette for k=92:  0.7228537172063029\n",
      "KMeans Silhouette for k=96:  0.7525211103919482\n",
      "KMeans Silhouette for k=100:  0.7421590628270416\n"
     ]
    }
   ],
   "source": [
    "kmeans_k_silhouette = []\n",
    "for k in range(4, 102, 4):\n",
    "    kmeans  = KMeans(k=k, seed=1, featuresCol=\"features\", predictionCol=\"cluster\")\n",
    "    kmeans_model = kmeans.fit(movies_onehot)\n",
    "    kmeans_predictions = kmeans_model.transform(movies_onehot)\n",
    "    kmeans_evaluator = ClusteringEvaluator(predictionCol=\"cluster\", featuresCol=\"features\")\n",
    "    kmeans_silhouette = kmeans_evaluator.evaluate(kmeans_predictions)\n",
    "    kmeans_k_silhouette.append(kmeans_silhouette)\n",
    "    print(\"KMeans Silhouette for k={}: \".format(k), kmeans_silhouette)"
   ]
  },
  {
   "cell_type": "code",
   "execution_count": 68,
   "metadata": {},
   "outputs": [
    {
     "data": {
      "image/png": "[encoded data removed]",
      "text/plain": [
       "<Figure size 640x480 with 1 Axes>"
      ]
     },
     "metadata": {},
     "output_type": "display_data"
    }
   ],
   "source": [
    "plt.plot(range(2, 102, 4), kmeans_k_silhouette)\n",
    "plt.xlabel(\"k\")\n",
    "plt.ylabel(\"Silhouette\")\n",
    "plt.title(\"KMeans Silhouette for k=2..20\")\n",
    "plt.show()"
   ]
  },
  {
   "cell_type": "code",
   "execution_count": null,
   "metadata": {},
   "outputs": [],
   "source": [
    "kmeans_evaluator."
   ]
  },
  {
   "cell_type": "code",
   "execution_count": 6,
   "metadata": {},
   "outputs": [],
   "source": [
    "# Set the maximum number of columns allowed in a pivot operation\n",
    "spark.conf.set(\"spark.sql.pivotMaxValues\", 60000)\n",
    "\n",
    "# Pivot the table to create a column for each movieId\n",
    "pivot_df = train_movie_ratings.groupBy(\"userId\").pivot(\"movieId\").agg(F.first(\"rating\"))\n"
   ]
  },
  {
   "cell_type": "code",
   "execution_count": 9,
   "metadata": {},
   "outputs": [
    {
     "ename": "",
     "evalue": "",
     "output_type": "error",
     "traceback": [
      "\u001b[1;31mCannot execute code, session has been disposed. Please try restarting the Kernel."
     ]
    },
    {
     "ename": "",
     "evalue": "",
     "output_type": "error",
     "traceback": [
      "\u001b[1;31mCannot execute code, session has been disposed. Please try restarting the Kernel. \n",
      "\u001b[1;31mView Jupyter <a href='command:jupyter.viewOutput'>log</a> for further details."
     ]
    }
   ],
   "source": [
    "# Fill missing values with 0\n",
    "filled_df = pivot_df.fillna(0)"
   ]
  },
  {
   "cell_type": "code",
   "execution_count": 8,
   "metadata": {},
   "outputs": [],
   "source": [
    "# Set the maximum number of columns allowed in a pivot operation\n",
    "spark.conf.set(\"spark.sql.pivotMaxValues\", 60000)\n",
    "\n",
    "all_users = train_movie_ratings.select(\"userId\").distinct().select(\"userId\")    \n",
    "all_movies = train_movie_ratings.select(\"movieId\").distinct().select(\"movieId\")     \n",
    "\n",
    "all_users_movies = all_users.crossJoin(all_movies)\n",
    "all_users_movies_ratings = all_users_movies.join(\n",
    "    train_movie_ratings, [\"userId\", \"movieId\"], \"left\"\n",
    ").select(\n",
    "    all_users_movies.userId, \n",
    "    all_users_movies.movieId,\n",
    "    F.when(F.col(\"rating\").isNull(), 0).otherwise(F.col(\"rating\")).alias(\"rating\")\n",
    ")\n",
    "\n",
    "# Pivot the table to create a column for each movieId\n",
    "pivot_df = all_users_movies_ratings.groupBy(\"userId\").pivot(\"movieId\").agg(F.first(\"rating\"))"
   ]
  },
  {
   "cell_type": "code",
   "execution_count": null,
   "metadata": {},
   "outputs": [],
   "source": [
    "# Step 3: Convert rows to vectors\n",
    "movie_columns = pivot_df.columns[1:]  # Exclude userId\n",
    "vector_assembler = VectorAssembler(inputCols=movie_columns, outputCol=\"features\")\n",
    "vectorized_df = vector_assembler.transform(pivot_df).select(\"userId\", \"features\")\n",
    "\n",
    "# Step 4: Apply KMeans for clustering (or use similarity for KNN)\n",
    "kmeans = KMeans(k=10, seed=42, featuresCol=\"features\", predictionCol=\"cluster\")\n",
    "kmeans_model = kmeans.fit(vectorized_df)\n",
    "\n",
    "# Step 5: Get cluster assignments\n",
    "clustered_df = kmeans_model.transform(vectorized_df)\n"
   ]
  },
  {
   "cell_type": "markdown",
   "metadata": {},
   "source": [
    "## ALS"
   ]
  },
  {
   "cell_type": "code",
   "execution_count": 7,
   "metadata": {},
   "outputs": [
    {
     "data": {
      "text/plain": [
       "ALS_3158e0d5a4e4"
      ]
     },
     "execution_count": 7,
     "metadata": {},
     "output_type": "execute_result"
    }
   ],
   "source": [
    "als_model = ALS(\n",
    "    maxIter=5,\n",
    "    regParam=0.01,\n",
    "    userCol=\"userId\",\n",
    "    itemCol=\"movieId\",\n",
    "    ratingCol=\"rating\",\n",
    "    coldStartStrategy=\"drop\",\n",
    "    implicitPrefs=False,\n",
    "    nonnegative=True,\n",
    "    rank=10,\n",
    "    seed=42,\n",
    ")\n",
    "als_model.setPredictionCol(\"prediction\")"
   ]
  },
  {
   "cell_type": "code",
   "execution_count": 8,
   "metadata": {},
   "outputs": [],
   "source": [
    "from pyspark.ml.tuning import TrainValidationSplit, ParamGridBuilder\n",
    "param_grid = ParamGridBuilder() \\\n",
    "    .addGrid(als_model.rank, [13, 15, 17]) \\\n",
    "    .addGrid(als_model.maxIter, [19, 20]) \\\n",
    "    .addGrid(als_model.regParam, [.18, .19]) \\\n",
    "    .build()\n",
    "\n",
    "evaluator = RegressionEvaluator(\n",
    "    labelCol=\"rating\", predictionCol=\"prediction\", metricName=\"rmse\"\n",
    ")\n",
    "\n",
    "# tvs = TrainValidationSplit(\n",
    "#     estimator=als_model,\n",
    "#     # estimatorParamMaps=param_grid,\n",
    "#     evaluator=evaluator,\n",
    "#     trainRatio=0.8,\n",
    "# )\n",
    "\n",
    "cross_validator = CrossValidator(\n",
    "    estimator=als_model,\n",
    "    estimatorParamMaps=param_grid,\n",
    "    evaluator=evaluator,\n",
    "    numFolds=3,\n",
    "    parallelism=2,  # Adjust based on your cluster size\n",
    ")"
   ]
  },
  {
   "cell_type": "code",
   "execution_count": 9,
   "metadata": {},
   "outputs": [],
   "source": [
    "train = False\n",
    "model = None\n",
    "if train == True:\n",
    "    model = cross_validator.fit(train_ratings)\n",
    "    # Save the ALS model\n",
    "    model.write().overwrite().save(os.path.join(project_path, \"als_model\"))\n",
    "else:\n",
    "    # Load the ALS model\n",
    "    model = CrossValidatorModel.load(os.path.join(project_path, \"als_model\"))\n",
    "    \n",
    "best_model = model.bestModel"
   ]
  },
  {
   "cell_type": "code",
   "execution_count": 23,
   "metadata": {},
   "outputs": [
    {
     "name": "stdout",
     "output_type": "stream",
     "text": [
      "ALS RMSE:  0.8493693300259775\n",
      "ALS MAE:  0.6628882806698647\n"
     ]
    }
   ],
   "source": [
    "predictions = best_model.transform(test_ratings)\n",
    "als_rmse = evaluator.evaluate(predictions)\n",
    "mae_evaluator = RegressionEvaluator(\n",
    "    labelCol=\"rating\", predictionCol=\"prediction\", metricName=\"mae\"\n",
    ")\n",
    "als_mae = mae_evaluator.evaluate(predictions)\n",
    "print(\"ALS RMSE: \", als_rmse)\n",
    "print(\"ALS MAE: \", als_mae)"
   ]
  },
  {
   "cell_type": "code",
   "execution_count": 27,
   "metadata": {},
   "outputs": [
    {
     "name": "stdout",
     "output_type": "stream",
     "text": [
      "Weighted RMSE: 0.8511551928349687\n",
      "Weighted MAE: 0.6639617351422683\n"
     ]
    }
   ],
   "source": [
    "# Step 1: Join weights\n",
    "als_predictions_with_weights = predictions.join(\n",
    "    movie_weights, \"movieId\", \"left\"\n",
    ").select(\n",
    "    predictions.userId, \n",
    "    predictions.movieId,\n",
    "    predictions.rating,\n",
    "    predictions.prediction,\n",
    "    F.when(F.col(\"weight\").isNull(), 0).otherwise(F.col(\"weight\")).alias(\"weight\")\n",
    ")\n",
    "\n",
    "# Step 2: Calculate absolute error\n",
    "mae_predictions = als_predictions_with_weights.withColumn(\n",
    "    \"absolute_error\", F.abs(F.col(\"rating\") - F.col(\"prediction\"))\n",
    ")\n",
    "rmse_predictions = als_predictions_with_weights.withColumn(\n",
    "    \"squared_error\", F.pow(F.col(\"rating\") - F.col(\"prediction\"), 2)\n",
    ")\n",
    "\n",
    "# Step 3: Multiply absolute error by weight\n",
    "mae_predictions = mae_predictions.withColumn(\n",
    "    \"weighted_error\", F.col(\"absolute_error\") * F.col(\"weight\")\n",
    ")\n",
    "rmse_predictions = rmse_predictions.withColumn(\n",
    "    \"weighted_squared_error\", F.col(\"squared_error\") * F.col(\"weight\")\n",
    ")\n",
    "\n",
    "# Step 4: Calculate Weighted MAE\n",
    "weighted_rmse = rmse_predictions.agg(\n",
    "    F.sqrt((F.sum(\"weighted_squared_error\") / F.sum(\"weight\"))).alias(\"weighted_rmse\")\n",
    ").collect()[0][\"weighted_rmse\"]\n",
    "weighted_mae = mae_predictions.agg(\n",
    "    (F.sum(\"weighted_error\") / F.sum(\"weight\")).alias(\"weighted_mae\")\n",
    ").collect()[0][\"weighted_mae\"]\n",
    "\n",
    "print(\"Weighted RMSE:\", weighted_rmse)\n",
    "print(\"Weighted MAE:\", weighted_mae)"
   ]
  },
  {
   "cell_type": "code",
   "execution_count": 12,
   "metadata": {},
   "outputs": [
    {
     "name": "stdout",
     "output_type": "stream",
     "text": [
      "Best model parameters: \n",
      "Rank:  13\n"
     ]
    }
   ],
   "source": [
    "print(\"Best model parameters: \")\n",
    "print(\"Rank: \", best_model.rank)\n",
    "# print(\"MaxIter: \", loaded_model._java_obj.parent().getMaxIter())  # Access parent ALS object\n",
    "# print(\"RegParam: \", loaded_model._java_obj.parent().getRegParam())  # Access parent ALS object"
   ]
  },
  {
   "cell_type": "code",
   "execution_count": 10,
   "metadata": {},
   "outputs": [],
   "source": [
    "user_recommendations = best_model.recommendForAllUsers(10)\n"
   ]
  },
  {
   "cell_type": "code",
   "execution_count": 14,
   "metadata": {},
   "outputs": [
    {
     "name": "stdout",
     "output_type": "stream",
     "text": [
      "+------+---------------------------------------------------------------------------------------------------------------------------------------------------------------------------------------------------------------+\n",
      "|userId|recommendations                                                                                                                                                                                                |\n",
      "+------+---------------------------------------------------------------------------------------------------------------------------------------------------------------------------------------------------------------+\n",
      "|31    |[{270306, 7.741316}, {240070, 7.741316}, {240054, 7.741316}, {151989, 7.0174136}, {194434, 6.7485805}, {225435, 6.327751}, {227066, 6.2909265}, {210561, 6.2549076}, {276819, 6.1940427}, {292313, 6.1930537}] |\n",
      "|34    |[{225435, 6.913541}, {166641, 6.4713945}, {270306, 6.4553356}, {240070, 6.4553356}, {240054, 6.4553356}, {225437, 6.2221856}, {225425, 6.2221856}, {222368, 6.107736}, {209193, 5.8754096}, {194434, 5.782764}]|\n",
      "|53    |[{225435, 9.040414}, {166641, 8.680416}, {270306, 8.200886}, {240070, 8.200886}, {240054, 8.200886}, {225437, 8.1363735}, {225425, 8.1363735}, {222368, 8.072521}, {209193, 7.79936}, {194434, 7.367523}]      |\n",
      "+------+---------------------------------------------------------------------------------------------------------------------------------------------------------------------------------------------------------------+\n",
      "only showing top 3 rows\n",
      "\n"
     ]
    }
   ],
   "source": [
    "user_recommendations.show(3, truncate=False)"
   ]
  },
  {
   "cell_type": "code",
   "execution_count": 11,
   "metadata": {},
   "outputs": [],
   "source": [
    "from pyspark.sql.functions import expr\n",
    "\n",
    "# Transform recommendations to ensure movie IDs are doubles\n",
    "user_recommendations_transformed = user_recommendations.withColumn(\n",
    "    \"recommendations\",\n",
    "    expr(\"transform(recommendations, x -> double(x.movieId))\")\n",
    ")"
   ]
  },
  {
   "cell_type": "code",
   "execution_count": 23,
   "metadata": {},
   "outputs": [
    {
     "name": "stdout",
     "output_type": "stream",
     "text": [
      "+------+----------------------------------------------------------------------------------------------------+\n",
      "|userId|recommendations                                                                                     |\n",
      "+------+----------------------------------------------------------------------------------------------------+\n",
      "|31    |[270306.0, 240070.0, 240054.0, 151989.0, 194434.0, 225435.0, 227066.0, 210561.0, 276819.0, 292313.0]|\n",
      "|34    |[225435.0, 166641.0, 270306.0, 240070.0, 240054.0, 225437.0, 225425.0, 222368.0, 209193.0, 194434.0]|\n",
      "|53    |[225435.0, 166641.0, 270306.0, 240070.0, 240054.0, 225437.0, 225425.0, 222368.0, 209193.0, 194434.0]|\n",
      "+------+----------------------------------------------------------------------------------------------------+\n",
      "only showing top 3 rows\n",
      "\n"
     ]
    }
   ],
   "source": [
    "user_recommendations_transformed.show(3, truncate=False)"
   ]
  },
  {
   "cell_type": "code",
   "execution_count": 26,
   "metadata": {},
   "outputs": [
    {
     "name": "stdout",
     "output_type": "stream",
     "text": [
      "+------+-------+------+---------+\n",
      "|userId|movieId|rating|timestamp|\n",
      "+------+-------+------+---------+\n",
      "|1     |29     |2.0   |943230976|\n",
      "|1     |36     |1.0   |944249008|\n",
      "|1     |110    |3.0   |943231119|\n",
      "+------+-------+------+---------+\n",
      "only showing top 3 rows\n",
      "\n"
     ]
    }
   ],
   "source": [
    "test_ratings.show(3, truncate=False)"
   ]
  },
  {
   "cell_type": "code",
   "execution_count": 25,
   "metadata": {},
   "outputs": [
    {
     "name": "stdout",
     "output_type": "stream",
     "text": [
      "Ranking Precision:  1.0\n"
     ]
    }
   ],
   "source": []
  },
  {
   "cell_type": "code",
   "execution_count": null,
   "metadata": {},
   "outputs": [],
   "source": [
    "from pyspark.sql.functions import expr, col\n",
    "\n",
    "# Transform recommendations to match RankingEvaluator requirements\n",
    "user_recommendations_transformed = user_recommendations.withColumn(\n",
    "    \"recommendations\",\n",
    "    expr(\"transform(recommendations, x -> double(x.movieId))\")\n",
    ")\n"
   ]
  },
  {
   "cell_type": "code",
   "execution_count": 21,
   "metadata": {},
   "outputs": [
    {
     "name": "stdout",
     "output_type": "stream",
     "text": [
      "+------+----------------------------------------------------------------------------------------------------+-------+\n",
      "|userId|recommendations                                                                                     |movieId|\n",
      "+------+----------------------------------------------------------------------------------------------------+-------+\n",
      "|31    |[270306.0, 240070.0, 240054.0, 151989.0, 194434.0, 225435.0, 227066.0, 210561.0, 276819.0, 292313.0]|[1]    |\n",
      "|34    |[225435.0, 166641.0, 270306.0, 240070.0, 240054.0, 225437.0, 225425.0, 222368.0, 209193.0, 194434.0]|[1]    |\n",
      "|53    |[225435.0, 166641.0, 270306.0, 240070.0, 240054.0, 225437.0, 225425.0, 222368.0, 209193.0, 194434.0]|[1]    |\n",
      "+------+----------------------------------------------------------------------------------------------------+-------+\n",
      "only showing top 3 rows\n",
      "\n"
     ]
    }
   ],
   "source": [
    "user_recommendations_with_movieId.show(3, truncate=False)   \n"
   ]
  },
  {
   "cell_type": "code",
   "execution_count": null,
   "metadata": {},
   "outputs": [],
   "source": []
  },
  {
   "cell_type": "code",
   "execution_count": 14,
   "metadata": {},
   "outputs": [
    {
     "name": "stdout",
     "output_type": "stream",
     "text": [
      "+------+-------+------+----------+\n",
      "|userId|movieId|rating|timestamp |\n",
      "+------+-------+------+----------+\n",
      "|31    |8961   |5.0   |1673768396|\n",
      "|31    |72226  |5.0   |1673768608|\n",
      "|31    |296    |4.5   |1673768317|\n",
      "|31    |51255  |4.5   |1673768485|\n",
      "|31    |134853 |4.5   |1673768723|\n",
      "|31    |50     |4.0   |1673768620|\n",
      "|31    |122918 |4.0   |1673768592|\n",
      "|31    |201340 |4.0   |1673923708|\n",
      "|31    |268642 |4.0   |1673767975|\n",
      "|31    |4816   |3.0   |1673843604|\n",
      "+------+-------+------+----------+\n",
      "only showing top 10 rows\n",
      "\n"
     ]
    }
   ],
   "source": [
    "from pyspark.sql.window import Window\n",
    "\n",
    "# Define a window partitioned by userId and ordered by rating in descending order\n",
    "window_spec = Window.partitionBy(\"userId\")  \\\n",
    "                    .orderBy(F.desc(\"rating\")) \n",
    "\n",
    "# Add a row number to each row within the window\n",
    "test_accepted_ratings = test_ratings.where(F.col(\"rating\") >= 3)\n",
    "test_ranked_ratings = test_accepted_ratings.withColumn(\"rank\", F.row_number().over(window_spec))\n",
    "\n",
    "# Filter to keep only the top 10 movies for each user\n",
    "test_top_10_movies_per_user = test_ranked_ratings.filter(F.col(\"rank\") <= 10).drop(\"rank\")\n",
    "\n",
    "test_top_10_movies_per_user.show(10, truncate=False)"
   ]
  },
  {
   "cell_type": "code",
   "execution_count": 15,
   "metadata": {},
   "outputs": [
    {
     "name": "stdout",
     "output_type": "stream",
     "text": [
      "+------+------------------------------------------------------------------------+\n",
      "|userId|movieIds                                                                |\n",
      "+------+------------------------------------------------------------------------+\n",
      "|31    |[8961, 72226, 296, 51255, 134853, 50, 122918, 201340, 268642, 4816]     |\n",
      "|34    |[5952, 1265, 1302, 1959, 56367, 150, 380, 1097, 2174, 2762]             |\n",
      "|53    |[4993, 69844]                                                           |\n",
      "|65    |[356, 912, 21, 225, 1036, 1222, 1259, 1265, 1270, 2803]                 |\n",
      "|78    |[34, 249, 373, 898, 906, 1088, 1183, 1200, 1233, 1250]                  |\n",
      "|81    |[49396, 53322, 192803, 93510, 143347, 159817, 6539, 41566, 55765, 88125]|\n",
      "|85    |[2333, 2605, 2763, 3176, 4447, 5299, 1721, 65682, 1041, 2572]           |\n",
      "|101   |[45517, 90647, 106696, 132630, 167036, 177765, 616, 32031, 49274, 87876]|\n",
      "|108   |[318, 356, 2762, 3978, 3998, 3901]                                      |\n",
      "|115   |[161, 316, 454, 457, 736, 1079, 1198, 1200, 1396, 1608]                 |\n",
      "+------+------------------------------------------------------------------------+\n",
      "only showing top 10 rows\n",
      "\n"
     ]
    }
   ],
   "source": [
    "from pyspark.sql.functions import collect_list\n",
    "\n",
    "# Collapse all filtered movies into a single array for each userId\n",
    "test_top_10_movies_per_user = test_top_10_movies_per_user.withColumn(\"movieId\", F.col(\"movieId\").cast(\"double\"))\n",
    "test_movies_collapsed = test_top_10_movies_per_user.groupBy(\"userId\").agg(collect_list(\"movieId\").alias(\"movieIds\"))\n",
    "\n",
    "test_movies_collapsed.show(10, truncate=False)"
   ]
  },
  {
   "cell_type": "code",
   "execution_count": null,
   "metadata": {},
   "outputs": [],
   "source": [
    "recall_ranking_evaluator = RankingEvaluator(\n",
    "    labelCol=\"movieIds\", \n",
    "    predictionCol=\"recommendations\", \n",
    "    metricName=\"recallAtK\",\n",
    "    k=10\n",
    ")\n",
    "\n",
    "ranking_precision = recall_ranking_evaluator.evaluate(user_rec_with_test_rec)\n",
    "print(\"Ranking Recall: \", ranking_precision)"
   ]
  },
  {
   "cell_type": "code",
   "execution_count": null,
   "metadata": {},
   "outputs": [],
   "source": [
    "precision_ranking_evaluator = RankingEvaluator(\n",
    "    labelCol=\"movieIds\", \n",
    "    predictionCol=\"recommendations\", \n",
    "    metricName=\"precisionAtK\",\n",
    "    k=10\n",
    ")\n",
    "\n",
    "ranking_precision = precision_ranking_evaluator.evaluate(user_rec_with_test_rec)\n",
    "print(\"Ranking Precision: \", ranking_precision)"
   ]
  },
  {
   "cell_type": "code",
   "execution_count": null,
   "metadata": {},
   "outputs": [],
   "source": [
    "ndcg_ranking_evaluator = RankingEvaluator(\n",
    "    labelCol=\"movieIds\", \n",
    "    predictionCol=\"recommendations\", \n",
    "    metricName=\"ndcgAtK\",\n",
    "    k=10\n",
    ")\n",
    "\n",
    "ranking_precision = ndcg_ranking_evaluator.evaluate(user_rec_with_test_rec)\n",
    "print(\"Ranking Normalized Discounted Cumulative Gain: \", ranking_precision)"
   ]
  },
  {
   "cell_type": "code",
   "execution_count": 52,
   "metadata": {},
   "outputs": [],
   "source": [
    "all_user_recommendations = best_model.recommendForAllUsers(100)\n",
    "\n",
    "# Transform recommendations to ensure movie IDs are doubles\n",
    "all_user_recommendations_transformed = all_user_recommendations.withColumn(\n",
    "    \"recommendations\",\n",
    "    expr(\"transform(recommendations, x -> double(x.movieId))\")\n",
    ")\n",
    "\n",
    "test_accepted_ratings_double = test_accepted_ratings.withColumn(\"movieId\", F.col(\"movieId\").cast(\"double\"))\n",
    "test_all_accepted_movies = test_accepted_ratings_double.groupBy(\"userId\").agg(collect_list(\"movieId\").alias(\"movieIds\"))\n",
    "\n",
    "all_train_test_user_rec = all_user_recommendations_transformed.join(\n",
    "    test_all_accepted_movies, \"userId\"\n",
    ")"
   ]
  },
  {
   "cell_type": "code",
   "execution_count": 53,
   "metadata": {},
   "outputs": [
    {
     "name": "stdout",
     "output_type": "stream",
     "text": [
      "+------+---------------------------------------------------------------------------------------------------------------------------------------------------------------------------------------------------------------------------------------------------------------------------------------------------------------------------------------------------------------------------------------------------------------------------------------------------------------------------------------------------------------------------------------------------------------------------------------------------------------------------------------------------------------------------------------------------------------------------------------------------------------------------------------------------------------------------------------------------------------------------------------------------------------------------------------------------------------------------------------------------------------------------------------+-------------------------------------------------------------------------------------------------------------------------------------------------------------------------------------------------------------------------------------------------------------------------------------------------------------------------------------------------------------------------------------------------------------------------+---------------+\n",
      "|userId|recommendations                                                                                                                                                                                                                                                                                                                                                                                                                                                                                                                                                                                                                                                                                                                                                                                                                                                                                                                                                                                                                        |movieIds                                                                                                                                                                                                                                                                                                                                                                                                                 |common_elements|\n",
      "+------+---------------------------------------------------------------------------------------------------------------------------------------------------------------------------------------------------------------------------------------------------------------------------------------------------------------------------------------------------------------------------------------------------------------------------------------------------------------------------------------------------------------------------------------------------------------------------------------------------------------------------------------------------------------------------------------------------------------------------------------------------------------------------------------------------------------------------------------------------------------------------------------------------------------------------------------------------------------------------------------------------------------------------------------+-------------------------------------------------------------------------------------------------------------------------------------------------------------------------------------------------------------------------------------------------------------------------------------------------------------------------------------------------------------------------------------------------------------------------+---------------+\n",
      "|31    |[270306.0, 240070.0, 240054.0, 151989.0, 194434.0, 225435.0, 227066.0, 210561.0, 276819.0, 292313.0, 291519.0, 283581.0, 270280.0, 216159.0, 193817.0, 270268.0, 231287.0, 219031.0, 203882.0, 217166.0, 263389.0, 183947.0, 207640.0, 193257.0, 289897.0, 286911.0, 265364.0, 166641.0, 250492.0, 215369.0, 222368.0, 197355.0, 280858.0, 278642.0, 143422.0, 200936.0, 225437.0, 225425.0, 263783.0, 213445.0, 196787.0, 268438.0, 268960.0, 272263.0, 194883.0, 227612.0, 287149.0, 287967.0, 99243.0, 233377.0, 183559.0, 210231.0, 268036.0, 290379.0, 180767.0, 235437.0, 215101.0, 270814.0, 268214.0, 209193.0, 160137.0, 280316.0, 157359.0, 212253.0, 194034.0, 188569.0, 286259.0, 272055.0, 227652.0, 276441.0, 155802.0, 120204.0, 213952.0, 238234.0, 153038.0, 153036.0, 194212.0, 237193.0, 258991.0, 216191.0, 205455.0, 203986.0, 202944.0, 201280.0, 198527.0, 193972.0, 193047.0, 181525.0, 180913.0, 179707.0, 175173.0, 174789.0, 174785.0, 174771.0, 164624.0, 159349.0, 156603.0, 148741.0, 146810.0, 142216.0]|[50.0, 296.0, 4816.0, 8961.0, 51255.0, 72226.0, 122918.0, 134853.0, 201340.0, 268642.0]                                                                                                                                                                                                                                                                                                                                  |[]             |\n",
      "|53    |[225435.0, 166641.0, 270306.0, 240070.0, 240054.0, 225437.0, 225425.0, 222368.0, 209193.0, 194434.0, 151989.0, 203882.0, 222366.0, 280858.0, 278642.0, 265364.0, 231287.0, 219031.0, 227066.0, 250492.0, 287149.0, 292313.0, 291519.0, 283581.0, 270280.0, 216159.0, 217166.0, 169116.0, 215369.0, 268960.0, 183947.0, 270268.0, 227612.0, 193817.0, 233377.0, 268438.0, 289897.0, 286911.0, 259621.0, 101058.0, 256217.0, 145871.0, 290379.0, 284517.0, 235787.0, 243896.0, 82491.0, 251740.0, 143422.0, 213445.0, 164951.0, 292241.0, 276819.0, 204782.0, 151813.0, 193257.0, 212253.0, 242116.0, 280316.0, 157359.0, 217302.0, 268214.0, 270814.0, 207147.0, 197355.0, 196787.0, 173275.0, 249592.0, 185241.0, 286419.0, 276371.0, 255951.0, 235437.0, 233251.0, 107623.0, 234837.0, 265062.0, 251222.0, 242056.0, 172983.0, 280872.0, 189517.0, 194278.0, 185291.0, 194212.0, 99243.0, 199342.0, 210789.0, 263783.0, 189189.0, 207640.0, 120204.0, 198841.0, 194034.0, 182935.0, 269506.0, 219533.0, 182523.0, 275667.0, 200936.0] |[4993.0, 69844.0]                                                                                                                                                                                                                                                                                                                                                                                                        |[]             |\n",
      "|65    |[270306.0, 240070.0, 240054.0, 151989.0, 210561.0, 194434.0, 276819.0, 193257.0, 227066.0, 292313.0, 291519.0, 283581.0, 270280.0, 216159.0, 231287.0, 219031.0, 193817.0, 263389.0, 217166.0, 265364.0, 203882.0, 270268.0, 183947.0, 289897.0, 286911.0, 194883.0, 207640.0, 250492.0, 215369.0, 200936.0, 263783.0, 280858.0, 278642.0, 197355.0, 227612.0, 196787.0, 143422.0, 160137.0, 268438.0, 287149.0, 241426.0, 268214.0, 210559.0, 235437.0, 233377.0, 272263.0, 185893.0, 183057.0, 178417.0, 143833.0, 135310.0, 287967.0, 225435.0, 180767.0, 151793.0, 279394.0, 268960.0, 87798.0, 282461.0, 210231.0, 216615.0, 215101.0, 120204.0, 141483.0, 212947.0, 164509.0, 182851.0, 268036.0, 289979.0, 208597.0, 153038.0, 153036.0, 286259.0, 272055.0, 272619.0, 88471.0, 280316.0, 157359.0, 242116.0, 270814.0, 196033.0, 238234.0, 222368.0, 148320.0, 213952.0, 216191.0, 205455.0, 203986.0, 202944.0, 201280.0, 198527.0, 193972.0, 193047.0, 181525.0, 180913.0, 179707.0, 175173.0, 174789.0, 174785.0, 174771.0] |[21.0, 36.0, 62.0, 225.0, 280.0, 293.0, 300.0, 307.0, 349.0, 356.0, 475.0, 492.0, 912.0, 968.0, 1036.0, 1183.0, 1222.0, 1246.0, 1259.0, 1265.0, 1270.0, 1271.0, 1641.0, 2324.0, 2791.0, 2803.0, 2959.0, 3246.0, 3386.0, 3424.0, 3733.0, 3755.0, 3983.0, 4034.0, 4223.0, 4285.0, 4621.0, 5319.0, 5418.0, 5878.0, 6787.0, 6796.0, 8128.0, 8949.0, 30749.0, 30812.0, 33660.0, 39292.0, 48304.0, 48696.0, 55276.0]           |[]             |\n",
      "|78    |[225435.0, 270306.0, 240070.0, 240054.0, 166641.0, 225437.0, 225425.0, 151989.0, 194434.0, 222368.0, 203882.0, 265364.0, 280858.0, 278642.0, 227066.0, 193257.0, 231287.0, 219031.0, 209193.0, 250492.0, 217166.0, 287149.0, 276819.0, 227612.0, 183947.0, 289897.0, 286911.0, 215369.0, 292313.0, 291519.0, 283581.0, 270280.0, 216159.0, 268960.0, 193817.0, 242116.0, 169116.0, 268438.0, 233377.0, 243896.0, 82491.0, 268214.0, 217747.0, 196787.0, 143422.0, 263783.0, 235437.0, 185291.0, 270268.0, 284517.0, 259621.0, 212253.0, 194212.0, 194883.0, 278202.0, 278156.0, 200936.0, 197355.0, 164951.0, 207640.0, 279394.0, 270814.0, 120204.0, 292241.0, 151793.0, 280316.0, 157359.0, 180767.0, 290379.0, 171849.0, 235787.0, 212947.0, 189189.0, 148320.0, 182935.0, 204782.0, 151813.0, 240968.0, 240966.0, 145871.0, 256217.0, 87798.0, 173275.0, 31945.0, 213445.0, 216191.0, 205455.0, 203986.0, 202944.0, 201280.0, 198527.0, 193972.0, 193047.0, 181525.0, 180913.0, 179707.0, 175173.0, 174789.0, 174785.0, 174771.0]  |[34.0, 48.0, 158.0, 242.0, 249.0, 329.0, 373.0, 431.0, 508.0, 509.0, 587.0, 596.0, 661.0, 733.0, 736.0, 780.0, 898.0, 900.0, 903.0, 906.0, 911.0, 915.0, 969.0, 1015.0, 1028.0, 1031.0, 1088.0, 1094.0, 1099.0, 1183.0, 1193.0, 1196.0, 1200.0, 1207.0, 1230.0, 1233.0, 1234.0, 1250.0, 1253.0, 1296.0, 1300.0, 1320.0, 1380.0, 1408.0, 1411.0, 1466.0, 1692.0, 1951.0, 1967.0, 2020.0, 2081.0, 2083.0, 2120.0, 2137.0]  |[]             |\n",
      "|85    |[225435.0, 270306.0, 240070.0, 240054.0, 166641.0, 225437.0, 225425.0, 222368.0, 194434.0, 151989.0, 203882.0, 209193.0, 280858.0, 278642.0, 265364.0, 227066.0, 231287.0, 219031.0, 250492.0, 217166.0, 287149.0, 183947.0, 193257.0, 215369.0, 193817.0, 289897.0, 286911.0, 268960.0, 227612.0, 292313.0, 291519.0, 283581.0, 270280.0, 216159.0, 276819.0, 169116.0, 268438.0, 233377.0, 270268.0, 143422.0, 222366.0, 242116.0, 284517.0, 243896.0, 82491.0, 268214.0, 259621.0, 196787.0, 290379.0, 145871.0, 212253.0, 213445.0, 251740.0, 197355.0, 217747.0, 207640.0, 292241.0, 263783.0, 164951.0, 235437.0, 270814.0, 194212.0, 185291.0, 256217.0, 173275.0, 280316.0, 157359.0, 200936.0, 204782.0, 151813.0, 120204.0, 99243.0, 180767.0, 233251.0, 107623.0, 279394.0, 235787.0, 171849.0, 189517.0, 217302.0, 194278.0, 101058.0, 185241.0, 249592.0, 287967.0, 189189.0, 207147.0, 151793.0, 265062.0, 275667.0, 278202.0, 278156.0, 182935.0, 251222.0, 242056.0, 172983.0, 148320.0, 232745.0, 190881.0, 215101.0] |[1041.0, 1721.0, 2333.0, 2572.0, 2605.0, 2763.0, 3176.0, 4234.0, 4447.0, 5299.0, 33166.0, 56367.0, 61248.0, 65682.0]                                                                                                                                                                                                                                                                                                     |[]             |\n",
      "|133   |[270306.0, 240070.0, 240054.0, 151989.0, 194434.0, 225435.0, 292313.0, 291519.0, 283581.0, 270280.0, 216159.0, 227066.0, 276819.0, 166641.0, 231287.0, 219031.0, 203882.0, 193257.0, 193817.0, 222368.0, 270268.0, 265364.0, 217166.0, 210561.0, 250492.0, 183947.0, 289897.0, 286911.0, 263389.0, 215369.0, 280858.0, 278642.0, 207640.0, 263783.0, 197355.0, 227612.0, 209193.0, 194883.0, 200936.0, 287149.0, 225437.0, 225425.0, 143422.0, 268438.0, 196787.0, 268960.0, 233377.0, 268214.0, 235437.0, 287967.0, 280316.0, 157359.0, 290379.0, 213445.0, 180767.0, 270814.0, 272263.0, 188569.0, 99243.0, 235787.0, 243896.0, 82491.0, 279394.0, 120204.0, 215101.0, 280872.0, 212253.0, 242116.0, 213952.0, 148320.0, 194212.0, 151793.0, 160137.0, 212947.0, 87798.0, 276441.0, 284517.0, 210231.0, 289979.0, 208597.0, 282019.0, 278202.0, 278156.0, 232745.0, 190881.0, 216191.0, 205455.0, 203986.0, 202944.0, 201280.0, 198527.0, 193972.0, 193047.0, 181525.0, 180913.0, 179707.0, 175173.0, 174789.0, 174785.0, 174771.0]  |[608.0, 1653.0, 1721.0, 3578.0, 7153.0, 58559.0, 183837.0]                                                                                                                                                                                                                                                                                                                                                               |[]             |\n",
      "|137   |[270306.0, 240070.0, 240054.0, 225435.0, 151989.0, 194434.0, 193257.0, 203882.0, 227066.0, 166641.0, 265364.0, 225437.0, 225425.0, 250492.0, 231287.0, 219031.0, 276819.0, 280858.0, 278642.0, 222368.0, 217166.0, 289897.0, 286911.0, 183947.0, 292313.0, 291519.0, 283581.0, 270280.0, 216159.0, 227612.0, 287149.0, 193817.0, 215369.0, 242116.0, 217747.0, 209193.0, 268960.0, 263783.0, 194883.0, 268438.0, 196787.0, 268214.0, 233377.0, 87798.0, 243896.0, 82491.0, 207640.0, 143422.0, 200936.0, 194212.0, 270268.0, 235437.0, 263389.0, 279394.0, 169116.0, 197355.0, 185291.0, 278202.0, 278156.0, 180767.0, 151793.0, 212253.0, 284517.0, 120204.0, 171849.0, 216191.0, 205455.0, 203986.0, 202944.0, 201280.0, 198527.0, 193972.0, 193047.0, 181525.0, 180913.0, 179707.0, 175173.0, 174789.0, 174785.0, 174771.0, 164624.0, 159349.0, 156603.0, 148741.0, 146810.0, 142216.0, 139185.0, 134387.0, 123415.0, 113755.0, 270814.0, 148320.0, 212947.0, 240968.0, 240966.0, 182851.0, 88471.0, 259621.0, 280316.0, 157359.0]  |[48.0, 356.0, 480.0, 914.0, 916.0, 1028.0, 1029.0, 1033.0, 1380.0, 2123.0, 2420.0, 3034.0, 3254.0, 3964.0, 5618.0, 8651.0, 31658.0, 60069.0, 64614.0, 91337.0, 95309.0, 97913.0, 135216.0]                                                                                                                                                                                                                               |[]             |\n",
      "|148   |[166641.0, 225435.0, 270306.0, 240070.0, 240054.0, 222368.0, 225437.0, 225425.0, 209193.0, 194434.0, 151989.0, 222366.0, 203882.0, 292313.0, 291519.0, 283581.0, 270280.0, 216159.0, 270268.0, 280858.0, 278642.0, 231287.0, 219031.0, 227066.0, 215369.0, 217166.0, 265364.0, 193817.0, 250492.0, 101058.0, 183947.0, 268960.0, 290379.0, 213445.0, 287149.0, 235787.0, 233377.0, 268438.0, 169116.0, 146128.0, 143422.0, 289897.0, 286911.0, 256217.0, 145871.0, 249592.0, 227612.0, 197355.0, 205277.0, 194160.0, 259621.0, 280316.0, 157359.0, 284517.0, 194034.0, 280872.0, 99243.0, 189517.0, 217302.0, 207640.0, 276819.0, 164951.0, 292241.0, 241460.0, 212253.0, 234837.0, 188569.0, 233251.0, 258973.0, 270814.0, 192261.0, 189503.0, 243896.0, 82491.0, 251222.0, 242056.0, 172983.0, 225429.0, 204782.0, 151813.0, 173275.0, 199342.0, 214384.0, 107623.0, 185241.0, 196787.0, 216753.0, 216751.0, 217461.0, 178709.0, 276441.0, 286419.0, 276371.0, 255951.0, 265062.0, 251740.0, 185765.0, 268214.0, 235437.0, 226736.0] |[260.0, 293.0, 541.0, 593.0, 1036.0, 1221.0, 1270.0, 2116.0, 2402.0, 2403.0, 2706.0, 2947.0, 2948.0, 2989.0, 2990.0, 4005.0, 5816.0, 5989.0, 6281.0, 6874.0, 7153.0, 8665.0, 33493.0, 44191.0, 54997.0, 55820.0, 59315.0, 74458.0, 91630.0]                                                                                                                                                                              |[]             |\n",
      "|243   |[225435.0, 270306.0, 240070.0, 240054.0, 166641.0, 225437.0, 225425.0, 222368.0, 194434.0, 151989.0, 203882.0, 209193.0, 280858.0, 278642.0, 265364.0, 227066.0, 231287.0, 219031.0, 250492.0, 193257.0, 217166.0, 287149.0, 227612.0, 183947.0, 276819.0, 289897.0, 286911.0, 215369.0, 292313.0, 291519.0, 283581.0, 270280.0, 216159.0, 268960.0, 193817.0, 169116.0, 242116.0, 268438.0, 233377.0, 243896.0, 82491.0, 268214.0, 217747.0, 143422.0, 196787.0, 259621.0, 270268.0, 284517.0, 263783.0, 185291.0, 235437.0, 212253.0, 164951.0, 194212.0, 292241.0, 197355.0, 270814.0, 290379.0, 222366.0, 207640.0, 280316.0, 157359.0, 200936.0, 120204.0, 278202.0, 278156.0, 279394.0, 235787.0, 145871.0, 204782.0, 151813.0, 256217.0, 180767.0, 171849.0, 251740.0, 194883.0, 213445.0, 182935.0, 151793.0, 189189.0, 173275.0, 148320.0, 240968.0, 240966.0, 212947.0, 107623.0, 194278.0, 207147.0, 265062.0, 217302.0, 275667.0, 99243.0, 216191.0, 205455.0, 203986.0, 202944.0, 201280.0, 198527.0, 193972.0, 193047.0] |[237.0, 315.0, 329.0, 780.0, 1398.0]                                                                                                                                                                                                                                                                                                                                                                                     |[]             |\n",
      "|251   |[225435.0, 166641.0, 270306.0, 240070.0, 240054.0, 222368.0, 225437.0, 225425.0, 209193.0, 194434.0, 151989.0, 203882.0, 222366.0, 280858.0, 278642.0, 292313.0, 291519.0, 283581.0, 270280.0, 216159.0, 265364.0, 231287.0, 219031.0, 227066.0, 250492.0, 287149.0, 270268.0, 215369.0, 217166.0, 268960.0, 183947.0, 169116.0, 227612.0, 193817.0, 235787.0, 233377.0, 268438.0, 289897.0, 286911.0, 290379.0, 259621.0, 256217.0, 276819.0, 243896.0, 82491.0, 284517.0, 143422.0, 213445.0, 164951.0, 101058.0, 145871.0, 280316.0, 157359.0, 292241.0, 193257.0, 242116.0, 204782.0, 151813.0, 212253.0, 197355.0, 217302.0, 280872.0, 270814.0, 234837.0, 268214.0, 196787.0, 249592.0, 235437.0, 265062.0, 251740.0, 185241.0, 107623.0, 286419.0, 276371.0, 255951.0, 233251.0, 207640.0, 263783.0, 189517.0, 99243.0, 251222.0, 242056.0, 172983.0, 173275.0, 194212.0, 194278.0, 120204.0, 189189.0, 146128.0, 207147.0, 194034.0, 210789.0, 275667.0, 182523.0, 188569.0, 182935.0, 200936.0, 198841.0, 185291.0, 199342.0] |[318.0, 527.0, 2353.0, 2959.0, 3147.0, 6874.0, 36529.0, 60069.0, 168252.0]                                                                                                                                                                                                                                                                                                                                               |[]             |\n",
      "|255   |[225435.0, 270306.0, 240070.0, 240054.0, 225437.0, 225425.0, 166641.0, 222368.0, 194434.0, 203882.0, 151989.0, 209193.0, 280858.0, 278642.0, 265364.0, 227066.0, 231287.0, 219031.0, 250492.0, 217166.0, 193257.0, 287149.0, 227612.0, 169116.0, 183947.0, 268960.0, 289897.0, 286911.0, 215369.0, 276819.0, 268438.0, 193817.0, 233377.0, 242116.0, 292313.0, 291519.0, 283581.0, 270280.0, 216159.0, 243896.0, 82491.0, 217747.0, 259621.0, 268214.0, 185291.0, 251740.0, 284517.0, 143422.0, 196787.0, 145871.0, 164951.0, 292241.0, 222366.0, 212253.0, 235437.0, 256217.0, 194212.0, 207147.0, 270268.0, 263783.0, 204782.0, 151813.0, 270814.0, 290379.0, 173275.0, 197355.0, 120204.0, 280316.0, 157359.0, 213445.0, 287355.0, 287353.0, 278202.0, 278156.0, 279394.0, 200936.0, 194278.0, 182935.0, 207640.0, 171849.0, 180767.0, 189189.0, 151793.0, 107623.0, 185241.0, 217302.0, 235787.0, 233251.0, 265062.0, 182781.0, 220884.0, 148320.0, 212947.0, 99243.0, 240968.0, 240966.0, 147402.0, 286419.0, 276371.0, 255951.0] |[1193.0, 1307.0, 1704.0, 1968.0, 2248.0, 2352.0, 2942.0, 46578.0, 66665.0, 79132.0]                                                                                                                                                                                                                                                                                                                                      |[]             |\n",
      "|296   |[270306.0, 240070.0, 240054.0, 151989.0, 210561.0, 194434.0, 276819.0, 227066.0, 193257.0, 193817.0, 263389.0, 231287.0, 219031.0, 217166.0, 292313.0, 291519.0, 283581.0, 270280.0, 216159.0, 207640.0, 203882.0, 270268.0, 183947.0, 289897.0, 286911.0, 265364.0, 250492.0, 194883.0, 215369.0, 200936.0, 263783.0, 225435.0, 197355.0, 143422.0, 196787.0, 280858.0, 278642.0, 160137.0, 210559.0, 272263.0, 227612.0, 268036.0, 210231.0, 287967.0, 241426.0, 268438.0, 185893.0, 183057.0, 178417.0, 143833.0, 135310.0, 153038.0, 153036.0, 180767.0, 196033.0, 287149.0, 268960.0, 99243.0, 233377.0, 268214.0, 235437.0, 155802.0, 286259.0, 272055.0, 173871.0, 213445.0, 88471.0, 215101.0, 183559.0, 87798.0, 282461.0, 216191.0, 205455.0, 203986.0, 202944.0, 201280.0, 198527.0, 193972.0, 193047.0, 181525.0, 180913.0, 179707.0, 175173.0, 174789.0, 174785.0, 174771.0, 164624.0, 159349.0, 156603.0, 148741.0, 146810.0, 142216.0, 139185.0, 134387.0, 123415.0, 113755.0, 151793.0, 216615.0, 238234.0, 289979.0]  |[293.0, 778.0, 1748.0, 1961.0, 2571.0, 3530.0, 4865.0, 6874.0, 7438.0]                                                                                                                                                                                                                                                                                                                                                   |[]             |\n",
      "|322   |[270306.0, 240070.0, 240054.0, 225435.0, 151989.0, 194434.0, 166641.0, 225437.0, 225425.0, 222368.0, 203882.0, 227066.0, 231287.0, 219031.0, 209193.0, 217166.0, 265364.0, 292313.0, 291519.0, 283581.0, 270280.0, 216159.0, 193817.0, 280858.0, 278642.0, 250492.0, 270268.0, 276819.0, 183947.0, 215369.0, 289897.0, 286911.0, 193257.0, 287149.0, 268960.0, 207640.0, 227612.0, 143422.0, 268438.0, 197355.0, 233377.0, 213445.0, 263389.0, 196787.0, 290379.0, 263783.0, 200936.0, 99243.0, 268214.0, 212253.0, 270814.0, 284517.0, 235437.0, 280316.0, 157359.0, 210561.0, 287967.0, 243896.0, 82491.0, 180767.0, 169116.0, 194212.0, 173275.0, 194034.0, 120204.0, 233251.0, 272263.0, 292241.0, 189517.0, 215101.0, 249592.0, 194883.0, 280872.0, 217747.0, 242116.0, 259621.0, 222366.0, 145871.0, 279394.0, 164951.0, 276441.0, 213952.0, 235787.0, 275667.0, 232745.0, 190881.0, 171849.0, 148320.0, 282019.0, 107623.0, 216191.0, 205455.0, 203986.0, 202944.0, 201280.0, 198527.0, 193972.0, 193047.0, 181525.0, 180913.0] |[364.0, 1288.0, 1485.0, 2001.0, 2002.0, 2013.0, 2081.0, 2502.0, 2683.0, 2706.0, 2746.0, 2762.0, 2764.0, 2826.0, 3255.0, 3354.0]                                                                                                                                                                                                                                                                                          |[]             |\n",
      "|392   |[225435.0, 166641.0, 270306.0, 240070.0, 240054.0, 225437.0, 225425.0, 222368.0, 209193.0, 194434.0, 151989.0, 203882.0, 280858.0, 278642.0, 265364.0, 231287.0, 219031.0, 227066.0, 250492.0, 217166.0, 287149.0, 169116.0, 268960.0, 222366.0, 183947.0, 227612.0, 215369.0, 193257.0, 292313.0, 291519.0, 283581.0, 270280.0, 216159.0, 289897.0, 286911.0, 193817.0, 268438.0, 233377.0, 276819.0, 259621.0, 242116.0, 243896.0, 82491.0, 270268.0, 145871.0, 284517.0, 251740.0, 143422.0, 256217.0, 164951.0, 268214.0, 292241.0, 290379.0, 212253.0, 196787.0, 185291.0, 204782.0, 151813.0, 213445.0, 207147.0, 217747.0, 101058.0, 270814.0, 235437.0, 173275.0, 280316.0, 157359.0, 197355.0, 194212.0, 235787.0, 263783.0, 217302.0, 194278.0, 185241.0, 107623.0, 120204.0, 207640.0, 233251.0, 265062.0, 182935.0, 189189.0, 200936.0, 286419.0, 276371.0, 255951.0, 251222.0, 242056.0, 172983.0, 287355.0, 287353.0, 249592.0, 99243.0, 189517.0, 180767.0, 279394.0, 171849.0, 278202.0, 278156.0, 234837.0, 210789.0] |[318.0, 356.0, 377.0, 454.0, 480.0, 590.0, 858.0, 1196.0, 1388.0, 1584.0, 1653.0, 2058.0, 2353.0, 3020.0, 3994.0, 4344.0, 4874.0, 4995.0, 8644.0, 51935.0, 52604.0, 58559.0]                                                                                                                                                                                                                                             |[]             |\n",
      "|451   |[270306.0, 240070.0, 240054.0, 151989.0, 194434.0, 193257.0, 276819.0, 227066.0, 210561.0, 292313.0, 291519.0, 283581.0, 270280.0, 216159.0, 231287.0, 219031.0, 265364.0, 203882.0, 193817.0, 217166.0, 250492.0, 289897.0, 286911.0, 183947.0, 263389.0, 270268.0, 194883.0, 280858.0, 278642.0, 215369.0, 225435.0, 207640.0, 263783.0, 227612.0, 200936.0, 166641.0, 222368.0, 197355.0, 196787.0, 287149.0, 143422.0, 268438.0, 268214.0, 233377.0, 268960.0, 242116.0, 235437.0, 279394.0, 87798.0, 151793.0, 180767.0, 160137.0, 120204.0, 287967.0, 212947.0, 278202.0, 278156.0, 280316.0, 157359.0, 243896.0, 82491.0, 182851.0, 141483.0, 270814.0, 215101.0, 148320.0, 217747.0, 164509.0, 272263.0, 282461.0, 289979.0, 208597.0, 88471.0, 213952.0, 272619.0, 216191.0, 205455.0, 203986.0, 202944.0, 201280.0, 198527.0, 193972.0, 193047.0, 181525.0, 180913.0, 179707.0, 175173.0, 174789.0, 174785.0, 174771.0, 164624.0, 159349.0, 156603.0, 148741.0, 146810.0, 142216.0, 139185.0, 134387.0, 123415.0, 113755.0]  |[25.0, 307.0, 308.0, 608.0, 928.0, 1193.0, 2028.0, 2324.0, 2762.0, 2997.0, 3147.0, 3159.0]                                                                                                                                                                                                                                                                                                                               |[]             |\n",
      "|458   |[270306.0, 240070.0, 240054.0, 225435.0, 166641.0, 151989.0, 194434.0, 222368.0, 225437.0, 225425.0, 209193.0, 203882.0, 227066.0, 231287.0, 219031.0, 265364.0, 280858.0, 278642.0, 292313.0, 291519.0, 283581.0, 270280.0, 216159.0, 250492.0, 217166.0, 193817.0, 183947.0, 276819.0, 270268.0, 215369.0, 193257.0, 289897.0, 286911.0, 287149.0, 227612.0, 268960.0, 268438.0, 233377.0, 143422.0, 207640.0, 197355.0, 290379.0, 196787.0, 263783.0, 213445.0, 222366.0, 268214.0, 243896.0, 82491.0, 169116.0, 200936.0, 280316.0, 157359.0, 284517.0, 212253.0, 270814.0, 235437.0, 242116.0, 235787.0, 263389.0, 99243.0, 259621.0, 120204.0, 194212.0, 292241.0, 164951.0, 180767.0, 287967.0, 280872.0, 194883.0, 279394.0, 215101.0, 217747.0, 233251.0, 173275.0, 145871.0, 275667.0, 148320.0, 249592.0, 194034.0, 234837.0, 189517.0, 256217.0, 213952.0, 171849.0, 232745.0, 190881.0, 276441.0, 107623.0, 151793.0, 217302.0, 282019.0, 278202.0, 278156.0, 272263.0, 204782.0, 151813.0, 212947.0, 189189.0, 185291.0] |[296.0, 318.0, 1270.0, 1291.0, 2329.0, 4993.0, 5952.0, 6502.0, 115713.0, 192245.0, 193944.0, 202429.0, 242204.0, 253536.0, 276249.0, 279812.0]                                                                                                                                                                                                                                                                           |[]             |\n",
      "|463   |[270306.0, 240070.0, 240054.0, 225435.0, 166641.0, 151989.0, 194434.0, 222368.0, 225437.0, 225425.0, 209193.0, 203882.0, 227066.0, 231287.0, 219031.0, 292313.0, 291519.0, 283581.0, 270280.0, 216159.0, 280858.0, 278642.0, 265364.0, 217166.0, 250492.0, 270268.0, 193817.0, 183947.0, 215369.0, 276819.0, 289897.0, 286911.0, 287149.0, 193257.0, 268960.0, 227612.0, 268438.0, 233377.0, 143422.0, 207640.0, 222366.0, 197355.0, 290379.0, 213445.0, 196787.0, 263783.0, 169116.0, 243896.0, 82491.0, 280316.0, 157359.0, 200936.0, 284517.0, 268214.0, 212253.0, 235787.0, 270814.0, 263389.0, 235437.0, 99243.0, 242116.0, 259621.0, 280872.0, 292241.0, 164951.0, 287967.0, 194212.0, 120204.0, 180767.0, 233251.0, 145871.0, 249592.0, 194034.0, 173275.0, 189517.0, 215101.0, 256217.0, 279394.0, 234837.0, 275667.0, 194883.0, 217302.0, 276441.0, 272263.0, 107623.0, 213952.0, 148320.0, 232745.0, 190881.0, 217747.0, 188569.0, 282019.0, 204782.0, 151813.0, 171849.0, 265062.0, 272377.0, 189189.0, 151793.0, 203443.0] |[318.0, 2959.0, 7143.0, 7254.0, 116797.0]                                                                                                                                                                                                                                                                                                                                                                                |[]             |\n",
      "|472   |[225435.0, 270306.0, 240070.0, 240054.0, 166641.0, 225437.0, 225425.0, 194434.0, 151989.0, 222368.0, 203882.0, 209193.0, 227066.0, 231287.0, 219031.0, 280858.0, 278642.0, 265364.0, 217166.0, 250492.0, 193817.0, 292313.0, 291519.0, 283581.0, 270280.0, 216159.0, 183947.0, 215369.0, 270268.0, 287149.0, 289897.0, 286911.0, 276819.0, 268960.0, 193257.0, 227612.0, 268438.0, 233377.0, 143422.0, 207640.0, 213445.0, 197355.0, 169116.0, 290379.0, 196787.0, 222366.0, 284517.0, 268214.0, 212253.0, 263783.0, 200936.0, 243896.0, 82491.0, 270814.0, 99243.0, 235437.0, 280316.0, 157359.0, 145871.0, 259621.0, 173275.0, 292241.0, 194212.0, 242116.0, 164951.0, 233251.0, 263389.0, 287967.0, 180767.0, 120204.0, 256217.0, 217747.0, 249592.0, 189517.0, 251740.0, 194034.0, 235787.0, 107623.0, 215101.0, 185291.0, 280872.0, 204782.0, 151813.0, 279394.0, 217302.0, 275667.0, 101058.0, 171849.0, 232745.0, 190881.0, 276441.0, 272263.0, 213952.0, 185241.0, 148320.0, 151793.0, 251222.0, 242056.0, 172983.0, 282019.0] |[111.0, 296.0, 1246.0, 1527.0, 1682.0, 1954.0, 1961.0, 2420.0, 3147.0, 4011.0, 4148.0, 4776.0, 4855.0, 4973.0, 5630.0, 6378.0, 7254.0, 8798.0, 8984.0, 34405.0, 48516.0, 85414.0, 99114.0, 101864.0, 107406.0, 111759.0, 134130.0, 189333.0]                                                                                                                                                                             |[]             |\n",
      "|481   |[270306.0, 240070.0, 240054.0, 225435.0, 151989.0, 166641.0, 194434.0, 222368.0, 225437.0, 225425.0, 203882.0, 227066.0, 231287.0, 219031.0, 209193.0, 265364.0, 292313.0, 291519.0, 283581.0, 270280.0, 216159.0, 280858.0, 278642.0, 217166.0, 250492.0, 193817.0, 276819.0, 183947.0, 270268.0, 193257.0, 215369.0, 289897.0, 286911.0, 287149.0, 227612.0, 268960.0, 268438.0, 207640.0, 143422.0, 233377.0, 197355.0, 196787.0, 263783.0, 200936.0, 213445.0, 263389.0, 290379.0, 268214.0, 243896.0, 82491.0, 235437.0, 212253.0, 270814.0, 280316.0, 157359.0, 284517.0, 169116.0, 242116.0, 99243.0, 180767.0, 194212.0, 287967.0, 194883.0, 120204.0, 210561.0, 235787.0, 292241.0, 217747.0, 279394.0, 259621.0, 215101.0, 222366.0, 164951.0, 280872.0, 173275.0, 233251.0, 148320.0, 272263.0, 213952.0, 194034.0, 171849.0, 275667.0, 151793.0, 189517.0, 232745.0, 190881.0, 249592.0, 276441.0, 145871.0, 212947.0, 282019.0, 216191.0, 205455.0, 203986.0, 202944.0, 201280.0, 198527.0, 193972.0, 193047.0, 181525.0] |[70.0, 196.0, 216.0, 288.0, 296.0, 316.0, 318.0, 541.0, 552.0, 1073.0, 1080.0, 1136.0, 1197.0, 1207.0, 1208.0, 1214.0, 1220.0, 1240.0, 1249.0, 1387.0, 1704.0, 2329.0, 2599.0, 2628.0, 2683.0, 2700.0, 2871.0, 2959.0, 3039.0, 3175.0, 3275.0, 3671.0, 3793.0, 4489.0, 4816.0, 5378.0, 6874.0, 8644.0, 8661.0, 8984.0, 25934.0, 34534.0, 45499.0, 49272.0, 51207.0, 55276.0, 55765.0, 60756.0, 70293.0, 88125.0, 99114.0]|[]             |\n",
      "|496   |[225435.0, 270306.0, 240070.0, 240054.0, 225437.0, 225425.0, 166641.0, 194434.0, 151989.0, 222368.0, 203882.0, 209193.0, 227066.0, 231287.0, 219031.0, 217166.0, 280858.0, 278642.0, 265364.0, 250492.0, 193817.0, 183947.0, 270268.0, 292313.0, 291519.0, 283581.0, 270280.0, 216159.0, 215369.0, 289897.0, 286911.0, 287149.0, 268960.0, 276819.0, 213445.0, 268438.0, 143422.0, 227612.0, 233377.0, 193257.0, 207640.0, 290379.0, 197355.0, 169116.0, 222366.0, 145871.0, 173275.0, 284517.0, 196787.0, 251740.0, 99243.0, 212253.0, 101058.0, 270814.0, 200936.0, 268214.0, 233251.0, 189517.0, 249592.0, 263783.0, 292241.0, 259621.0, 194034.0, 183559.0, 235437.0, 280316.0, 157359.0, 256217.0, 194212.0, 243896.0, 82491.0, 287967.0, 263389.0, 164951.0, 180767.0, 107623.0, 217747.0, 120204.0, 272263.0, 251222.0, 242056.0, 172983.0, 217302.0, 215101.0, 204782.0, 151813.0, 185241.0, 188685.0, 214384.0, 185291.0, 276441.0, 242116.0, 275667.0, 232745.0, 190881.0, 235445.0, 203443.0, 272377.0, 280872.0, 194278.0] |[1265.0, 2716.0, 54272.0, 54503.0, 122904.0, 122918.0]                                                                                                                                                                                                                                                                                                                                                                   |[]             |\n",
      "+------+---------------------------------------------------------------------------------------------------------------------------------------------------------------------------------------------------------------------------------------------------------------------------------------------------------------------------------------------------------------------------------------------------------------------------------------------------------------------------------------------------------------------------------------------------------------------------------------------------------------------------------------------------------------------------------------------------------------------------------------------------------------------------------------------------------------------------------------------------------------------------------------------------------------------------------------------------------------------------------------------------------------------------------------+-------------------------------------------------------------------------------------------------------------------------------------------------------------------------------------------------------------------------------------------------------------------------------------------------------------------------------------------------------------------------------------------------------------------------+---------------+\n",
      "only showing top 20 rows\n",
      "\n"
     ]
    }
   ],
   "source": [
    "common_elements_df = all_train_test_user_rec.withColumn(\n",
    "    \"common_elements\",\n",
    "    array_intersect(\"recommendations\", \"movieIds\")\n",
    ")\n",
    "\n",
    "common_elements_df.show(truncate=False)"
   ]
  },
  {
   "cell_type": "code",
   "execution_count": 56,
   "metadata": {},
   "outputs": [
    {
     "name": "stdout",
     "output_type": "stream",
     "text": [
      "+------------------------+\n",
      "|avg(num_common_elements)|\n",
      "+------------------------+\n",
      "|    1.549473179119099...|\n",
      "+------------------------+\n",
      "\n"
     ]
    }
   ],
   "source": [
    "common_elements_df = common_elements_df.withColumn(\n",
    "    \"num_common_elements\", F.size(\"common_elements\")\n",
    ")\n",
    "common_elements_df.agg(F.mean(\"num_common_elements\")).show()"
   ]
  },
  {
   "cell_type": "code",
   "execution_count": 57,
   "metadata": {},
   "outputs": [
    {
     "data": {
      "text/plain": [
       "1.5494731791191008e-06"
      ]
     },
     "execution_count": 57,
     "metadata": {},
     "output_type": "execute_result"
    }
   ],
   "source": [
    "precision_ranking_evaluator = RankingEvaluator(\n",
    "    labelCol=\"movieIds\", \n",
    "    predictionCol=\"recommendations\", \n",
    "    metricName=\"precisionAtK\",\n",
    "    k=100\n",
    ")\n",
    "precision_ranking_evaluator.evaluate(all_train_test_user_rec)"
   ]
  },
  {
   "cell_type": "code",
   "execution_count": null,
   "metadata": {},
   "outputs": [],
   "source": [
    "user_recommendations_transformed.show(3, truncate=False)"
   ]
  }
 ],
 "metadata": {
  "kernelspec": {
   "display_name": ".venv",
   "language": "python",
   "name": "python3"
  },
  "language_info": {
   "codemirror_mode": {
    "name": "ipython",
    "version": 3
   },
   "file_extension": ".py",
   "mimetype": "text/x-python",
   "name": "python",
   "nbconvert_exporter": "python",
   "pygments_lexer": "ipython3",
   "version": "3.11.9"
  }
 },
 "nbformat": 4,
 "nbformat_minor": 2
}
