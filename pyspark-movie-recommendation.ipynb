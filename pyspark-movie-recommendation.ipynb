{
 "cells": [
  {
   "cell_type": "code",
   "execution_count": 25,
   "metadata": {},
   "outputs": [],
   "source": [
    "from pyspark.sql import SparkSession\n",
    "from pyspark.sql import functions as F\n",
    "from pyspark.ml import Pipeline, PipelineModel\n",
    "from pyspark.ml.evaluation import RegressionEvaluator, ClusteringEvaluator\n",
    "from pyspark.ml.feature import StringIndexer, OneHotEncoder, VectorAssembler\n",
    "from pyspark.ml.clustering import KMeans\n",
    "from pyspark.ml.recommendation import ALS, ALSModel\n",
    "from pyspark.ml.tuning import CrossValidator, ParamGridBuilder, CrossValidatorModel\n",
    "from pyspark.mllib.linalg import SparseMatrix\n",
    "from pyspark.ml.linalg import SparseVector\n",
    "from pyspark.ml.evaluation import RankingEvaluator\n",
    "from pyspark.sql import Row\n",
    "import datetime\n",
    "import numpy as np  \n",
    "import pandas as pd\n",
    "import matplotlib.pyplot as plt\n",
    "import copy\n",
    "import sys\n",
    "import os\n",
    "from pyspark.sql.functions import array_intersect\n",
    "from pyspark.sql.functions import pandas_udf, PandasUDFType, col\n",
    "from pyspark.sql.types import DoubleType\n",
    "from pyspark.sql.functions import collect_list, expr\n",
    "from scipy.spatial.distance import cosine"
   ]
  },
  {
   "cell_type": "code",
   "execution_count": 2,
   "metadata": {},
   "outputs": [],
   "source": [
    "os.environ[\"PYSPARK_PYTHON\"] = sys.executable\n",
    "project_path = os.path.abspath(os.path.dirname(\".\"))\n",
    "data_path = os.path.join(project_path, \"ml-32m\")\n",
    "java_path = \"C:\\\\Program Files\\\\Java\\\\jdk1.8.0_202\"\n",
    "hadoop_path = \"C:\\\\Program Files\\\\Hadoop\\\\hadoop-3.3.6\\\\bin\"\n",
    "os.environ[\"HADOOP_HOME\"] = os.path.dirname(hadoop_path)\n",
    "os.environ[\"PATH\"] += os.pathsep + hadoop_path"
   ]
  },
  {
   "cell_type": "code",
   "execution_count": 3,
   "metadata": {},
   "outputs": [],
   "source": [
    "spark = SparkSession.builder \\\n",
    "    .appName(\"ExampleApp\") \\\n",
    "    .config(\"spark.ui.showConsoleProgress\", \"true\") \\\n",
    "    .config(\"spark.executorEnv.JAVA_HOME\", java_path) \\\n",
    "    .config(\"spark.driverEnv.JAVA_HOME\", java_path) \\\n",
    "    .config(\"spark.driver.memory\", \"16g\") \\\n",
    "    .config(\"spark.executor.memory\", \"16g\") \\\n",
    "    .config(\"spark.executor.resource.gpu.amount\", 6) \\\n",
    "    .config(\"spark.hadoop.fs.file.impl\", \"org.apache.hadoop.fs.LocalFileSystem\") \\\n",
    "    .config(\"spark.hadoop.fs.file.impl.disable.cache\", \"true\") \\\n",
    "    .config(\"spark.hadoop.home.dir\", hadoop_path) \\\n",
    "    .getOrCreate()"
   ]
  },
  {
   "cell_type": "code",
   "execution_count": 4,
   "metadata": {},
   "outputs": [
    {
     "name": "stdout",
     "output_type": "stream",
     "text": [
      "+-------+----------------+--------------------+\n",
      "|movieId|           title|              genres|\n",
      "+-------+----------------+--------------------+\n",
      "|      1|Toy Story (1995)|Adventure|Animati...|\n",
      "+-------+----------------+--------------------+\n",
      "only showing top 1 row\n",
      "\n",
      "+-------+-------+------+\n",
      "|movieId| imdbId|tmdbId|\n",
      "+-------+-------+------+\n",
      "|      1|0114709|   862|\n",
      "+-------+-------+------+\n",
      "only showing top 1 row\n",
      "\n",
      "+------+-------+------+---------+\n",
      "|userId|movieId|rating|timestamp|\n",
      "+------+-------+------+---------+\n",
      "|     1|     17|   4.0|944249077|\n",
      "+------+-------+------+---------+\n",
      "only showing top 1 row\n",
      "\n",
      "+------+-------+-----------+----------+\n",
      "|userId|movieId|        tag| timestamp|\n",
      "+------+-------+-----------+----------+\n",
      "|    22|  26479|Kevin Kline|1583038886|\n",
      "+------+-------+-----------+----------+\n",
      "only showing top 1 row\n",
      "\n"
     ]
    },
    {
     "data": {
      "text/plain": [
       "(None, None, None, None)"
      ]
     },
     "execution_count": 4,
     "metadata": {},
     "output_type": "execute_result"
    }
   ],
   "source": [
    "ratings = (spark.read.option(\"header\", True)\n",
    "                .csv(os.path.join(data_path, \"ratings.csv\")))\n",
    "links = (spark.read.option(\"header\", True)\n",
    "              .csv(os.path.join(data_path, \"links.csv\")))\n",
    "movies = (spark.read.option(\"header\", True)\n",
    "               .csv(os.path.join(data_path, \"movies.csv\")))\n",
    "movies = movies.withColumn(\n",
    "    \"genres\",\n",
    "    F.when(F.col(\"movieId\") == 284105, \"Comedy\") \\\n",
    "     .otherwise(F.col(\"genres\"))\n",
    ")\n",
    "tags = (spark.read.option(\"header\", True)\n",
    "             .csv(os.path.join(data_path, \"tags.csv\")))\n",
    "movies.show(1), links.show(1), ratings.show(1), tags.show(1)"
   ]
  },
  {
   "cell_type": "markdown",
   "metadata": {},
   "source": [
    "Identification keys\n",
    "\n",
    "id | type | present in | description\n",
    "---|------|---------|------------\n",
    "userId | int | ratings, tags | unique identifier for the user\n",
    "movieId | int | links, movies, ratings, tags  | unique identifier for the movie\n",
    "rating | float | ratings | rating given by the user to the movie\n",
    "timestamp | int | ratings | timestamp of the rating\n",
    "tag | str | tags | tag given by the user to the movie\n",
    "title | str | movies | title of the movie\n",
    "genres | str | movies | genres of the movie\n",
    "imdbId | int | links | unique identifier for the movie in IMDb\n",
    "tmdbId | int | links | TMDb identifier for the movie\n"
   ]
  },
  {
   "cell_type": "code",
   "execution_count": 5,
   "metadata": {},
   "outputs": [],
   "source": [
    "ratings = (ratings.withColumn(\"rating\", ratings[\"rating\"].cast(\"float\"))\n",
    "                  .withColumn(\"userId\", ratings[\"userId\"].cast(\"int\"))\n",
    "                  .withColumn(\"movieId\", ratings[\"movieId\"].cast(\"int\"))\n",
    "        )\n",
    "movies = movies.withColumn(\"movieId\", movies[\"movieId\"].cast(\"int\"))"
   ]
  },
  {
   "cell_type": "markdown",
   "metadata": {},
   "source": [
    "```python\n",
    "movie_data = movies.join(links, \"movieId\", \"outer\") \n",
    "movie_data.show(5)\n",
    "```\n"
   ]
  },
  {
   "cell_type": "markdown",
   "metadata": {},
   "source": [
    "## Statistics"
   ]
  },
  {
   "cell_type": "code",
   "execution_count": null,
   "metadata": {},
   "outputs": [
    {
     "name": "stdout",
     "output_type": "stream",
     "text": [
      "Number of ratings:  32000204\n",
      "Number of users:  200948\n",
      "Number of movies:  84432\n",
      "Matrix sparsity:  0.18860881306254365\n",
      "\n",
      "Average number of ratings per user:  159.24619304496684\n",
      "Average number of ratings per movie:  379.0056376729202\n",
      "Mean rating: 3.5403956487277393\n",
      "Mean rating per user: 3.7043683389640747\n",
      "Mean rating per movie: 3.005082384974346\n"
     ]
    }
   ],
   "source": [
    "number_of_users = ratings.select(\"userId\").distinct().count()\n",
    "number_of_movies = ratings.select(\"movieId\").distinct().count()\n",
    "number_of_ratings = ratings.count()\n",
    "print(\"Number of ratings: \", number_of_ratings)\n",
    "print(\"Number of users: \", number_of_users)\n",
    "print(\"Number of movies: \", number_of_movies)\n",
    "\n",
    "matrix_sparsity = (ratings.count() / (number_of_users * number_of_movies)) * 100\n",
    "print(\"Matrix sparsity: \", matrix_sparsity)\n",
    "\n",
    "print()\n",
    "users_grouped = ratings.groupBy(\"userId\")\n",
    "movies_grouped = ratings.groupBy(\"movieId\")\n",
    "users_rated = users_grouped.count()\n",
    "movies_rated = movies_grouped.count()\n",
    "print(\"Average number of ratings per user: \", users_rated.agg(F.mean(\"count\")).collect()[0][0])\n",
    "print(\"Average number of ratings per movie: \", movies_rated.agg(F.mean(\"count\")).collect()[0][0])\n",
    "print(\"Mean rating:\", ratings.agg(F.mean(\"rating\")).collect()[0][0])\n",
    "print(\"Mean rating per user:\", users_grouped.agg(F.mean(\"rating\")).agg(F.mean(\"avg(rating)\")).collect()[0][0])\n",
    "print(\"Mean rating per movie:\", movies_grouped.agg(F.mean(\"rating\")).agg(F.mean(\"avg(rating)\")).collect()[0][0])    "
   ]
  },
  {
   "cell_type": "markdown",
   "metadata": {},
   "source": [
    "## Data Split\n",
    "\n",
    "We need to observe whether the data is dependent of the time. If it is dependent, we need to split the data into training and test sets based on time. If it is not dependent, we can randomly split the data into training and test sets using `TrainValidationSplit` from the `pyspark.ml.tuning` module. We will implement this in the next steps to ensure our model is trained effectively based on the data characteristics."
   ]
  },
  {
   "cell_type": "code",
   "execution_count": 6,
   "metadata": {},
   "outputs": [
    {
     "name": "stdout",
     "output_type": "stream",
     "text": [
      "+----+------------------+-----------+\n",
      "|year|        avg_rating|num_ratings|\n",
      "+----+------------------+-----------+\n",
      "|1995|              3.75|          4|\n",
      "|1996| 3.546167818775827|    1571755|\n",
      "|1997| 3.588877064986213|     685053|\n",
      "|1998|3.5139587387572564|     301639|\n",
      "|1999|3.6165843810879057|    1174973|\n",
      "|2000|3.5765982885160987|    1912843|\n",
      "|2001| 3.533412327380055|    1160425|\n",
      "|2002|3.4843305279265495|     849550|\n",
      "|2003|3.4744290444191424|    1010893|\n",
      "|2004|3.4303692033580697|    1139345|\n",
      "|2005|3.4341227737238778|    1752085|\n",
      "|2006|3.4658399484224525|    1141582|\n",
      "|2007|3.4704753998290805|    1023875|\n",
      "|2008| 3.540532513412135|    1117831|\n",
      "|2009| 3.507221597932352|     889900|\n",
      "|2010| 3.534047079568612|     859736|\n",
      "|2011|3.5623316781542402|     729629|\n",
      "|2012|3.6088359437179807|     696066|\n",
      "|2013|3.6453152802441684|     562563|\n",
      "|2014|3.6117663393525197|     518564|\n",
      "+----+------------------+-----------+\n",
      "only showing top 20 rows\n",
      "\n"
     ]
    }
   ],
   "source": [
    "ratings = ratings.withColumn(\"year\", F.year(F.from_unixtime(F.col(\"timestamp\"))))\n",
    "yearly_trends = (ratings.groupBy(\"year\")\n",
    "                        .agg(\n",
    "                            F.avg(\"rating\").alias(\"avg_rating\"), \n",
    "                            F.count(\"*\").alias(\"num_ratings\")\n",
    "                        )\n",
    "                        .orderBy(\"year\")\n",
    "                )\n",
    "yearly_trends.show()"
   ]
  },
  {
   "cell_type": "code",
   "execution_count": 11,
   "metadata": {},
   "outputs": [
    {
     "name": "stdout",
     "output_type": "stream",
     "text": [
      "+------------------+-----------------+-------------------+----------+------------------+\n",
      "|       mean_rating|    median_rating|         std_rating|max_rating|        min_rating|\n",
      "+------------------+-----------------+-------------------+----------+------------------+\n",
      "|3.5496523638495314|3.548434711534148|0.06706141615685407|      3.75|3.4303692033580697|\n",
      "+------------------+-----------------+-------------------+----------+------------------+\n",
      "\n"
     ]
    }
   ],
   "source": [
    "yearly_trends.agg(F.mean('avg_rating').alias(\"mean_rating\"), \n",
    "                  F.median('avg_rating').alias(\"median_rating\"), \n",
    "                  F.stddev('avg_rating').alias(\"std_rating\"), \n",
    "                  F.max('avg_rating').alias(\"max_rating\"), \n",
    "                  F.min('avg_rating').alias(\"min_rating\")).show()"
   ]
  },
  {
   "cell_type": "code",
   "execution_count": 12,
   "metadata": {},
   "outputs": [
    {
     "data": {
      "image/png": "[encoded data removed]",
      "text/plain": [
       "<Figure size 640x480 with 1 Axes>"
      ]
     },
     "metadata": {},
     "output_type": "display_data"
    }
   ],
   "source": [
    "mean_rating = ratings.agg(F.mean(\"rating\")).collect()[0][0]\n",
    "yearly_trends.toPandas().plot(x=\"year\", y=\"avg_rating\", kind=\"bar\", title=\"Average Rating per Year\")\n",
    "plt.axhline(mean_rating, color='r', linestyle='--', label='Mean Rating')\n",
    "plt.xlabel(\"Year\")\n",
    "plt.legend()\n",
    "plt.title(\"Average Rating per Year with Mean Rating Line\")\n",
    "plt.show()"
   ]
  },
  {
   "cell_type": "markdown",
   "metadata": {},
   "source": [
    "We can observe that the data is independent of the time. Therefore, we can randomly split the data into training and test sets using `TrainValidationSplit` from the `pyspark.ml.tuning` module."
   ]
  },
  {
   "cell_type": "code",
   "execution_count": 6,
   "metadata": {},
   "outputs": [],
   "source": [
    "train_ratings, test_ratings = ratings.randomSplit([0.8, 0.2], seed=42)"
   ]
  },
  {
   "cell_type": "markdown",
   "metadata": {},
   "source": [
    "## Data exploration"
   ]
  },
  {
   "cell_type": "code",
   "execution_count": 17,
   "metadata": {},
   "outputs": [],
   "source": [
    "users_grouped = train_ratings.groupBy(\"userId\")\n",
    "movies_grouped = train_ratings.groupBy(\"movieId\")\n",
    "number_of_ratings = train_ratings.count()"
   ]
  },
  {
   "cell_type": "code",
   "execution_count": null,
   "metadata": {},
   "outputs": [
    {
     "name": "stdout",
     "output_type": "stream",
     "text": [
      "Number of ratings:  25600446\n",
      "Number of users:  200948\n",
      "Number of movies:  80185\n",
      "Matrix sparsity:  0.1588805409555812\n",
      "\n",
      "Average number of ratings per user:  127.39836176523279\n",
      "Average number of ratings per movie:  319.26726943942134\n",
      "Mean rating: 3.5403927142519316\n",
      "Mean rating per user: 3.7044770806023575\n",
      "Mean rating per movie: 3.015131601139284\n"
     ]
    }
   ],
   "source": [
    "number_of_users = train_ratings.select(\"userId\").distinct().count()\n",
    "number_of_movies = train_ratings.select(\"movieId\").distinct().count()\n",
    "number_of_ratings = train_ratings.count()\n",
    "print(\"Number of ratings: \", number_of_ratings)\n",
    "print(\"Number of users: \", number_of_users)\n",
    "print(\"Number of movies: \", number_of_movies)\n",
    "\n",
    "matrix_sparsity = (train_ratings.count() / (number_of_users * number_of_movies)) * 100\n",
    "print(\"Matrix sparsity: \", matrix_sparsity)\n",
    "\n",
    "print()\n",
    "users_rated = users_grouped.count()\n",
    "movies_rated = movies_grouped.count()\n",
    "print(\"Average number of ratings per user: \", users_rated.agg(F.mean(\"count\")).collect()[0][0])\n",
    "print(\"Average number of ratings per movie: \", movies_rated.agg(F.mean(\"count\")).collect()[0][0])\n",
    "print(\"Mean rating:\", train_ratings.agg(F.mean(\"rating\")).collect()[0][0])\n",
    "print(\"Mean rating per user:\", users_grouped.agg(F.mean(\"rating\")).agg(F.mean(\"avg(rating)\")).collect()[0][0])\n",
    "print(\"Mean rating per movie:\", movies_grouped.agg(F.mean(\"rating\")).agg(F.mean(\"avg(rating)\")).collect()[0][0])    "
   ]
  },
  {
   "cell_type": "markdown",
   "metadata": {},
   "source": [
    "Matrix is sparse enough for collaborative filtering."
   ]
  },
  {
   "cell_type": "code",
   "execution_count": 12,
   "metadata": {},
   "outputs": [
    {
     "data": {
      "text/plain": [
       "<Axes: xlabel='rating'>"
      ]
     },
     "execution_count": 12,
     "metadata": {},
     "output_type": "execute_result"
    },
    {
     "data": {
      "image/png": "[encoded data removed]",
      "text/plain": [
       "<Figure size 640x480 with 1 Axes>"
      ]
     },
     "metadata": {},
     "output_type": "display_data"
    }
   ],
   "source": [
    "ratings_distribution = train_ratings.groupBy(\"rating\").count().toPandas().sort_values(\"rating\")\n",
    "ratings_distribution.plot(x=\"rating\", y=\"count\", kind=\"bar\")"
   ]
  },
  {
   "cell_type": "markdown",
   "metadata": {},
   "source": [
    "Here, we can observe that the ratings have a skewed distribution, with most ratings being 3 or 4 stars. In this case, we can use the `median` as a measure of central tendency.\n",
    "\n"
   ]
  },
  {
   "cell_type": "code",
   "execution_count": 12,
   "metadata": {},
   "outputs": [],
   "source": [
    "user_count = users_grouped.count()\n",
    "user_count_df = user_count.toPandas()"
   ]
  },
  {
   "cell_type": "code",
   "execution_count": 13,
   "metadata": {},
   "outputs": [
    {
     "data": {
      "image/png": "[encoded data removed]",
      "text/plain": [
       "<Figure size 1800x600 with 3 Axes>"
      ]
     },
     "metadata": {},
     "output_type": "display_data"
    }
   ],
   "source": [
    "plt.figure(figsize=(18, 6))\n",
    "plt.subplot(1, 3, 1)\n",
    "user_count_df[\"count\"].hist(bins=250, edgecolor=\"black\")\n",
    "plt.title(\"Distribution of Ratings per User\")\n",
    "plt.xlabel(\"Number of Ratings\")\n",
    "plt.ylabel(\"Number of Users\")\n",
    "\n",
    "\n",
    "plt.subplot(1, 3, 2)\n",
    "# Determine the bin edges\n",
    "bin_edges = user_count_df[\"count\"].quantile([i / 250 for i in range(200)])  # First 10 bins\n",
    "\n",
    "# Filter out data within the first 10 bins\n",
    "bin_size = (user_count_df['count'].max() - user_count_df['count'].min()) / 250 \n",
    "filtered_user_count_df = user_count_df[user_count_df[\"count\"] > bin_size * 10]\n",
    "\n",
    "# Plot the histogram\n",
    "filtered_user_count_df[\"count\"].hist(bins=240)  # Adjust bins accordingly\n",
    "plt.title(\"Distribution of Ratings per User (Excluding First 10 Bins)\")\n",
    "plt.xlabel(\"Number of Ratings\")\n",
    "plt.ylabel(\"Number of Users\")\n",
    "\n",
    "plt.subplot(1, 3, 3)\n",
    "# Filter out data within the first 40 bins\n",
    "bin_size = (user_count_df['count'].max() - user_count_df['count'].min()) / 250 \n",
    "filtered_user_count_df = user_count_df[user_count_df[\"count\"] > bin_size * 30]\n",
    "\n",
    "# Plot the histogram\n",
    "filtered_user_count_df[\"count\"].hist(bins=220)  # Adjust bins accordingly\n",
    "plt.title(\"Distribution of Ratings per User (Excluding First 40 Bins)\")\n",
    "plt.xlabel(\"Number of Ratings\")\n",
    "plt.ylabel(\"Number of Users\")\n",
    "plt.show()"
   ]
  },
  {
   "cell_type": "markdown",
   "metadata": {},
   "source": [
    "Many users have rated only a few movies, and many movies have been rated by only a few users."
   ]
  },
  {
   "cell_type": "code",
   "execution_count": 14,
   "metadata": {},
   "outputs": [],
   "source": [
    "movies_count = movies_grouped.count()\n",
    "movies_count_df = movies_count.toPandas()"
   ]
  },
  {
   "cell_type": "code",
   "execution_count": 14,
   "metadata": {},
   "outputs": [
    {
     "data": {
      "image/png": "[encoded data removed]",
      "text/plain": [
       "<Figure size 1800x600 with 3 Axes>"
      ]
     },
     "metadata": {},
     "output_type": "display_data"
    }
   ],
   "source": [
    "plt.figure(figsize=(18, 6))\n",
    "plt.subplot(1, 3, 1)\n",
    "movies_count_df[\"count\"].hist(bins=250, edgecolor=\"black\")\n",
    "plt.title(\"Distribution of Ratings per Movie\")\n",
    "plt.xlabel(\"Number of Ratings\")\n",
    "plt.ylabel(\"Number of Movies\")\n",
    "\n",
    "\n",
    "plt.subplot(1, 3, 2)\n",
    "# Determine the bin edges\n",
    "bin_edges = movies_count_df[\"count\"].quantile([i / 250 for i in range(200)])  # First 10 bins\n",
    "\n",
    "# Filter out data within the first 10 bins\n",
    "bin_size = (movies_count_df['count'].max() - movies_count_df['count'].min()) / 250 \n",
    "filtered_movies_count_df = movies_count_df[movies_count_df[\"count\"] > bin_size * 10]\n",
    "\n",
    "# Plot the histogram\n",
    "filtered_movies_count_df[\"count\"].hist(bins=240)  # Adjust bins accordingly\n",
    "plt.title(\"Distribution of Ratings per Movie (Excluding First 10 Bins)\")\n",
    "plt.xlabel(\"Number of Ratings\")\n",
    "plt.ylabel(\"Number of Movies\")\n",
    "\n",
    "plt.subplot(1, 3, 3)\n",
    "# Filter out data within the first 40 bins\n",
    "bin_size = (movies_count_df['count'].max() - movies_count_df['count'].min()) / 250 \n",
    "filtered_movies_count_df = movies_count_df[movies_count_df[\"count\"] > bin_size * 30]\n",
    "\n",
    "# Plot the histogram\n",
    "filtered_movies_count_df[\"count\"].hist(bins=220)  # Adjust bins accordingly\n",
    "plt.title(\"Distribution of Ratings per Movie (Excluding First 40 Bins)\")\n",
    "plt.xlabel(\"Number of Ratings\")\n",
    "plt.ylabel(\"Number of Movies\")\n",
    "plt.show()"
   ]
  },
  {
   "cell_type": "markdown",
   "metadata": {},
   "source": [
    "Long tail: We can observe that movies which are frequently rated by users are few in number. This is a good sign for neighbourhood-based collaborative filtering.\n",
    "\n",
    "In many cases, ratings of these high frequency movies are not representative of the ratings of low-frequency movies. because of the inherent differences in raing patterns of the 2 classes of items. As a result, prediction process may yield misleading results."
   ]
  },
  {
   "cell_type": "markdown",
   "metadata": {},
   "source": [
    "If we provide commonly rated movies as input to the model, it may not be able to learn the rating patterns of low-frequency movies. This is because the model will be biased towards the rating patterns of high-frequency movies and the user may not be able to get the desired recommendations.\n",
    "\n",
    "Therefore, we can utilize the notion of `Inverse User Frequency` to address this issue. This will help us to balance the rating patterns of high-frequency and low-frequency movies. \n",
    "\n",
    "For each movie $j$ with ratings $m_j$ and total number of ratings $m$, we can calculate the inverse user frequency as follows: \n",
    "$$w_j = \\log \\bigg(\\frac{m}{m_j}\\bigg)$$"
   ]
  },
  {
   "cell_type": "code",
   "execution_count": 18,
   "metadata": {},
   "outputs": [
    {
     "name": "stdout",
     "output_type": "stream",
     "text": [
      "+-------+-----+------------------+--------------------+--------------------+\n",
      "|movieId|count|            weight|               title|              genres|\n",
      "+-------+-----+------------------+--------------------+--------------------+\n",
      "| 146090|    1|17.058120331173033|        Zenda (2009)|  (no genres listed)|\n",
      "| 215975|    1|17.058120331173033| Schmeerguntz (1965)|              Comedy|\n",
      "| 225699|    1|17.058120331173033|         Aura (2018)|              Horror|\n",
      "| 235629|    1|17.058120331173033|  At Sundance (1995)|         Documentary|\n",
      "| 291427|    1|17.058120331173033|Detective Conan: ...|Action|Animation|...|\n",
      "| 138354|    1|17.058120331173033|Scattered Cloud (...|  (no genres listed)|\n",
      "| 118274|    1|17.058120331173033|Legacy of Rage (1...|              Action|\n",
      "| 139155|    1|17.058120331173033|Un fidanzato per ...|              Comedy|\n",
      "| 267474|    1|17.058120331173033|   The Lodger (1967)|              Comedy|\n",
      "| 272891|    1|17.058120331173033|The Other Woman (...|               Drama|\n",
      "+-------+-----+------------------+--------------------+--------------------+\n",
      "only showing top 10 rows\n",
      "\n"
     ]
    }
   ],
   "source": [
    "movie_weights = movies_count.withColumn(\n",
    "    \"weight\", F.log(number_of_ratings / F.col(\"count\")))\n",
    "(movie_weights.join(movies, \"movieId\")\n",
    "              .orderBy(\"weight\", ascending=False)\n",
    "              .show(10))"
   ]
  },
  {
   "cell_type": "code",
   "execution_count": null,
   "metadata": {},
   "outputs": [],
   "source": [
    "# sum_of_weights = movie_weights.agg(F.sum(\"weight\")).collect()[0][0]\n",
    "# movie_weights_normalized = movie_weights.withColumn(\n",
    "#     \"weight\", F.col(\"weight\") / sum_of_weights\n",
    "# )"
   ]
  },
  {
   "cell_type": "markdown",
   "metadata": {},
   "source": [
    "## Metrics\n",
    "\n",
    "We will use the following metrics to evaluate the model:\n",
    "- RMSE: Root Mean Squared Error - Robustness of prediction across the range of ratings. Problem with it is it is sensitive to outliers, which can skew the results and lead to misleading conclusions. RMSE is not a true reflection of the average error.\n",
    "- MAE: Mean Absolute Error - Better reflection of the accuracy when the importance of outliers is not high\n",
    "\n",
    "Prediction of accuracies on sparse items is different from prediction of accuracies on dense items. So, to handle this, compute RMSE or MAE separately for all hidden ratings associated with each item and average over the different items in a weighted fashion. This is called weighted RMSE or weighted MAE."
   ]
  },
  {
   "cell_type": "markdown",
   "metadata": {},
   "source": [
    "## Baseline models\n",
    "We will use a simple baseline model to predict the ratings. The model will be based on the average rating of each movie. This is a simple model that can be used as a baseline for more complex models. We will use the average rating of each movie as the predicted rating for that movie. This model is simple and easy to implement, but it can be improved by using more complex models such as collaborative filtering or content-based filtering."
   ]
  },
  {
   "cell_type": "code",
   "execution_count": null,
   "metadata": {},
   "outputs": [],
   "source": [
    "top_movies = (train_ratings\n",
    "              .groupBy(\"movieId\")\n",
    "              .agg(F.avg(\"rating\").alias(\"avg_rating\"))\n",
    "              .orderBy(F.desc(\"avg_rating\"))\n",
    "              .limit(10))"
   ]
  },
  {
   "cell_type": "markdown",
   "metadata": {},
   "source": [
    "```\n",
    "+-------+----------+\n",
    "|movieId|avg_rating|\n",
    "+-------+----------+\n",
    "| 136998|       5.0|\n",
    "| 137038|       5.0|\n",
    "| 136988|       5.0|\n",
    "| 200312|       5.0|\n",
    "| 209821|       5.0|\n",
    "| 137050|       5.0|\n",
    "| 185241|       5.0|\n",
    "| 135350|       5.0|\n",
    "| 124893|       5.0|\n",
    "| 206721|       5.0|\n",
    "+-------+----------+\n",
    "only showing top 10 rows\n",
    "```"
   ]
  },
  {
   "cell_type": "markdown",
   "metadata": {},
   "source": [
    "Explicit feedback implies that the user has rated the movie. \n",
    "\n",
    "\n",
    "Implicit feedback implies that the user has watched the movie but they did not rate. Since we do not have information about the user watching the movie, we will not be able to use implicit feedback. We will only use explicit feedback for the model. \n"
   ]
  },
  {
   "cell_type": "code",
   "execution_count": null,
   "metadata": {},
   "outputs": [
    {
     "name": "stdout",
     "output_type": "stream",
     "text": [
      "Explicit RMSE:  2.0089087300607473\n"
     ]
    }
   ],
   "source": [
    "explicit_baseline = train_ratings.join(\n",
    "    top_movies, train_ratings.movieId == top_movies.movieId,\n",
    ")\n",
    "evaluator = RegressionEvaluator(\n",
    "    labelCol=\"rating\", predictionCol=\"avg_rating\", metricName=\"rmse\"\n",
    ")\n",
    "explicit_rmse = evaluator.evaluate(explicit_baseline)\n",
    "print(\"Explicit RMSE: \", explicit_rmse)"
   ]
  },
  {
   "cell_type": "markdown",
   "metadata": {},
   "source": [
    "```python\n",
    "test_users = test_movie_ratings.select(\"userId\").distinct().select(\"userId\")\n",
    "users_top_movies = test_users.join(top_movies)\n",
    "implicit_baseline = users_top_movies.join(\n",
    "    test_movie_ratings, [\"userId\", \"movieId\"], \"left\"\n",
    ").select(\n",
    "    users_top_movies.userId, \n",
    "    users_top_movies.movieId,\n",
    "    F.when(F.col(\"rating\").isNull(), 0).otherwise(F.col(\"rating\")).alias(\"rating\"),   \n",
    "    users_top_movies.avg_rating\n",
    ")\n",
    "implicit_rmse = evaluator.evaluate(implicit_baseline)\n",
    "print(\"Implicit RMSE: \", implicit_rmse)\n",
    "```"
   ]
  },
  {
   "cell_type": "markdown",
   "metadata": {},
   "source": [
    "### Average rating\n"
   ]
  },
  {
   "cell_type": "code",
   "execution_count": 17,
   "metadata": {},
   "outputs": [
    {
     "name": "stdout",
     "output_type": "stream",
     "text": [
      "RMSE: 0.963402602485829\n",
      "MAE: 0.7422687164034186\n"
     ]
    }
   ],
   "source": [
    "average_movie_rating = (train_ratings\n",
    "              .groupBy(\"movieId\")\n",
    "              .agg(F.avg(\"rating\").alias(\"avg_rating\"))\n",
    "              .orderBy(F.desc(\"avg_rating\"))\n",
    "              ).select(\"movieId\", \"avg_rating\")\n",
    "\n",
    "average_baseline = test_ratings.join(\n",
    "    average_movie_rating, \"movieId\", \"left\"\n",
    ").select(\n",
    "    test_ratings.userId, \n",
    "    test_ratings.movieId,\n",
    "    test_ratings.rating,\n",
    "    F.when(F.col(\"avg_rating\").isNull(), 0).otherwise(F.col(\"avg_rating\")).alias(\"avg_rating\")\n",
    ")\n",
    "rmse_evaluator = RegressionEvaluator(\n",
    "    labelCol=\"rating\", predictionCol=\"avg_rating\", metricName=\"rmse\"\n",
    ")\n",
    "average_rmse = rmse_evaluator.evaluate(average_baseline)\n",
    "mae_evaluator = RegressionEvaluator(\n",
    "    labelCol=\"rating\", predictionCol=\"avg_rating\", metricName=\"mae\"\n",
    ")\n",
    "average_mae = mae_evaluator.evaluate(average_baseline)\n",
    "print(\"RMSE:\", average_rmse)\n",
    "print(\"MAE:\", average_mae)"
   ]
  },
  {
   "cell_type": "code",
   "execution_count": 28,
   "metadata": {},
   "outputs": [
    {
     "name": "stdout",
     "output_type": "stream",
     "text": [
      "Weighted RMSE: 0.9667046754972082\n",
      "Weighted MAE: 0.7460749507679142\n"
     ]
    }
   ],
   "source": [
    "# Step 1: Join weights\n",
    "average_baseline_with_weights = average_baseline.join(\n",
    "    movie_weights, \"movieId\", \"left\"\n",
    ").select(\n",
    "    average_baseline.userId, \n",
    "    average_baseline.movieId,\n",
    "    average_baseline.rating,\n",
    "    average_baseline.avg_rating,\n",
    "    F.when(F.col(\"weight\").isNull(), 0).otherwise(F.col(\"weight\")).alias(\"weight\")\n",
    ")\n",
    "\n",
    "# Step 2: Calculate absolute error\n",
    "mae_predictions = average_baseline_with_weights.withColumn(\n",
    "    \"absolute_error\", F.abs(F.col(\"rating\") - F.col(\"avg_rating\"))\n",
    ")\n",
    "rmse_predictions = average_baseline_with_weights.withColumn(\n",
    "    \"squared_error\", F.pow(F.col(\"rating\") - F.col(\"avg_rating\"), 2)\n",
    ")\n",
    "\n",
    "# Step 3: Multiply absolute error by weight\n",
    "mae_predictions = mae_predictions.withColumn(\n",
    "    \"weighted_error\", F.col(\"absolute_error\") * F.col(\"weight\")\n",
    ")\n",
    "rmse_predictions = rmse_predictions.withColumn(\n",
    "    \"weighted_squared_error\", F.col(\"squared_error\") * F.col(\"weight\")\n",
    ")\n",
    "\n",
    "# Step 4: Calculate Weighted MAE\n",
    "weighted_rmse = rmse_predictions.agg(\n",
    "    F.sqrt((F.sum(\"weighted_squared_error\") / F.sum(\"weight\"))).alias(\"weighted_rmse\")\n",
    ").collect()[0][\"weighted_rmse\"]\n",
    "weighted_mae = mae_predictions.agg(\n",
    "    (F.sum(\"weighted_error\") / F.sum(\"weight\")).alias(\"weighted_mae\")\n",
    ").collect()[0][\"weighted_mae\"]\n",
    "\n",
    "print(\"Weighted RMSE:\", weighted_rmse)\n",
    "print(\"Weighted MAE:\", weighted_mae)"
   ]
  },
  {
   "cell_type": "markdown",
   "metadata": {},
   "source": [
    "### Median rating\n",
    "\n",
    "Since ratings are skewed, I expect the median rating to provide a more accurate reflection of user preferences. We will use median rating as the baseline for the model. This is a simple model that can be used as a baseline for more complex models. We will use the median rating of each movie as the predicted rating for that movie. This model is simple and easy to implement, but it can be improved by using more complex models such as collaborative filtering or content-based filtering.\n"
   ]
  },
  {
   "cell_type": "code",
   "execution_count": 7,
   "metadata": {},
   "outputs": [
    {
     "name": "stdout",
     "output_type": "stream",
     "text": [
      "RMSE: 0.9845125250844892\n",
      "MAE: 0.7224906004258286\n"
     ]
    }
   ],
   "source": [
    "median_movie_rating = (train_ratings\n",
    "              .groupBy(\"movieId\")\n",
    "              .agg(F.median(\"rating\").alias(\"median_rating\"))\n",
    "              .orderBy(F.desc(\"median_rating\"))\n",
    "              ).select(\"movieId\", \"median_rating\")\n",
    "\n",
    "median_baseline = test_ratings.join(\n",
    "    median_movie_rating, \"movieId\", \"left\"\n",
    ").select(\n",
    "    test_ratings.userId, \n",
    "    test_ratings.movieId,\n",
    "    test_ratings.rating,\n",
    "    F.when(F.col(\"median_rating\").isNull(), 0).otherwise(F.col(\"median_rating\")).alias(\"median_rating\")\n",
    ")\n",
    "rmse_evaluator = RegressionEvaluator(\n",
    "    labelCol=\"rating\", predictionCol=\"median_rating\", metricName=\"rmse\"\n",
    ")\n",
    "median_rmse = rmse_evaluator.evaluate(median_baseline)\n",
    "mae_evaluator = RegressionEvaluator(\n",
    "    labelCol=\"rating\", predictionCol=\"median_rating\", metricName=\"mae\"\n",
    ")\n",
    "median_mae = mae_evaluator.evaluate(median_baseline)\n",
    "print(\"RMSE:\", median_rmse)\n",
    "print(\"MAE:\", median_mae)"
   ]
  },
  {
   "cell_type": "code",
   "execution_count": 16,
   "metadata": {},
   "outputs": [
    {
     "name": "stdout",
     "output_type": "stream",
     "text": [
      "Weighted RMSE: 0.9879927932541871\n",
      "Weighted MAE: 0.7264651013046145\n"
     ]
    }
   ],
   "source": [
    "# Step 1: Join weights\n",
    "median_baseline_with_weights = median_baseline.join(\n",
    "    movie_weights, \"movieId\", \"left\"\n",
    ").select(\n",
    "    median_baseline.userId, \n",
    "    median_baseline.movieId,\n",
    "    median_baseline.rating,\n",
    "    median_baseline.median_rating,\n",
    "    F.when(F.col(\"weight\").isNull(), 0).otherwise(F.col(\"weight\")).alias(\"weight\")\n",
    ")\n",
    "\n",
    "# Step 2: Calculate absolute error\n",
    "mae_predictions = median_baseline_with_weights.withColumn(\n",
    "    \"absolute_error\", F.abs(F.col(\"rating\") - F.col(\"median_rating\"))\n",
    ")\n",
    "rmse_predictions = median_baseline_with_weights.withColumn(\n",
    "    \"squared_error\", F.pow(F.col(\"rating\") - F.col(\"median_rating\"), 2)\n",
    ")\n",
    "\n",
    "# Step 3: Multiply absolute error by weight\n",
    "mae_predictions = mae_predictions.withColumn(\n",
    "    \"weighted_error\", F.col(\"absolute_error\") * F.col(\"weight\")\n",
    ")\n",
    "rmse_predictions = rmse_predictions.withColumn(\n",
    "    \"weighted_squared_error\", F.col(\"squared_error\") * F.col(\"weight\")\n",
    ")\n",
    "\n",
    "# Step 4: Calculate Weighted MAE\n",
    "weighted_rmse = rmse_predictions.agg(\n",
    "    F.sqrt((F.sum(\"weighted_squared_error\") / F.sum(\"weight\"))).alias(\"weighted_rmse\")\n",
    ").collect()[0][\"weighted_rmse\"]\n",
    "weighted_mae = mae_predictions.agg(\n",
    "    (F.sum(\"weighted_error\") / F.sum(\"weight\")).alias(\"weighted_mae\")\n",
    ").collect()[0][\"weighted_mae\"]\n",
    "\n",
    "print(\"Weighted RMSE:\", weighted_rmse)\n",
    "print(\"Weighted MAE:\", weighted_mae)"
   ]
  },
  {
   "cell_type": "markdown",
   "metadata": {},
   "source": [
    "# k-NN\n",
    "\n",
    "We can use User-based collaborative filtering to predict the ratings for the movies. We will use the following measures to compute the similarity between users:\n",
    "- Pearson coefficient (Mean-centered rating): Subtracting the mean from the ratings of each user and then computing the correlation between the ratings of the two users. This is a good measure of similarity between users.\n",
    "- Z score (Normalized rating): Subtracting the mean from the ratings of each user and then dividing by the standard deviation of the ratings of that user. This is a good measure of similarity between users when the ratings are not normally distributed.\n",
    "- Cosine similarity: Computing the cosine of the angle between the ratings of the two users. This is a good measure of similarity between users when the ratings are not normally distributed. I believe this is not the best measure because some users provide very high ratings and some users provide very low ratings. This can skew the results and lead to misleading conclusions.\n",
    "- Weighted Pearson coefficient: Impact of long tail is huge. So, we will use weighted Pearson coefficient to compute the similarity between users. This is a good measure of similarity between users when the ratings are not normally distributed. We will use this measure to compute the similarity between users and then use the similarity to predict the ratings for the movies.\n",
    "\n",
    "We can use Movie-based collaborative filtering to predict the ratings for the movies. We will use the following measures to compute the similarity between movies:\n",
    "- Adjusted cosine similarity: Subtracting the mean from the ratings of each movie and then computing the correlation between the ratings of the two movies. This is a good measure of similarity between movies.\n",
    "- Pearson coefficient (Mean-centered rating): Subtracting the mean from the ratings of each movie and then computing the correlation between the ratings of the two movies. This is a good measure of similarity between movies. But adjusted cosine similarity is better than this measure.\n",
    "\n",
    "Movie-based collaborative filtering is better than user-based collaborative filtering because there are many users who have rated only a few movies and many movies which have been rated by only a few users and a new movie can be suggested if the movie is similar to the movies that the user has already rated. This is not possible with user-based collaborative filtering because there are many users who have rated only a few movies and many movies which have been rated by only a few users. So, we will use movie-based collaborative filtering to predict the ratings for the movies."
   ]
  },
  {
   "cell_type": "markdown",
   "metadata": {},
   "source": [
    "# k-means heuristic"
   ]
  },
  {
   "cell_type": "code",
   "execution_count": 8,
   "metadata": {},
   "outputs": [
    {
     "name": "stdout",
     "output_type": "stream",
     "text": [
      "+-------+------------------+------+---------+---------+--------+------+-----+-----------+-----+-------+---------+------+----+-------+-------+-------+------+--------+---+-------+\n",
      "|movieId|(no genres listed)|action|adventure|animation|children|comedy|crime|documentary|drama|fantasy|film-noir|horror|imax|musical|mystery|romance|sci-fi|thriller|war|western|\n",
      "+-------+------------------+------+---------+---------+--------+------+-----+-----------+-----+-------+---------+------+----+-------+-------+-------+------+--------+---+-------+\n",
      "|  31528|                 0|     1|        1|        0|       0|     0|    0|          0|    1|      0|        0|     0|   0|      0|      0|      0|     0|       0|  1|      0|\n",
      "|  40574|                 0|     1|        0|        0|       0|     0|    1|          0|    1|      0|        0|     0|   0|      0|      0|      0|     0|       0|  0|      0|\n",
      "| 175513|                 0|     0|        0|        0|       0|     1|    0|          0|    0|      0|        0|     0|   0|      0|      0|      0|     0|       0|  0|      0|\n",
      "+-------+------------------+------+---------+---------+--------+------+-----+-----------+-----+-------+---------+------+----+-------+-------+-------+------+--------+---+-------+\n",
      "only showing top 3 rows\n",
      "\n"
     ]
    }
   ],
   "source": [
    "movies_onehot = movies.withColumn(\"genres\", F.lower(F.col(\"genres\")))\n",
    "movies_onehot = movies_onehot.withColumn(\"genres\", F.explode(F.split(F.col(\"genres\"), \"\\\\|\")))\n",
    "movies_onehot = movies_onehot.groupBy(\"movieId\").pivot(\"genres\").count().fillna(0)\n",
    "movies_onehot.show(3)"
   ]
  },
  {
   "cell_type": "code",
   "execution_count": 9,
   "metadata": {},
   "outputs": [
    {
     "name": "stdout",
     "output_type": "stream",
     "text": [
      "+-------+--------------------+\n",
      "|movieId|            features|\n",
      "+-------+--------------------+\n",
      "|  31528|(20,[1,2,8,18],[1...|\n",
      "|  40574|(20,[1,6,8],[1.0,...|\n",
      "| 175513|      (20,[5],[1.0])|\n",
      "+-------+--------------------+\n",
      "only showing top 3 rows\n",
      "\n"
     ]
    }
   ],
   "source": [
    "movie_feature_cols = movies_onehot.columns[1:]\n",
    "movies_assembler = VectorAssembler(inputCols=movie_feature_cols, outputCol=\"features\")\n",
    "movies_onehot = movies_assembler.transform(movies_onehot).select(\"movieId\", \"features\")\n",
    "movies_onehot.show(3)"
   ]
  },
  {
   "cell_type": "code",
   "execution_count": 9,
   "metadata": {},
   "outputs": [
    {
     "name": "stdout",
     "output_type": "stream",
     "text": [
      "KMeans Silhouette for k=4:  0.24222970577819716\n",
      "KMeans Silhouette for k=12:  0.4738618926103709\n",
      "KMeans Silhouette for k=20:  0.5606061695435769\n",
      "KMeans Silhouette for k=28:  0.6020039426897168\n",
      "KMeans Silhouette for k=36:  0.6116452211251541\n",
      "KMeans Silhouette for k=44:  0.6075656203146284\n",
      "KMeans Silhouette for k=52:  0.6650202273386302\n",
      "KMeans Silhouette for k=60:  0.6800371416834112\n",
      "KMeans Silhouette for k=68:  0.6909583308520859\n",
      "KMeans Silhouette for k=76:  0.6920036998114443\n",
      "KMeans Silhouette for k=84:  0.7214286943861922\n",
      "KMeans Silhouette for k=92:  0.7340712354947614\n",
      "KMeans Silhouette for k=100:  0.7493318679448644\n",
      "KMeans Silhouette for k=108:  0.7619219612743282\n",
      "KMeans Silhouette for k=116:  0.7639179536903212\n",
      "KMeans Silhouette for k=124:  0.7836632741331562\n",
      "KMeans Silhouette for k=132:  0.7908585516291085\n",
      "KMeans Silhouette for k=140:  0.7988819858642486\n",
      "KMeans Silhouette for k=148:  0.8048020696230508\n",
      "KMeans Silhouette for k=156:  0.8207905039525566\n",
      "KMeans Silhouette for k=164:  0.8224530474456695\n",
      "KMeans Silhouette for k=172:  0.822065731672469\n",
      "KMeans Silhouette for k=180:  0.8383493030080273\n",
      "KMeans Silhouette for k=188:  0.8339717196551869\n",
      "KMeans Silhouette for k=196:  0.8449795376408664\n",
      "KMeans Silhouette for k=204:  0.8496023577668234\n",
      "KMeans Silhouette for k=212:  0.8584726057067117\n",
      "KMeans Silhouette for k=220:  0.8576560924896963\n",
      "KMeans Silhouette for k=228:  0.8602477563779334\n",
      "KMeans Silhouette for k=236:  0.8654175697916288\n",
      "KMeans Silhouette for k=244:  0.8691487490882434\n",
      "KMeans Silhouette for k=252:  0.8771048512245312\n",
      "KMeans Silhouette for k=260:  0.8798324801264543\n",
      "KMeans Silhouette for k=268:  0.8845863919192567\n",
      "KMeans Silhouette for k=276:  0.8854344812050299\n",
      "KMeans Silhouette for k=284:  0.8889032462109369\n",
      "KMeans Silhouette for k=292:  0.8929843179396858\n",
      "KMeans Silhouette for k=300:  0.8973705482721217\n",
      "KMeans Silhouette for k=308:  0.8986951593501303\n",
      "KMeans Silhouette for k=316:  0.9049283038436138\n",
      "KMeans Silhouette for k=324:  0.9044446755726214\n",
      "KMeans Silhouette for k=332:  0.9062066795514412\n",
      "KMeans Silhouette for k=340:  0.9076422602739271\n",
      "KMeans Silhouette for k=348:  0.9092872442068118\n",
      "KMeans Silhouette for k=356:  0.9105768088126738\n",
      "KMeans Silhouette for k=364:  0.9146529284334359\n",
      "KMeans Silhouette for k=372:  0.9174844413243306\n",
      "KMeans Silhouette for k=380:  0.9197738902198243\n",
      "KMeans Silhouette for k=388:  0.9203487411384444\n",
      "KMeans Silhouette for k=396:  0.9232237208985183\n"
     ]
    }
   ],
   "source": [
    "kmeans_k_silhouette = []\n",
    "max_trial_k = 402\n",
    "jump_k = 8\n",
    "for k in range(4, max_trial_k, jump_k):\n",
    "    kmeans  = KMeans(k=k, seed=1, featuresCol=\"features\", predictionCol=\"cluster\")\n",
    "    kmeans_model = kmeans.fit(movies_onehot)\n",
    "    kmeans_predictions = kmeans_model.transform(movies_onehot)\n",
    "    kmeans_evaluator = ClusteringEvaluator(predictionCol=\"cluster\", featuresCol=\"features\")\n",
    "    kmeans_silhouette = kmeans_evaluator.evaluate(kmeans_predictions)\n",
    "    kmeans_k_silhouette.append(kmeans_silhouette)\n",
    "    print(\"KMeans Silhouette for k={}: \".format(k), kmeans_silhouette)"
   ]
  },
  {
   "cell_type": "code",
   "execution_count": 11,
   "metadata": {},
   "outputs": [
    {
     "data": {
      "image/png": "[encoded data removed]",
      "text/plain": [
       "<Figure size 640x480 with 1 Axes>"
      ]
     },
     "metadata": {},
     "output_type": "display_data"
    }
   ],
   "source": [
    "plt.plot(range(2, max_trial_k, jump_k), kmeans_k_silhouette)\n",
    "plt.xlabel(\"k\")\n",
    "plt.ylabel(\"Silhouette\")\n",
    "plt.title(\"KMeans Silhouette\")\n",
    "plt.grid()\n",
    "plt.show()"
   ]
  },
  {
   "cell_type": "code",
   "execution_count": 10,
   "metadata": {},
   "outputs": [
    {
     "name": "stdout",
     "output_type": "stream",
     "text": [
      "+-------+--------------+\n",
      "|movieId|kmeans_cluster|\n",
      "+-------+--------------+\n",
      "|  31528|            30|\n",
      "|  40574|            67|\n",
      "| 175513|             3|\n",
      "+-------+--------------+\n",
      "only showing top 3 rows\n",
      "\n"
     ]
    }
   ],
   "source": [
    "kmeans  = KMeans(k=150, seed=1, featuresCol=\"features\", predictionCol=\"cluster\")\n",
    "kmeans_model = kmeans.fit(movies_onehot)\n",
    "kmeans_predictions = kmeans_model.transform(movies_onehot)\n",
    "movie_clusters = kmeans_predictions.select(\"movieId\", \"cluster\").withColumnRenamed(\"cluster\", \"kmeans_cluster\")\n",
    "movie_clusters.show(3)"
   ]
  },
  {
   "cell_type": "code",
   "execution_count": 40,
   "metadata": {},
   "outputs": [
    {
     "name": "stdout",
     "output_type": "stream",
     "text": [
      "+--------------+------+-------+------+----------+----+------------------+---------------------+\n",
      "|kmeans_cluster|userId|movieId|rating| timestamp|year|cluster_avg_rating|cluster_median_rating|\n",
      "+--------------+------+-------+------+----------+----+------------------+---------------------+\n",
      "|             3|     1|    223|   3.0| 944082810|1999|3.7777777777777777|                  4.0|\n",
      "|           108|  9048|   2393|   2.5|1261636975|2009|               4.5|                  4.5|\n",
      "|             3|152166|  48385|   3.5|1612201157|2021|            3.9375|                  4.0|\n",
      "+--------------+------+-------+------+----------+----+------------------+---------------------+\n",
      "only showing top 3 rows\n",
      "\n"
     ]
    }
   ],
   "source": [
    "train_movie_clusters = train_ratings.join(\n",
    "    movie_clusters, \"movieId\", \"left\"\n",
    ")\n",
    "train_cluster_rating_groupby = (train_movie_clusters\n",
    "                .groupBy(\"kmeans_cluster\", \"userId\")\n",
    "                .agg(\n",
    "                    F.avg(\"rating\").alias(\"cluster_avg_rating\"),\n",
    "                    F.median(\"rating\").alias(\"cluster_median_rating\")\n",
    "                )\n",
    "                .orderBy(F.desc(\"cluster_avg_rating\"))\n",
    "                ).select(\"kmeans_cluster\", \"userId\", \"cluster_avg_rating\", \"cluster_median_rating\")\n",
    "\n",
    "test_movie_clusters = test_ratings.join(\n",
    "    movie_clusters, \"movieId\", \"left\"\n",
    ")\n",
    "test_cluster_ratings = test_movie_clusters.join(\n",
    "    train_cluster_rating_groupby, [\"kmeans_cluster\", \"userId\"], \"left\"\n",
    ").withColumn(\n",
    "    \"cluster_avg_rating\", \n",
    "    F.when(F.col(\"cluster_avg_rating\").isNull(), 0).otherwise(F.col(\"cluster_avg_rating\"))\n",
    ").withColumn(\n",
    "    \"cluster_median_rating\", \n",
    "    F.when(F.col(\"cluster_median_rating\").isNull(), 0).otherwise(F.col(\"cluster_median_rating\"))\n",
    ")\n",
    "test_cluster_ratings.show(3)"
   ]
  },
  {
   "cell_type": "markdown",
   "metadata": {},
   "source": [
    "### Average from k-means"
   ]
  },
  {
   "cell_type": "code",
   "execution_count": 22,
   "metadata": {},
   "outputs": [
    {
     "name": "stdout",
     "output_type": "stream",
     "text": [
      "RMSE: 1.7920258158551299\n",
      "MAE: 1.2221473141135588\n",
      "Weighted RMSE: 1.7379092677955603\n",
      "Weighted MAE: 1.1820002496695707\n"
     ]
    }
   ],
   "source": [
    "rmse_evaluator = RegressionEvaluator(\n",
    "    labelCol=\"rating\", predictionCol=\"cluster_avg_rating\", metricName=\"rmse\"\n",
    ")\n",
    "cluster_rmse = rmse_evaluator.evaluate(test_cluster_ratings)\n",
    "mae_evaluator = RegressionEvaluator(\n",
    "    labelCol=\"rating\", predictionCol=\"cluster_avg_rating\", metricName=\"mae\"\n",
    ")\n",
    "cluster_mae = mae_evaluator.evaluate(test_cluster_ratings)\n",
    "print(\"RMSE:\", cluster_rmse)\n",
    "print(\"MAE:\", cluster_mae)\n",
    "\n",
    "# Step 1: Join weights\n",
    "test_cluster_ratings_with_weights = test_cluster_ratings.join(\n",
    "    movie_weights, \"movieId\", \"left\"\n",
    ").select(\n",
    "    test_cluster_ratings.userId, \n",
    "    test_cluster_ratings.movieId,\n",
    "    test_cluster_ratings.rating,\n",
    "    test_cluster_ratings.cluster_avg_rating,\n",
    "    F.when(F.col(\"weight\").isNull(), 0).otherwise(F.col(\"weight\")).alias(\"weight\")\n",
    ")\n",
    "\n",
    "# Step 2: Calculate absolute error\n",
    "mae_predictions = test_cluster_ratings_with_weights.withColumn(\n",
    "    \"absolute_error\", F.abs(F.col(\"rating\") - F.col(\"cluster_avg_rating\"))\n",
    ")\n",
    "rmse_predictions = test_cluster_ratings_with_weights.withColumn(\n",
    "    \"squared_error\", F.pow(F.col(\"rating\") - F.col(\"cluster_avg_rating\"), 2)\n",
    ")\n",
    "\n",
    "# Step 3: Multiply absolute error by weight\n",
    "mae_predictions = mae_predictions.withColumn(\n",
    "    \"weighted_error\", F.col(\"absolute_error\") * F.col(\"weight\")\n",
    ")\n",
    "rmse_predictions = rmse_predictions.withColumn(\n",
    "    \"weighted_squared_error\", F.col(\"squared_error\") * F.col(\"weight\")\n",
    ")\n",
    "\n",
    "# Step 4: Calculate Weighted MAE\n",
    "weighted_rmse = rmse_predictions.agg(\n",
    "    F.sqrt((F.sum(\"weighted_squared_error\") / F.sum(\"weight\"))).alias(\"weighted_rmse\")\n",
    ").collect()[0][\"weighted_rmse\"]\n",
    "weighted_mae = mae_predictions.agg(\n",
    "    (F.sum(\"weighted_error\") / F.sum(\"weight\")).alias(\"weighted_mae\")\n",
    ").collect()[0][\"weighted_mae\"]\n",
    "\n",
    "print(\"Weighted RMSE:\", weighted_rmse)\n",
    "print(\"Weighted MAE:\", weighted_mae)"
   ]
  },
  {
   "cell_type": "markdown",
   "metadata": {},
   "source": [
    "### Average from Median"
   ]
  },
  {
   "cell_type": "code",
   "execution_count": 33,
   "metadata": {},
   "outputs": [
    {
     "name": "stdout",
     "output_type": "stream",
     "text": [
      "RMSE: 1.8070506869183274\n",
      "MAE: 1.2159590253256451\n",
      "Weighted RMSE: 1.7542431993197327\n",
      "Weighted MAE: 1.1759189610245813\n"
     ]
    }
   ],
   "source": [
    "rmse_evaluator = RegressionEvaluator(\n",
    "    labelCol=\"rating\", predictionCol=\"cluster_median_rating\", metricName=\"rmse\"\n",
    ")\n",
    "cluster_rmse = rmse_evaluator.evaluate(test_cluster_ratings)\n",
    "mae_evaluator = RegressionEvaluator(\n",
    "    labelCol=\"rating\", predictionCol=\"cluster_median_rating\", metricName=\"mae\"\n",
    ")\n",
    "cluster_mae = mae_evaluator.evaluate(test_cluster_ratings)\n",
    "print(\"RMSE:\", cluster_rmse)\n",
    "print(\"MAE:\", cluster_mae)\n",
    "\n",
    "# Step 1: Join weights\n",
    "test_cluster_ratings_with_weights = test_cluster_ratings.join(\n",
    "    movie_weights, \"movieId\", \"left\"\n",
    ").select(\n",
    "    test_cluster_ratings.userId, \n",
    "    test_cluster_ratings.movieId,\n",
    "    test_cluster_ratings.rating,\n",
    "    test_cluster_ratings.cluster_median_rating,\n",
    "    F.when(F.col(\"weight\").isNull(), 0).otherwise(F.col(\"weight\")).alias(\"weight\")\n",
    ")\n",
    "\n",
    "# Step 2: Calculate absolute error\n",
    "mae_predictions = test_cluster_ratings_with_weights.withColumn(\n",
    "    \"absolute_error\", F.abs(F.col(\"rating\") - F.col(\"cluster_median_rating\"))\n",
    ")\n",
    "rmse_predictions = test_cluster_ratings_with_weights.withColumn(\n",
    "    \"squared_error\", F.pow(F.col(\"rating\") - F.col(\"cluster_median_rating\"), 2)\n",
    ")\n",
    "\n",
    "# Step 3: Multiply absolute error by weight\n",
    "mae_predictions = mae_predictions.withColumn(\n",
    "    \"weighted_error\", F.col(\"absolute_error\") * F.col(\"weight\")\n",
    ")\n",
    "rmse_predictions = rmse_predictions.withColumn(\n",
    "    \"weighted_squared_error\", F.col(\"squared_error\") * F.col(\"weight\")\n",
    ")\n",
    "\n",
    "# Step 4: Calculate Weighted MAE\n",
    "weighted_rmse = rmse_predictions.agg(\n",
    "    F.sqrt((F.sum(\"weighted_squared_error\") / F.sum(\"weight\"))).alias(\"weighted_rmse\")\n",
    ").collect()[0][\"weighted_rmse\"]\n",
    "weighted_mae = mae_predictions.agg(\n",
    "    (F.sum(\"weighted_error\") / F.sum(\"weight\")).alias(\"weighted_mae\")\n",
    ").collect()[0][\"weighted_mae\"]\n",
    "\n",
    "print(\"Weighted RMSE:\", weighted_rmse)\n",
    "print(\"Weighted MAE:\", weighted_mae)"
   ]
  },
  {
   "cell_type": "markdown",
   "metadata": {},
   "source": [
    "### Average from top k"
   ]
  },
  {
   "cell_type": "code",
   "execution_count": 45,
   "metadata": {},
   "outputs": [],
   "source": [
    "from pyspark.sql import Window\n",
    "from pyspark.sql.functions import col, row_number, avg\n",
    "\n",
    "k = 10\n",
    "\n",
    "# Define a window specification to rank rows by rating within each userId\n",
    "window_spec = Window.partitionBy(\"kmeans_cluster\", \"userId\").orderBy(col(\"rating\").desc())\n",
    "\n",
    "# Add a rank column to identify the top k ratings for each userId\n",
    "ranked_df = train_movie_clusters.withColumn(\"rank\", row_number().over(window_spec))\n",
    "\n",
    "# Filter the top k rows for each userId\n",
    "top_k_df = ranked_df.filter(col(\"rank\") <= k)\n",
    "\n",
    "# Calculate the average of the top k ratings for each userId\n",
    "average_top_k = top_k_df.groupBy(\"kmeans_cluster\", \"userId\") \\\n",
    "                        .agg(avg(\"rating\").alias(\"avg_top_k_rating\"))\n",
    "\n",
    "test_movie_clusters = test_ratings.join(\n",
    "    movie_clusters, \"movieId\", \"left\"\n",
    ")\n",
    "test_cluster_ratings = test_movie_clusters.join(\n",
    "    average_top_k, [\"kmeans_cluster\", \"userId\"], \"left\"\n",
    ").withColumn(\n",
    "    \"avg_top_k_rating\", \n",
    "    F.when(F.col(\"avg_top_k_rating\").isNull(), 0).otherwise(F.col(\"avg_top_k_rating\"))\n",
    ")"
   ]
  },
  {
   "cell_type": "code",
   "execution_count": 46,
   "metadata": {},
   "outputs": [
    {
     "name": "stdout",
     "output_type": "stream",
     "text": [
      "RMSE: 1.853757323265893\n",
      "MAE: 1.2979657359204226\n",
      "Weighted RMSE: 1.81532649454268\n",
      "Weighted MAE: 1.2757878037766963\n"
     ]
    }
   ],
   "source": [
    "rmse_evaluator = RegressionEvaluator(\n",
    "    labelCol=\"rating\", predictionCol=\"avg_top_k_rating\", metricName=\"rmse\"\n",
    ")\n",
    "cluster_rmse = rmse_evaluator.evaluate(test_cluster_ratings)\n",
    "mae_evaluator = RegressionEvaluator(\n",
    "    labelCol=\"rating\", predictionCol=\"avg_top_k_rating\", metricName=\"mae\"\n",
    ")\n",
    "cluster_mae = mae_evaluator.evaluate(test_cluster_ratings)\n",
    "print(\"RMSE:\", cluster_rmse)\n",
    "print(\"MAE:\", cluster_mae)\n",
    "\n",
    "# Step 1: Join weights\n",
    "test_cluster_ratings_with_weights = test_cluster_ratings.join(\n",
    "    movie_weights, \"movieId\", \"left\"\n",
    ").select(\n",
    "    test_cluster_ratings.userId, \n",
    "    test_cluster_ratings.movieId,\n",
    "    test_cluster_ratings.rating,\n",
    "    test_cluster_ratings.avg_top_k_rating,\n",
    "    F.when(F.col(\"weight\").isNull(), 0).otherwise(F.col(\"weight\")).alias(\"weight\")\n",
    ")\n",
    "\n",
    "# Step 2: Calculate absolute error\n",
    "mae_predictions = test_cluster_ratings_with_weights.withColumn(\n",
    "    \"absolute_error\", F.abs(F.col(\"rating\") - F.col(\"avg_top_k_rating\"))\n",
    ")\n",
    "rmse_predictions = test_cluster_ratings_with_weights.withColumn(\n",
    "    \"squared_error\", F.pow(F.col(\"rating\") - F.col(\"avg_top_k_rating\"), 2)\n",
    ")\n",
    "\n",
    "# Step 3: Multiply absolute error by weight\n",
    "mae_predictions = mae_predictions.withColumn(\n",
    "    \"weighted_error\", F.col(\"absolute_error\") * F.col(\"weight\")\n",
    ")\n",
    "rmse_predictions = rmse_predictions.withColumn(\n",
    "    \"weighted_squared_error\", F.col(\"squared_error\") * F.col(\"weight\")\n",
    ")\n",
    "\n",
    "# Step 4: Calculate Weighted MAE\n",
    "weighted_rmse = rmse_predictions.agg(\n",
    "    F.sqrt((F.sum(\"weighted_squared_error\") / F.sum(\"weight\"))).alias(\"weighted_rmse\")\n",
    ").collect()[0][\"weighted_rmse\"]\n",
    "weighted_mae = mae_predictions.agg(\n",
    "    (F.sum(\"weighted_error\") / F.sum(\"weight\")).alias(\"weighted_mae\")\n",
    ").collect()[0][\"weighted_mae\"]\n",
    "\n",
    "print(\"Weighted RMSE:\", weighted_rmse)\n",
    "print(\"Weighted MAE:\", weighted_mae)"
   ]
  },
  {
   "cell_type": "markdown",
   "metadata": {},
   "source": [
    "## ALS"
   ]
  },
  {
   "cell_type": "code",
   "execution_count": 7,
   "metadata": {},
   "outputs": [
    {
     "data": {
      "text/plain": [
       "ALS_7b96675416b1"
      ]
     },
     "execution_count": 7,
     "metadata": {},
     "output_type": "execute_result"
    }
   ],
   "source": [
    "als_model = ALS(\n",
    "    maxIter=5,\n",
    "    regParam=0.01,\n",
    "    userCol=\"userId\",\n",
    "    itemCol=\"movieId\",\n",
    "    ratingCol=\"rating\",\n",
    "    coldStartStrategy=\"drop\",\n",
    "    implicitPrefs=False,\n",
    "    nonnegative=True,\n",
    "    rank=10,\n",
    "    seed=42,\n",
    ")\n",
    "als_model.setPredictionCol(\"prediction\")"
   ]
  },
  {
   "cell_type": "code",
   "execution_count": 8,
   "metadata": {},
   "outputs": [],
   "source": [
    "from pyspark.ml.tuning import TrainValidationSplit, ParamGridBuilder\n",
    "param_grid = ParamGridBuilder() \\\n",
    "    .addGrid(als_model.rank, [13, 15, 17]) \\\n",
    "    .addGrid(als_model.maxIter, [19, 20]) \\\n",
    "    .addGrid(als_model.regParam, [.18, .19]) \\\n",
    "    .build()\n",
    "\n",
    "evaluator = RegressionEvaluator(\n",
    "    labelCol=\"rating\", predictionCol=\"prediction\", metricName=\"rmse\"\n",
    ")\n",
    "\n",
    "# tvs = TrainValidationSplit(\n",
    "#     estimator=als_model,\n",
    "#     # estimatorParamMaps=param_grid,\n",
    "#     evaluator=evaluator,\n",
    "#     trainRatio=0.8,\n",
    "# )\n",
    "\n",
    "cross_validator = CrossValidator(\n",
    "    estimator=als_model,\n",
    "    estimatorParamMaps=param_grid,\n",
    "    evaluator=evaluator,\n",
    "    numFolds=3,\n",
    "    parallelism=2,  # Adjust based on your cluster size\n",
    ")"
   ]
  },
  {
   "cell_type": "code",
   "execution_count": 9,
   "metadata": {},
   "outputs": [],
   "source": [
    "train = False\n",
    "model = None\n",
    "if train == True:\n",
    "    model = cross_validator.fit(train_ratings)\n",
    "    # Save the ALS model\n",
    "    model.write().overwrite().save(os.path.join(project_path, \"als_model\"))\n",
    "else:\n",
    "    # Load the ALS model\n",
    "    model = CrossValidatorModel.load(os.path.join(project_path, \"als_model\"))\n",
    "    \n",
    "best_model = model.bestModel"
   ]
  },
  {
   "cell_type": "code",
   "execution_count": 10,
   "metadata": {},
   "outputs": [
    {
     "name": "stdout",
     "output_type": "stream",
     "text": [
      "ALS RMSE:  0.8493693300259775\n",
      "ALS MAE:  0.6628882806698647\n"
     ]
    }
   ],
   "source": [
    "predictions = best_model.transform(test_ratings)\n",
    "als_rmse = evaluator.evaluate(predictions)\n",
    "mae_evaluator = RegressionEvaluator(\n",
    "    labelCol=\"rating\", predictionCol=\"prediction\", metricName=\"mae\"\n",
    ")\n",
    "als_mae = mae_evaluator.evaluate(predictions)\n",
    "print(\"ALS RMSE: \", als_rmse)\n",
    "print(\"ALS MAE: \", als_mae)"
   ]
  },
  {
   "cell_type": "code",
   "execution_count": 19,
   "metadata": {},
   "outputs": [
    {
     "name": "stdout",
     "output_type": "stream",
     "text": [
      "Weighted RMSE: 0.8511551928349687\n",
      "Weighted MAE: 0.6639617351422683\n"
     ]
    }
   ],
   "source": [
    "# Step 1: Join weights\n",
    "als_predictions_with_weights = predictions.join(\n",
    "    movie_weights, \"movieId\", \"left\"\n",
    ").select(\n",
    "    predictions.userId, \n",
    "    predictions.movieId,\n",
    "    predictions.rating,\n",
    "    predictions.prediction,\n",
    "    F.when(F.col(\"weight\").isNull(), 0).otherwise(F.col(\"weight\")).alias(\"weight\")\n",
    ")\n",
    "\n",
    "# Step 2: Calculate absolute error\n",
    "mae_predictions = als_predictions_with_weights.withColumn(\n",
    "    \"absolute_error\", F.abs(F.col(\"rating\") - F.col(\"prediction\"))\n",
    ")\n",
    "rmse_predictions = als_predictions_with_weights.withColumn(\n",
    "    \"squared_error\", F.pow(F.col(\"rating\") - F.col(\"prediction\"), 2)\n",
    ")\n",
    "\n",
    "# Step 3: Multiply absolute error by weight\n",
    "mae_predictions = mae_predictions.withColumn(\n",
    "    \"weighted_error\", F.col(\"absolute_error\") * F.col(\"weight\")\n",
    ")\n",
    "rmse_predictions = rmse_predictions.withColumn(\n",
    "    \"weighted_squared_error\", F.col(\"squared_error\") * F.col(\"weight\")\n",
    ")\n",
    "\n",
    "# Step 4: Calculate Weighted MAE\n",
    "weighted_rmse = rmse_predictions.agg(\n",
    "    F.sqrt((F.sum(\"weighted_squared_error\") / F.sum(\"weight\"))).alias(\"weighted_rmse\")\n",
    ").collect()[0][\"weighted_rmse\"]\n",
    "weighted_mae = mae_predictions.agg(\n",
    "    (F.sum(\"weighted_error\") / F.sum(\"weight\")).alias(\"weighted_mae\")\n",
    ").collect()[0][\"weighted_mae\"]\n",
    "\n",
    "print(\"Weighted RMSE:\", weighted_rmse)\n",
    "print(\"Weighted MAE:\", weighted_mae)"
   ]
  },
  {
   "cell_type": "code",
   "execution_count": null,
   "metadata": {},
   "outputs": [
    {
     "name": "stdout",
     "output_type": "stream",
     "text": [
      "Best model parameters: \n",
      "Rank:  13\n"
     ]
    }
   ],
   "source": [
    "print(\"Best model parameters: \")\n",
    "print(\"Rank: \", best_model.rank)\n",
    "# print(\"MaxIter: \", loaded_model._java_obj.parent().getMaxIter())  # Access parent ALS object\n",
    "# print(\"RegParam: \", loaded_model._java_obj.parent().getRegParam())  # Access parent ALS object"
   ]
  },
  {
   "cell_type": "code",
   "execution_count": 23,
   "metadata": {},
   "outputs": [
    {
     "name": "stdout",
     "output_type": "stream",
     "text": [
      "+------+--------------------------------------------------------------------------------------------+\n",
      "|userId|movieIds                                                                                    |\n",
      "+------+--------------------------------------------------------------------------------------------+\n",
      "|31    |[8961.0, 72226.0, 296.0, 51255.0, 134853.0, 50.0, 122918.0, 201340.0, 268642.0, 4816.0]     |\n",
      "|34    |[5952.0, 1265.0, 1302.0, 1959.0, 56367.0, 150.0, 380.0, 1097.0, 2174.0, 2762.0]             |\n",
      "|53    |[4993.0, 69844.0]                                                                           |\n",
      "|65    |[356.0, 912.0, 21.0, 225.0, 1036.0, 1222.0, 1259.0, 1265.0, 1270.0, 2803.0]                 |\n",
      "|78    |[34.0, 249.0, 373.0, 898.0, 906.0, 1088.0, 1183.0, 1200.0, 1233.0, 1250.0]                  |\n",
      "|81    |[49396.0, 53322.0, 192803.0, 93510.0, 143347.0, 159817.0, 6539.0, 41566.0, 55765.0, 88125.0]|\n",
      "|85    |[2333.0, 2605.0, 2763.0, 3176.0, 4447.0, 5299.0, 1721.0, 65682.0, 1041.0, 2572.0]           |\n",
      "|101   |[45517.0, 90647.0, 106696.0, 132630.0, 167036.0, 177765.0, 616.0, 32031.0, 49274.0, 87876.0]|\n",
      "|108   |[318.0, 356.0, 2762.0, 3978.0, 3998.0, 3901.0]                                              |\n",
      "|115   |[161.0, 316.0, 454.0, 457.0, 736.0, 1079.0, 1198.0, 1200.0, 1396.0, 1608.0]                 |\n",
      "+------+--------------------------------------------------------------------------------------------+\n",
      "only showing top 10 rows\n",
      "\n"
     ]
    }
   ],
   "source": [
    "from pyspark.sql.window import Window\n",
    "\n",
    "# Define a window partitioned by userId and ordered by rating in descending order\n",
    "window_spec = Window.partitionBy(\"userId\")  \\\n",
    "                    .orderBy(F.desc(\"rating\")) \n",
    "\n",
    "# Add a row number to each row within the window\n",
    "test_accepted_ratings = test_ratings.where(F.col(\"rating\") >= 3)\n",
    "test_ranked_ratings = test_accepted_ratings.withColumn(\"rank\", F.row_number().over(window_spec))\n",
    "\n",
    "# Filter to keep only the top 10 movies for each user\n",
    "test_top_10_movies_per_user = test_ranked_ratings.filter(F.col(\"rank\") <= 10).drop(\"rank\")\n",
    "\n",
    "\n",
    "# Collapse all filtered movies into a single array for each userId\n",
    "test_top_10_movies_per_user = test_top_10_movies_per_user.withColumn(\"movieId\", F.col(\"movieId\").cast(\"double\"))\n",
    "test_movies_collapsed = test_top_10_movies_per_user.groupBy(\"userId\").agg(collect_list(\"movieId\").alias(\"movieIds\"))\n",
    "\n",
    "test_movies_collapsed.show(10, truncate=False)"
   ]
  },
  {
   "cell_type": "code",
   "execution_count": 29,
   "metadata": {},
   "outputs": [
    {
     "name": "stdout",
     "output_type": "stream",
     "text": [
      "+------+----------------------------------------------------------------------------------------------------+---------------------------------------------------------------------------------------+\n",
      "|userId|recommendations                                                                                     |movieIds                                                                               |\n",
      "+------+----------------------------------------------------------------------------------------------------+---------------------------------------------------------------------------------------+\n",
      "|31    |[270306.0, 240070.0, 240054.0, 151989.0, 194434.0, 225435.0, 227066.0, 210561.0, 276819.0, 292313.0]|[8961.0, 72226.0, 296.0, 51255.0, 134853.0, 50.0, 122918.0, 201340.0, 268642.0, 4816.0]|\n",
      "|53    |[225435.0, 166641.0, 270306.0, 240070.0, 240054.0, 225437.0, 225425.0, 222368.0, 209193.0, 194434.0]|[4993.0, 69844.0]                                                                      |\n",
      "|65    |[270306.0, 240070.0, 240054.0, 151989.0, 210561.0, 194434.0, 276819.0, 193257.0, 227066.0, 292313.0]|[356.0, 912.0, 21.0, 225.0, 1036.0, 1222.0, 1259.0, 1265.0, 1270.0, 2803.0]            |\n",
      "|78    |[225435.0, 270306.0, 240070.0, 240054.0, 166641.0, 225437.0, 225425.0, 151989.0, 194434.0, 222368.0]|[34.0, 249.0, 373.0, 898.0, 906.0, 1088.0, 1183.0, 1200.0, 1233.0, 1250.0]             |\n",
      "|85    |[225435.0, 270306.0, 240070.0, 240054.0, 166641.0, 225437.0, 225425.0, 222368.0, 194434.0, 151989.0]|[2333.0, 2605.0, 2763.0, 3176.0, 4447.0, 5299.0, 1721.0, 65682.0, 1041.0, 2572.0]      |\n",
      "|133   |[270306.0, 240070.0, 240054.0, 151989.0, 194434.0, 225435.0, 292313.0, 291519.0, 283581.0, 270280.0]|[58559.0, 608.0, 3578.0, 7153.0, 1653.0, 1721.0, 183837.0]                             |\n",
      "|137   |[270306.0, 240070.0, 240054.0, 225435.0, 151989.0, 194434.0, 193257.0, 203882.0, 227066.0, 166641.0]|[48.0, 480.0, 914.0, 1033.0, 2123.0, 3034.0, 3254.0, 3964.0, 5618.0, 8651.0]           |\n",
      "|148   |[166641.0, 225435.0, 270306.0, 240070.0, 240054.0, 222368.0, 225437.0, 225425.0, 209193.0, 194434.0]|[260.0, 2947.0, 2948.0, 1036.0, 1221.0, 2990.0, 4005.0, 5989.0, 6874.0, 7153.0]        |\n",
      "|243   |[225435.0, 270306.0, 240070.0, 240054.0, 166641.0, 225437.0, 225425.0, 222368.0, 194434.0, 151989.0]|[780.0, 237.0, 315.0, 329.0, 1398.0]                                                   |\n",
      "|251   |[225435.0, 166641.0, 270306.0, 240070.0, 240054.0, 222368.0, 225437.0, 225425.0, 209193.0, 194434.0]|[318.0, 60069.0, 3147.0, 6874.0, 168252.0, 527.0, 2353.0, 2959.0, 36529.0]             |\n",
      "+------+----------------------------------------------------------------------------------------------------+---------------------------------------------------------------------------------------+\n",
      "only showing top 10 rows\n",
      "\n"
     ]
    }
   ],
   "source": [
    "user_recommendations = best_model.recommendForAllUsers(10)\n",
    "user_recommendations_transformed = user_recommendations.withColumn(\n",
    "    \"recommendations\",\n",
    "    expr(\"transform(recommendations, x -> double(x.movieId))\")\n",
    ")\n",
    "user_rec_with_test_rec = user_recommendations_transformed.join(\n",
    "    test_movies_collapsed, \"userId\"\n",
    ")\n",
    "user_rec_with_test_rec.show(10, truncate=False)"
   ]
  },
  {
   "cell_type": "code",
   "execution_count": 30,
   "metadata": {},
   "outputs": [
    {
     "name": "stdout",
     "output_type": "stream",
     "text": [
      "Ranking Recall:  6.247875722254408e-07\n"
     ]
    }
   ],
   "source": [
    "recall_ranking_evaluator = RankingEvaluator(\n",
    "    labelCol=\"movieIds\", \n",
    "    predictionCol=\"recommendations\", \n",
    "    metricName=\"recallAtK\",\n",
    "    k=10\n",
    ")\n",
    "\n",
    "ranking_recall = recall_ranking_evaluator.evaluate(user_rec_with_test_rec)\n",
    "print(\"Ranking Recall: \", ranking_recall)"
   ]
  },
  {
   "cell_type": "code",
   "execution_count": 31,
   "metadata": {},
   "outputs": [
    {
     "name": "stdout",
     "output_type": "stream",
     "text": [
      "Ranking Precision:  4.99830057780355e-07\n"
     ]
    }
   ],
   "source": [
    "precision_ranking_evaluator = RankingEvaluator(\n",
    "    labelCol=\"movieIds\", \n",
    "    predictionCol=\"recommendations\", \n",
    "    metricName=\"precisionAtK\",\n",
    "    k=10\n",
    ")\n",
    "\n",
    "ranking_precision = precision_ranking_evaluator.evaluate(user_rec_with_test_rec)\n",
    "print(\"Ranking Precision: \", ranking_precision)"
   ]
  },
  {
   "cell_type": "code",
   "execution_count": 32,
   "metadata": {},
   "outputs": [
    {
     "name": "stdout",
     "output_type": "stream",
     "text": [
      "Ranking Normalized Discounted Cumulative Gain:  4.503469253072324e-07\n"
     ]
    }
   ],
   "source": [
    "ndcg_ranking_evaluator = RankingEvaluator(\n",
    "    labelCol=\"movieIds\", \n",
    "    predictionCol=\"recommendations\", \n",
    "    metricName=\"ndcgAtK\",\n",
    "    k=10\n",
    ")\n",
    "\n",
    "ranking_ndcg = ndcg_ranking_evaluator.evaluate(user_rec_with_test_rec)\n",
    "print(\"Ranking Normalized Discounted Cumulative Gain: \", ranking_ndcg)"
   ]
  },
  {
   "cell_type": "code",
   "execution_count": 33,
   "metadata": {},
   "outputs": [],
   "source": [
    "all_user_recommendations = best_model.recommendForAllUsers(100)\n",
    "\n",
    "# Transform recommendations to ensure movie IDs are doubles\n",
    "all_user_recommendations_transformed = all_user_recommendations.withColumn(\n",
    "    \"recommendations\",\n",
    "    expr(\"transform(recommendations, x -> double(x.movieId))\")\n",
    ")\n",
    "\n",
    "test_accepted_ratings_double = test_accepted_ratings.withColumn(\"movieId\", F.col(\"movieId\").cast(\"double\"))\n",
    "test_all_accepted_movies = test_accepted_ratings_double.groupBy(\"userId\").agg(collect_list(\"movieId\").alias(\"movieIds\"))\n",
    "\n",
    "all_train_test_user_rec = all_user_recommendations_transformed.join(\n",
    "    test_all_accepted_movies, \"userId\"\n",
    ")"
   ]
  },
  {
   "cell_type": "code",
   "execution_count": 34,
   "metadata": {},
   "outputs": [
    {
     "name": "stdout",
     "output_type": "stream",
     "text": [
      "+------------------------+\n",
      "|avg(num_common_elements)|\n",
      "+------------------------+\n",
      "|    1.549473179119099...|\n",
      "+------------------------+\n",
      "\n"
     ]
    }
   ],
   "source": [
    "common_elements_df = all_train_test_user_rec.withColumn(\n",
    "    \"common_elements\",\n",
    "    array_intersect(\"recommendations\", \"movieIds\")\n",
    ")\n",
    "common_elements_df = common_elements_df.withColumn(\n",
    "    \"num_common_elements\", F.size(\"common_elements\")\n",
    ")\n",
    "common_elements_df.agg(F.mean(\"num_common_elements\")).show()\n",
    "# common_elements_df.show(truncate=False)"
   ]
  },
  {
   "cell_type": "code",
   "execution_count": 35,
   "metadata": {},
   "outputs": [
    {
     "data": {
      "text/plain": [
       "1.5494731791191002e-06"
      ]
     },
     "execution_count": 35,
     "metadata": {},
     "output_type": "execute_result"
    }
   ],
   "source": [
    "precision_ranking_evaluator = RankingEvaluator(\n",
    "    labelCol=\"movieIds\", \n",
    "    predictionCol=\"recommendations\", \n",
    "    metricName=\"precisionAtK\",\n",
    "    k=100\n",
    ")\n",
    "precision_ranking_evaluator.evaluate(all_train_test_user_rec)"
   ]
  },
  {
   "cell_type": "code",
   "execution_count": 36,
   "metadata": {},
   "outputs": [
    {
     "data": {
      "text/plain": [
       "2.754789275921747e-06"
      ]
     },
     "execution_count": 36,
     "metadata": {},
     "output_type": "execute_result"
    }
   ],
   "source": [
    "recall_ranking_evaluator = RankingEvaluator(\n",
    "    labelCol=\"movieIds\", \n",
    "    predictionCol=\"recommendations\", \n",
    "    metricName=\"recallAtK\",\n",
    "    k=100\n",
    ")\n",
    "recall_ranking_evaluator.evaluate(all_train_test_user_rec)"
   ]
  },
  {
   "cell_type": "code",
   "execution_count": 37,
   "metadata": {},
   "outputs": [
    {
     "data": {
      "text/plain": [
       "2.2385457926259196e-06"
      ]
     },
     "execution_count": 37,
     "metadata": {},
     "output_type": "execute_result"
    }
   ],
   "source": [
    "ndcg_ranking_evaluator = RankingEvaluator(\n",
    "    labelCol=\"movieIds\", \n",
    "    predictionCol=\"recommendations\", \n",
    "    metricName=\"ndcgAtK\",\n",
    "    k=100\n",
    ")\n",
    "ndcg_ranking_evaluator.evaluate(all_train_test_user_rec)"
   ]
  }
 ],
 "metadata": {
  "kernelspec": {
   "display_name": ".venv",
   "language": "python",
   "name": "python3"
  },
  "language_info": {
   "codemirror_mode": {
    "name": "ipython",
    "version": 3
   },
   "file_extension": ".py",
   "mimetype": "text/x-python",
   "name": "python",
   "nbconvert_exporter": "python",
   "pygments_lexer": "ipython3",
   "version": "3.11.9"
  }
 },
 "nbformat": 4,
 "nbformat_minor": 2
}
